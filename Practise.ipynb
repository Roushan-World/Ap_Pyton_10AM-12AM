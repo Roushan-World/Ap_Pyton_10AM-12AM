{
 "cells": [
  {
   "cell_type": "code",
   "execution_count": 2,
   "id": "338c2338",
   "metadata": {},
   "outputs": [
    {
     "name": "stdout",
     "output_type": "stream",
     "text": [
      "3.412\n",
      "<class 'str'>\n"
     ]
    }
   ],
   "source": [
    "# convert the data float(3.412) into string and integer.\n",
    "\n",
    "x = 3.412\n",
    "\n",
    "print(str(x))\n",
    "print(type(str(x)))"
   ]
  },
  {
   "cell_type": "code",
   "execution_count": 6,
   "id": "19840541",
   "metadata": {},
   "outputs": [
    {
     "name": "stdout",
     "output_type": "stream",
     "text": [
      "Enter User Name:xyz\n",
      "Good Morning!  xyz\n"
     ]
    }
   ],
   "source": [
    "# Write a program to take input from user and display warm \"wishes.\"\n",
    "\n",
    "x= input('Enter User Name:')\n",
    "print('Good Morning! ',x)"
   ]
  },
  {
   "cell_type": "code",
   "execution_count": 8,
   "id": "147728d9",
   "metadata": {},
   "outputs": [
    {
     "name": "stdout",
     "output_type": "stream",
     "text": [
      "Enter First Number: 78552\n",
      "Enter Second Number: 789526\n",
      "The Sum of Two Number is: 868078\n"
     ]
    }
   ],
   "source": [
    "# Write a program to add two number with user input.\n",
    "\n",
    "x = int(input('Enter First Number: '))\n",
    "y = int(input('Enter Second Number: '))\n",
    "\n",
    "z = x+y\n",
    "print('The Sum of Two Number is:',z)"
   ]
  },
  {
   "cell_type": "code",
   "execution_count": 9,
   "id": "8c4c545a",
   "metadata": {},
   "outputs": [
    {
     "name": "stdout",
     "output_type": "stream",
     "text": [
      "Enter first Number: 12\n",
      "Enter Second Number: 12\n",
      "Enter Third Number: 12\n",
      "The Sum of three Number is:  36\n"
     ]
    }
   ],
   "source": [
    "# Write a program to add three number with user input.\n",
    "\n",
    "x = int(input('Enter first Number: '))\n",
    "y = int(input('Enter Second Number: '))\n",
    "z = int(input('Enter Third Number: '))\n",
    "\n",
    "print('The Sum of three Number is: ',x+y+z)"
   ]
  },
  {
   "cell_type": "code",
   "execution_count": 12,
   "id": "a73293f6",
   "metadata": {},
   "outputs": [
    {
     "name": "stdout",
     "output_type": "stream",
     "text": [
      "Enter any number: 9\n",
      "The Square of the Number is: 81\n"
     ]
    }
   ],
   "source": [
    "# Write a program to calculate the exponential product.\n",
    "\n",
    "t= int(input('Enter any number: '))\n",
    "\n",
    "z = t**2\n",
    "print('The Square of the Number is:',z)"
   ]
  },
  {
   "cell_type": "code",
   "execution_count": 13,
   "id": "94bc0658",
   "metadata": {},
   "outputs": [
    {
     "name": "stdout",
     "output_type": "stream",
     "text": [
      "Enter any number: 5\n",
      "The Square of the Number is:  25\n"
     ]
    }
   ],
   "source": [
    "y = int(input('Enter any number: '))\n",
    "z = 2\n",
    "\n",
    "x=y**z\n",
    "print('The Square of the Number is: ',x)"
   ]
  },
  {
   "cell_type": "code",
   "execution_count": 16,
   "id": "579624e6",
   "metadata": {},
   "outputs": [
    {
     "name": "stdout",
     "output_type": "stream",
     "text": [
      "Enter Length of Rectangle:7\n",
      "Enter Breadth of Reactangle:5\n",
      "The Perimeter of Rectangle is: 24\n"
     ]
    }
   ],
   "source": [
    "# Find the area of rectangle\n",
    "# perimeter of rectagle 2(l+b)\n",
    "\n",
    "l=int(input('Enter Length of Rectangle:'))\n",
    "b=int(input('Enter Breadth of Reactangle:'))\n",
    "\n",
    "z = 2*(l+b)\n",
    "print('The Perimeter of Rectangle is:',z)"
   ]
  },
  {
   "cell_type": "code",
   "execution_count": 1,
   "id": "89dfe5b5",
   "metadata": {},
   "outputs": [],
   "source": [
    "\n",
    "# Python program to demonstrate\n",
    "# string slicing\n",
    " \n",
    "# String slicing\n",
    "String = 'ASTRING'\n",
    "\n",
    "# Output is\n",
    "#String slicing\n",
    "#AST\n",
    "#SR\n",
    "#GITA"
   ]
  },
  {
   "cell_type": "code",
   "execution_count": 3,
   "id": "0548e3d4",
   "metadata": {},
   "outputs": [],
   "source": [
    " #Python program to demonstrate\n",
    "# string slicing\n",
    " \n",
    "# String slicing\n",
    "String = 'GEEKSFORGEEKS'\n",
    "\n",
    "# output = GEE"
   ]
  },
  {
   "cell_type": "code",
   "execution_count": 4,
   "id": "19e520bc",
   "metadata": {},
   "outputs": [
    {
     "data": {
      "text/plain": [
       "\"Helen Adams Keller was born a healthy child in Tuscumbia, Alabama, on June 27, 1880. Her parents were Kate Adams Keller and Colonel Arthur Keller.\\n\\nOn her father's side she was descended from Colonel Alexander Spottswood, a colonial governor of Virginia, and on her mother's side, she was related to a number of prominent New England families. Helen's father, Arthur Keller, was a captain in the Confederate army. The family lost most of its wealth during the Civil War and lived modestly.\\n\\nAfter the war, Captain Keller edited a local newspaper, the North Alabamian, and in 1885, under the Cleveland administration, he was appointed Marshal of North Alabama.\\n\\nAt the age of 19 months, Helen became deaf and blind as a result of an unknown illness, perhaps rubella or scarlet fever. As Helen grew from infancy into childhood, she became wild and unruly.\""
      ]
     },
     "execution_count": 4,
     "metadata": {},
     "output_type": "execute_result"
    }
   ],
   "source": [
    "# Write a program to count the length of the text. convert in Upper case, lowercase, capitalize,\n",
    "# count in the total word of (Helen and Keller), \n",
    "'''Text = Portrait of Helen Keller as a young girl, with a white dog on her lap (August 1887)Helen Adams Keller was born a healthy child in Tuscumbia, Alabama, on June 27, 1880. Her parents were Kate Adams Keller and Colonel Arthur Keller.\n",
    "\n",
    "On her father's side she was descended from Colonel Alexander Spottswood, a colonial governor of Virginia, and on her mother's side, she was related to a number of prominent New England families. Helen's father, Arthur Keller, was a captain in the Confederate army. The family lost most of its wealth during the Civil War and lived modestly.\n",
    "\n",
    "After the war, Captain Keller edited a local newspaper, the North Alabamian, and in 1885, under the Cleveland administration, he was appointed Marshal of North Alabama.\n",
    "\n",
    "At the age of 19 months, Helen became deaf and blind as a result of an unknown illness, perhaps rubella or scarlet fever. As Helen grew from infancy into childhood, she became wild and unruly.'''"
   ]
  },
  {
   "cell_type": "code",
   "execution_count": 6,
   "id": "337eda00",
   "metadata": {},
   "outputs": [
    {
     "name": "stdout",
     "output_type": "stream",
     "text": [
      "Sullivan, the woman who was Helen Keller's teacher, started her work when she was just twenty years old. Keller was six at the time. Nobody had been able to find a way to communicate with her, and her family had sent out a request for a suitable instructor. So far, education for deaf-blind individuals had been largely unsuccessful. It took Sullivan time to successfully communicate with Keller. She would place physical objects in one of Helen's hands and would use American Sign Language (ASL) to spell out the word on her other hand. Eventually, Keller came to understand the connection between the signed words and the objects around her, suddenly opening the door to much more complex communication. Sullivan was hailed as a ''miracle worker'' for her work.\n"
     ]
    }
   ],
   "source": [
    "text1=\"Sullivan, the woman who was Helen Keller's teacher, started her work when she was just twenty years old. Keller was six at the time. Nobody had been able to find a way to communicate with her, and her family had sent out a request for a suitable instructor. So far, education for deaf-blind individuals had been largely unsuccessful. It took Sullivan time to successfully communicate with Keller. She would place physical objects in one of Helen's hands and would use American Sign Language (ASL) to spell out the word on her other hand. Eventually, Keller came to understand the connection between the signed words and the objects around her, suddenly opening the door to much more complex communication. Sullivan was hailed as a ''miracle worker'' for her work.\"\n",
    "print(text1)"
   ]
  },
  {
   "cell_type": "code",
   "execution_count": 7,
   "id": "d10eeb63",
   "metadata": {},
   "outputs": [
    {
     "name": "stdout",
     "output_type": "stream",
     "text": [
      ".krow reh rof ''rekrow elcarim'' a sa deliah saw navilluS .noitacinummoc xelpmoc erom hcum ot rood eht gninepo ylneddus ,reh dnuora stcejbo eht dna sdrow dengis eht neewteb noitcennoc eht dnatsrednu ot emac relleK ,yllautnevE .dnah rehto reh no drow eht tuo lleps ot )LSA( egaugnaL ngiS naciremA esu dluow dna sdnah s'neleH fo eno ni stcejbo lacisyhp ecalp dluow ehS .relleK htiw etacinummoc yllufsseccus ot emit navilluS koot tI .lufsseccusnu ylegral neeb dah slaudividni dnilb-faed rof noitacude ,raf oS .rotcurtsni elbatius a rof tseuqer a tuo tnes dah ylimaf reh dna ,reh htiw etacinummoc ot yaw a dnif ot elba neeb dah ydoboN .emit eht ta xis saw relleK .dlo sraey ytnewt tsuj saw ehs nehw krow reh detrats ,rehcaet s'relleK neleH saw ohw namow eht ,navilluS\n"
     ]
    }
   ],
   "source": [
    "print(text1[::-1])"
   ]
  },
  {
   "cell_type": "code",
   "execution_count": null,
   "id": "a2ffe7ca",
   "metadata": {},
   "outputs": [],
   "source": []
  }
 ],
 "metadata": {
  "kernelspec": {
   "display_name": "Python 3 (ipykernel)",
   "language": "python",
   "name": "python3"
  },
  "language_info": {
   "codemirror_mode": {
    "name": "ipython",
    "version": 3
   },
   "file_extension": ".py",
   "mimetype": "text/x-python",
   "name": "python",
   "nbconvert_exporter": "python",
   "pygments_lexer": "ipython3",
   "version": "3.9.13"
  }
 },
 "nbformat": 4,
 "nbformat_minor": 5
}
