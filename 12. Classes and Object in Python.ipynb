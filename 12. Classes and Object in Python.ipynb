{
 "cells": [
  {
   "cell_type": "markdown",
   "id": "fbc80a71",
   "metadata": {},
   "source": [
    "# 12. Classes and Objects in Python\n",
    "\n",
    " * __Python is an object-oriented programming language.__\n",
    " * __unlike procedure-oriented programming, where the main emphasis is on functions, object-oriented programming stresses on objects.__\n",
    " * __An object is simply a collection of data (variables) and methods (functions) that act on those data.__\n",
    " * __Similary, a class is blueprint for that object.__\n",
    " * __Like function definitions begin with the def keyword in Python, class definitions begin with a class keyword.__\n",
    " * __The first string inside the class is called docstring and has a brief description of the class.__\n",
    " * __Although not mandatory, this is highly recommended.__"
   ]
  },
  {
   "cell_type": "markdown",
   "id": "f70b4c77",
   "metadata": {},
   "source": [
    "class student:   <-------------------> class\n",
    "\n",
    "        school_name='A B C School' <---------------- Class variable\n",
    "        \n",
    "        def __init__ (self,name,age): <------------- constructor to initialize instance variable.\n",
    "        \n",
    "            self.name=name \n",
    "            \n",
    "            self.age=age\n",
    "            \n",
    "        @classmethod\n",
    "        \n",
    "        def change_school(cls,name):\n",
    "        \n",
    "            print(student.school_name)\n",
    "            \n",
    "            student.school_name=name\n",
    "            \n",
    "x=student('Jessa',14)\n",
    "\n",
    "student.change_school('xyz school')"
   ]
  },
  {
   "cell_type": "code",
   "execution_count": 24,
   "id": "e993f2f9",
   "metadata": {},
   "outputs": [
    {
     "name": "stdout",
     "output_type": "stream",
     "text": [
      "<class '__main__.Data'>\n"
     ]
    }
   ],
   "source": [
    "class Data:\n",
    "    num = 3.14\n",
    "print(Data)"
   ]
  },
  {
   "cell_type": "code",
   "execution_count": 5,
   "id": "dd74c9cf",
   "metadata": {},
   "outputs": [
    {
     "name": "stdout",
     "output_type": "stream",
     "text": [
      "10\n"
     ]
    }
   ],
   "source": [
    "class Data:\n",
    "    num = 10\n",
    "var=Data()\n",
    "print(var.num)"
   ]
  },
  {
   "cell_type": "code",
   "execution_count": 22,
   "id": "d787c612",
   "metadata": {},
   "outputs": [
    {
     "name": "stdout",
     "output_type": "stream",
     "text": [
      "Vaishnav\n",
      "21\n",
      "914538663\n",
      "5.8\n",
      "81\n",
      "vaishnav32@gmail.com\n",
      "Pune\n"
     ]
    }
   ],
   "source": [
    "class vaishnav:\n",
    "    def __init__(self,name,age,contact,email,address,weight,height):\n",
    "        self.name=name\n",
    "        self.age=age\n",
    "        self.contact=contact\n",
    "        self.email=email\n",
    "        self.address=address\n",
    "        self.weight=weight\n",
    "        self.height=height\n",
    "value=vaishnav('Vaishnav',21,'914538663','vaishnav32@gmail.com','Pune','81',5.8)\n",
    "print(value.name)\n",
    "print(value.age)\n",
    "print(value.contact)\n",
    "print(value.height)\n",
    "print(value.weight)\n",
    "print(value.email)\n",
    "print(value.address)\n"
   ]
  },
  {
   "cell_type": "code",
   "execution_count": 27,
   "id": "93ee62b4",
   "metadata": {},
   "outputs": [
    {
     "name": "stdout",
     "output_type": "stream",
     "text": [
      "My name is Vaishnav\n",
      "My age is 21\n",
      "You can contact me on 914538663\n",
      "My mail is that vaishnav32@gmail.com\n",
      "My address is Pune\n",
      "My weight is 81\n",
      "My height is 5.8\n"
     ]
    }
   ],
   "source": [
    "class vaishnav:\n",
    "    def __init__(self,name,age,contact,email,address,weight,height):\n",
    "        self.name=name\n",
    "        self.age=age\n",
    "        self.contact=contact\n",
    "        self.email=email\n",
    "        self.address=address\n",
    "        self.weight=weight\n",
    "        self.height=height\n",
    "    def msg_detial(self):\n",
    "        print('My name is',self.name)\n",
    "        print('My age is',self.age)\n",
    "        print('You can contact me on',self.contact)\n",
    "        print('My mail is that',self.email)\n",
    "        print('My address is',self.address)\n",
    "        print('My weight is',self.weight)\n",
    "        print('My height is',self.height)\n",
    "value=vaishnav('Vaishnav',21,'914538663','vaishnav32@gmail.com','Pune','81',5.8)\n",
    "value.msg_detial()"
   ]
  },
  {
   "cell_type": "markdown",
   "id": "975b11aa",
   "metadata": {},
   "source": [
    "# Self parameter\n",
    "\n",
    " * __The self parameter is a reference to the current instance of the class, and used to access variables that belongs to the class.__\n",
    " * __It does not have to be named self, you can call it whatever you like, but it has to be the first parameter of any function in the class.__\n",
    " "
   ]
  },
  {
   "cell_type": "code",
   "execution_count": 28,
   "id": "4c91e7da",
   "metadata": {},
   "outputs": [
    {
     "name": "stdout",
     "output_type": "stream",
     "text": [
      "My name is Vaishnav\n",
      "My age is 21\n",
      "You can contact me on 914538663\n",
      "My mail is that vaishnav32@gmail.com\n",
      "My address is Pune\n",
      "My weight is 81\n",
      "My height is 5.8\n"
     ]
    }
   ],
   "source": [
    "class vaishnav:\n",
    "    def __init__(x,name,age,contact,email,address,weight,height):\n",
    "        x.name=name\n",
    "        x.age=age\n",
    "        x.contact=contact\n",
    "        x.email=email\n",
    "        x.address=address\n",
    "        x.weight=weight\n",
    "        x.height=height\n",
    "    def msg_detial(x):\n",
    "        print('My name is',x.name)\n",
    "        print('My age is',x.age)\n",
    "        print('You can contact me on',x.contact)\n",
    "        print('My mail is that',x.email)\n",
    "        print('My address is',x.address)\n",
    "        print('My weight is',x.weight)\n",
    "        print('My height is',x.height)\n",
    "value=vaishnav('Vaishnav',21,'914538663','vaishnav32@gmail.com','Pune','81',5.8)\n",
    "value.msg_detial()"
   ]
  },
  {
   "cell_type": "code",
   "execution_count": 38,
   "id": "6c6509eb",
   "metadata": {},
   "outputs": [
    {
     "name": "stdout",
     "output_type": "stream",
     "text": [
      "10\n",
      "5\n",
      "blue\n"
     ]
    },
    {
     "data": {
      "image/png": "[encoded data removed]",
      "text/plain": [
       "<Figure size 640x480 with 1 Axes>"
      ]
     },
     "metadata": {},
     "output_type": "display_data"
    }
   ],
   "source": [
    "# import library\n",
    "\n",
    "import matplotlib\n",
    "import matplotlib.pyplot as plt \n",
    "%matplotlib inline\n",
    "\n",
    "# creating a class\n",
    "\n",
    "class Rectangle:\n",
    "    def __init__(self,width,height,color):\n",
    "        self.width=width\n",
    "        self.height=height\n",
    "        self.color=color\n",
    "    def drawRectangle(self):\n",
    "        plt.gca().add_patch(plt.Rectangle((0,0),self.width,self.height,fc=self.color))\n",
    "        plt.axis('Scaled')\n",
    "        plt.show\n",
    "        \n",
    "#\n",
    "one_Rectangle=Rectangle(10,5,'blue')\n",
    "\n",
    "print(one_Rectangle.width)\n",
    "print(one_Rectangle.height)\n",
    "print(one_Rectangle.color)\n",
    "one_Rectangle.drawRectangle()"
   ]
  },
  {
   "cell_type": "code",
   "execution_count": 39,
   "id": "8b015c1e",
   "metadata": {},
   "outputs": [
    {
     "data": {
      "image/png": "[encoded data removed]",
      "text/plain": [
       "<Figure size 640x480 with 1 Axes>"
      ]
     },
     "metadata": {},
     "output_type": "display_data"
    }
   ],
   "source": [
    "second_Rectangle=Rectangle(20,10,'red')\n",
    "second_Rectangle.drawRectangle()"
   ]
  },
  {
   "cell_type": "code",
   "execution_count": 40,
   "id": "a69675be",
   "metadata": {},
   "outputs": [
    {
     "data": {
      "image/png": "[encoded data removed]",
      "text/plain": [
       "<Figure size 640x480 with 1 Axes>"
      ]
     },
     "metadata": {},
     "output_type": "display_data"
    }
   ],
   "source": [
    "third_square=Rectangle(10,10,'yellow')\n",
    "third_square.drawRectangle()"
   ]
  },
  {
   "cell_type": "code",
   "execution_count": 43,
   "id": "56763769",
   "metadata": {},
   "outputs": [
    {
     "data": {
      "image/png": "[encoded data removed]",
      "text/plain": [
       "<Figure size 640x480 with 1 Axes>"
      ]
     },
     "metadata": {},
     "output_type": "display_data"
    }
   ],
   "source": [
    "third_square=Rectangle(30,10,'green')\n",
    "third_square.drawRectangle()"
   ]
  },
  {
   "cell_type": "code",
   "execution_count": null,
   "id": "e3abd39e",
   "metadata": {},
   "outputs": [],
   "source": []
  }
 ],
 "metadata": {
  "kernelspec": {
   "display_name": "Python 3 (ipykernel)",
   "language": "python",
   "name": "python3"
  },
  "language_info": {
   "codemirror_mode": {
    "name": "ipython",
    "version": 3
   },
   "file_extension": ".py",
   "mimetype": "text/x-python",
   "name": "python",
   "nbconvert_exporter": "python",
   "pygments_lexer": "ipython3",
   "version": "3.9.13"
  }
 },
 "nbformat": 4,
 "nbformat_minor": 5
}
