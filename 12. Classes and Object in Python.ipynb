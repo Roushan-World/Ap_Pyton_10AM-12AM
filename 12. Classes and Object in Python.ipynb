{
 "cells": [
  {
   "cell_type": "markdown",
   "id": "fbc80a71",
   "metadata": {},
   "source": [
    "# 12. Classes and Objects in Python\n",
    "\n",
    " * __Python is an object-oriented programming language.__\n",
    " * __unlike procedure-oriented programming, where the main emphasis is on functions, object-oriented programming stresses on objects.__\n",
    " * __An object is simply a collection of data (variables) and methods (functions) that act on those data.__\n",
    " * __Similary, a class is blueprint for that object.__\n",
    " * __Like function definitions begin with the def keyword in Python, class definitions begin with a class keyword.__\n",
    " * __The first string inside the class is called docstring and has a brief description of the class.__\n",
    " * __Although not mandatory, this is highly recommended.__"
   ]
  },
  {
   "cell_type": "markdown",
   "id": "f70b4c77",
   "metadata": {},
   "source": [
    "class student:   <-------------------> class\n",
    "\n",
    "        school_name='A B C School' <---------------- Class variable\n",
    "        \n",
    "        def __init__ (self,name,age): <------------- constructor to initialize instance variable.\n",
    "        \n",
    "            self.name=name \n",
    "            \n",
    "            self.age=age\n",
    "            \n",
    "        @classmethod\n",
    "        \n",
    "        def change_school(cls,name):\n",
    "        \n",
    "            print(student.school_name)\n",
    "            \n",
    "            student.school_name=name\n",
    "            \n",
    "x=student('Jessa',14)\n",
    "\n",
    "student.change_school('xyz school')"
   ]
  },
  {
   "cell_type": "code",
   "execution_count": 24,
   "id": "e993f2f9",
   "metadata": {},
   "outputs": [
    {
     "name": "stdout",
     "output_type": "stream",
     "text": [
      "<class '__main__.Data'>\n"
     ]
    }
   ],
   "source": [
    "class Data:\n",
    "    num = 3.14\n",
    "print(Data)"
   ]
  },
  {
   "cell_type": "code",
   "execution_count": 5,
   "id": "dd74c9cf",
   "metadata": {},
   "outputs": [
    {
     "name": "stdout",
     "output_type": "stream",
     "text": [
      "10\n"
     ]
    }
   ],
   "source": [
    "class Data:\n",
    "    num = 10\n",
    "var=Data()\n",
    "print(var.num)"
   ]
  },
  {
   "cell_type": "code",
   "execution_count": 22,
   "id": "d787c612",
   "metadata": {},
   "outputs": [
    {
     "name": "stdout",
     "output_type": "stream",
     "text": [
      "Vaishnav\n",
      "21\n",
      "914538663\n",
      "5.8\n",
      "81\n",
      "vaishnav32@gmail.com\n",
      "Pune\n"
     ]
    }
   ],
   "source": [
    "class vaishnav:\n",
    "    def __init__(self,name,age,contact,email,address,weight,height):\n",
    "        self.name=name\n",
    "        self.age=age\n",
    "        self.contact=contact\n",
    "        self.email=email\n",
    "        self.address=address\n",
    "        self.weight=weight\n",
    "        self.height=height\n",
    "value=vaishnav('Vaishnav',21,'914538663','vaishnav32@gmail.com','Pune','81',5.8)\n",
    "print(value.name)\n",
    "print(value.age)\n",
    "print(value.contact)\n",
    "print(value.height)\n",
    "print(value.weight)\n",
    "print(value.email)\n",
    "print(value.address)\n"
   ]
  },
  {
   "cell_type": "code",
   "execution_count": 27,
   "id": "93ee62b4",
   "metadata": {},
   "outputs": [
    {
     "name": "stdout",
     "output_type": "stream",
     "text": [
      "My name is Vaishnav\n",
      "My age is 21\n",
      "You can contact me on 914538663\n",
      "My mail is that vaishnav32@gmail.com\n",
      "My address is Pune\n",
      "My weight is 81\n",
      "My height is 5.8\n"
     ]
    }
   ],
   "source": [
    "class vaishnav:\n",
    "    def __init__(self,name,age,contact,email,address,weight,height):\n",
    "        self.name=name\n",
    "        self.age=age\n",
    "        self.contact=contact\n",
    "        self.email=email\n",
    "        self.address=address\n",
    "        self.weight=weight\n",
    "        self.height=height\n",
    "    def msg_detial(self):\n",
    "        print('My name is',self.name)\n",
    "        print('My age is',self.age)\n",
    "        print('You can contact me on',self.contact)\n",
    "        print('My mail is that',self.email)\n",
    "        print('My address is',self.address)\n",
    "        print('My weight is',self.weight)\n",
    "        print('My height is',self.height)\n",
    "value=vaishnav('Vaishnav',21,'914538663','vaishnav32@gmail.com','Pune','81',5.8)\n",
    "value.msg_detial()"
   ]
  },
  {
   "cell_type": "markdown",
   "id": "975b11aa",
   "metadata": {},
   "source": [
    "# Self parameter\n",
    "\n",
    " * __The self parameter is a reference to the current instance of the class, and used to access variables that belongs to the class.__\n",
    " * __It does not have to be named self, you can call it whatever you like, but it has to be the first parameter of any function in the class.__\n",
    " "
   ]
  },
  {
   "cell_type": "code",
   "execution_count": 28,
   "id": "4c91e7da",
   "metadata": {},
   "outputs": [
    {
     "name": "stdout",
     "output_type": "stream",
     "text": [
      "My name is Vaishnav\n",
      "My age is 21\n",
      "You can contact me on 914538663\n",
      "My mail is that vaishnav32@gmail.com\n",
      "My address is Pune\n",
      "My weight is 81\n",
      "My height is 5.8\n"
     ]
    }
   ],
   "source": [
    "class vaishnav:\n",
    "    def __init__(x,name,age,contact,email,address,weight,height):\n",
    "        x.name=name\n",
    "        x.age=age\n",
    "        x.contact=contact\n",
    "        x.email=email\n",
    "        x.address=address\n",
    "        x.weight=weight\n",
    "        x.height=height\n",
    "    def msg_detial(x):\n",
    "        print('My name is',x.name)\n",
    "        print('My age is',x.age)\n",
    "        print('You can contact me on',x.contact)\n",
    "        print('My mail is that',x.email)\n",
    "        print('My address is',x.address)\n",
    "        print('My weight is',x.weight)\n",
    "        print('My height is',x.height)\n",
    "value=vaishnav('Vaishnav',21,'914538663','vaishnav32@gmail.com','Pune','81',5.8)\n",
    "value.msg_detial()"
   ]
  },
  {
   "cell_type": "code",
   "execution_count": 38,
   "id": "6c6509eb",
   "metadata": {},
   "outputs": [
    {
     "name": "stdout",
     "output_type": "stream",
     "text": [
      "10\n",
      "5\n",
      "blue\n"
     ]
    },
    {
     "data": {
      "image/png": "[encoded data removed]",
      "text/plain": [
       "<Figure size 640x480 with 1 Axes>"
      ]
     },
     "metadata": {},
     "output_type": "display_data"
    }
   ],
   "source": [
    "# import library\n",
    "\n",
    "import matplotlib\n",
    "import matplotlib.pyplot as plt \n",
    "%matplotlib inline\n",
    "\n",
    "# creating a class\n",
    "\n",
    "class Rectangle:\n",
    "    def __init__(self,width,height,color):\n",
    "        self.width=width\n",
    "        self.height=height\n",
    "        self.color=color\n",
    "    def drawRectangle(self):\n",
    "        plt.gca().add_patch(plt.Rectangle((0,0),self.width,self.height,fc=self.color))\n",
    "        plt.axis('Scaled')\n",
    "        plt.show\n",
    "        \n",
    "#\n",
    "one_Rectangle=Rectangle(10,5,'blue')\n",
    "\n",
    "print(one_Rectangle.width)\n",
    "print(one_Rectangle.height)\n",
    "print(one_Rectangle.color)\n",
    "one_Rectangle.drawRectangle()"
   ]
  },
  {
   "cell_type": "code",
   "execution_count": 39,
   "id": "8b015c1e",
   "metadata": {},
   "outputs": [
    {
     "data": {
      "image/png": "[encoded data removed]",
      "text/plain": [
       "<Figure size 640x480 with 1 Axes>"
      ]
     },
     "metadata": {},
     "output_type": "display_data"
    }
   ],
   "source": [
    "second_Rectangle=Rectangle(20,10,'red')\n",
    "second_Rectangle.drawRectangle()"
   ]
  },
  {
   "cell_type": "code",
   "execution_count": 40,
   "id": "a69675be",
   "metadata": {},
   "outputs": [
    {
     "data": {
      "image/png": "[encoded data removed]",
      "text/plain": [
       "<Figure size 640x480 with 1 Axes>"
      ]
     },
     "metadata": {},
     "output_type": "display_data"
    }
   ],
   "source": [
    "third_square=Rectangle(10,10,'yellow')\n",
    "third_square.drawRectangle()"
   ]
  },
  {
   "cell_type": "code",
   "execution_count": 43,
   "id": "56763769",
   "metadata": {},
   "outputs": [
    {
     "data": {
      "image/png": "[encoded data removed]",
      "text/plain": [
       "<Figure size 640x480 with 1 Axes>"
      ]
     },
     "metadata": {},
     "output_type": "display_data"
    }
   ],
   "source": [
    "third_square=Rectangle(30,10,'green')\n",
    "third_square.drawRectangle()"
   ]
  },
  {
   "cell_type": "code",
   "execution_count": 1,
   "id": "e3abd39e",
   "metadata": {},
   "outputs": [
    {
     "name": "stdout",
     "output_type": "stream",
     "text": [
      "10\n",
      "5\n",
      "blue\n"
     ]
    },
    {
     "data": {
      "image/png": "[encoded data removed]",
      "text/plain": [
       "<Figure size 640x480 with 1 Axes>"
      ]
     },
     "metadata": {},
     "output_type": "display_data"
    }
   ],
   "source": [
    "# import library\n",
    "\n",
    "import matplotlib\n",
    "import matplotlib.pyplot as plt \n",
    "%matplotlib inline\n",
    "\n",
    "# creating a class\n",
    "\n",
    "class Rectangle:\n",
    "    def __init__(self,width,height,color):\n",
    "        self.width=width\n",
    "        self.height=height\n",
    "        self.color=color\n",
    "    def drawRectangle(self):\n",
    "        plt.gca().add_patch(plt.Rectangle((0,0),self.width,self.height,fc=self.color))\n",
    "        plt.axis('Scaled')\n",
    "        plt.show\n",
    "        \n",
    "#\n",
    "one_Rectangle=Rectangle(10,5,'blue')\n",
    "\n",
    "print(one_Rectangle.width)\n",
    "print(one_Rectangle.height)\n",
    "print(one_Rectangle.color)\n",
    "one_Rectangle.drawRectangle()"
   ]
  },
  {
   "cell_type": "code",
   "execution_count": 10,
   "id": "04a5b255",
   "metadata": {},
   "outputs": [
    {
     "name": "stdout",
     "output_type": "stream",
     "text": [
      "10\n",
      "blue\n"
     ]
    },
    {
     "ename": "AttributeError",
     "evalue": "module 'matplotlib.pyplot' has no attribute 'circle'",
     "output_type": "error",
     "traceback": [
      "\u001b[1;31m---------------------------------------------------------------------------\u001b[0m",
      "\u001b[1;31mAttributeError\u001b[0m                            Traceback (most recent call last)",
      "\u001b[1;32m~\\AppData\\Local\\Temp\\ipykernel_2556\\3407688586.py\u001b[0m in \u001b[0;36m<module>\u001b[1;34m\u001b[0m\n\u001b[0;32m     26\u001b[0m \u001b[0mprint\u001b[0m\u001b[1;33m(\u001b[0m\u001b[0mone_circle\u001b[0m\u001b[1;33m.\u001b[0m\u001b[0mradius\u001b[0m\u001b[1;33m)\u001b[0m\u001b[1;33m\u001b[0m\u001b[1;33m\u001b[0m\u001b[0m\n\u001b[0;32m     27\u001b[0m \u001b[0mprint\u001b[0m\u001b[1;33m(\u001b[0m\u001b[0mone_circle\u001b[0m\u001b[1;33m.\u001b[0m\u001b[0mcolor\u001b[0m\u001b[1;33m)\u001b[0m\u001b[1;33m\u001b[0m\u001b[1;33m\u001b[0m\u001b[0m\n\u001b[1;32m---> 28\u001b[1;33m \u001b[0mone_circle\u001b[0m\u001b[1;33m.\u001b[0m\u001b[0mdraw_circle\u001b[0m\u001b[1;33m(\u001b[0m\u001b[1;33m)\u001b[0m\u001b[1;33m\u001b[0m\u001b[1;33m\u001b[0m\u001b[0m\n\u001b[0m",
      "\u001b[1;32m~\\AppData\\Local\\Temp\\ipykernel_2556\\3407688586.py\u001b[0m in \u001b[0;36mdraw_circle\u001b[1;34m(self)\u001b[0m\n\u001b[0;32m     17\u001b[0m \u001b[1;33m\u001b[0m\u001b[0m\n\u001b[0;32m     18\u001b[0m     \u001b[1;32mdef\u001b[0m \u001b[0mdraw_circle\u001b[0m\u001b[1;33m(\u001b[0m\u001b[0mself\u001b[0m\u001b[1;33m)\u001b[0m\u001b[1;33m:\u001b[0m\u001b[1;33m\u001b[0m\u001b[1;33m\u001b[0m\u001b[0m\n\u001b[1;32m---> 19\u001b[1;33m         \u001b[0mplt\u001b[0m\u001b[1;33m.\u001b[0m\u001b[0mgca\u001b[0m\u001b[1;33m(\u001b[0m\u001b[1;33m)\u001b[0m\u001b[1;33m.\u001b[0m\u001b[0madd_patch\u001b[0m\u001b[1;33m(\u001b[0m\u001b[0mplt\u001b[0m\u001b[1;33m.\u001b[0m\u001b[0mcircle\u001b[0m\u001b[1;33m(\u001b[0m\u001b[1;33m(\u001b[0m\u001b[1;36m0\u001b[0m\u001b[1;33m,\u001b[0m\u001b[1;36m0\u001b[0m\u001b[1;33m)\u001b[0m\u001b[1;33m,\u001b[0m\u001b[0mself\u001b[0m\u001b[1;33m.\u001b[0m\u001b[0mradius\u001b[0m\u001b[1;33m,\u001b[0m\u001b[0mfc\u001b[0m\u001b[1;33m=\u001b[0m\u001b[0mself\u001b[0m\u001b[1;33m.\u001b[0m\u001b[0mcolor\u001b[0m\u001b[1;33m)\u001b[0m\u001b[1;33m)\u001b[0m\u001b[1;33m\u001b[0m\u001b[1;33m\u001b[0m\u001b[0m\n\u001b[0m\u001b[0;32m     20\u001b[0m         \u001b[0mplt\u001b[0m\u001b[1;33m.\u001b[0m\u001b[0maxis\u001b[0m\u001b[1;33m(\u001b[0m\u001b[1;34m'Scaled'\u001b[0m\u001b[1;33m)\u001b[0m\u001b[1;33m\u001b[0m\u001b[1;33m\u001b[0m\u001b[0m\n\u001b[0;32m     21\u001b[0m         \u001b[0mplt\u001b[0m\u001b[1;33m.\u001b[0m\u001b[0mshow\u001b[0m\u001b[1;33m(\u001b[0m\u001b[1;33m)\u001b[0m\u001b[1;33m\u001b[0m\u001b[1;33m\u001b[0m\u001b[0m\n",
      "\u001b[1;31mAttributeError\u001b[0m: module 'matplotlib.pyplot' has no attribute 'circle'"
     ]
    },
    {
     "data": {
      "image/png": "[encoded data removed]",
      "text/plain": [
       "<Figure size 640x480 with 1 Axes>"
      ]
     },
     "metadata": {},
     "output_type": "display_data"
    }
   ],
   "source": [
    "# import library\n",
    "\n",
    "#import matplotlib\n",
    "import matplotlib.pyplot as plt \n",
    "%matplotlib inline\n",
    "\n",
    "# creating a class\n",
    "\n",
    "class circle(object):\n",
    "    def __init__(self,radius,color):\n",
    "        self.radius=radius\n",
    "        self.color=color\n",
    "        \n",
    "    def increase_radius(self,r):\n",
    "        self.radius=self.radius+r\n",
    "        return self.radius\n",
    "        \n",
    "    def draw_circle(self):\n",
    "        plt.gca().add_patch(plt.circle((0,0),self.radius,fc=self.color))\n",
    "        plt.axis('Scaled')\n",
    "        plt.show()\n",
    "        \n",
    "#\n",
    "one_circle=circle(10,'blue')\n",
    "\n",
    "print(one_circle.radius)\n",
    "print(one_circle.color)\n",
    "one_circle.draw_circle()"
   ]
  },
  {
   "cell_type": "code",
   "execution_count": 8,
   "id": "d69eaa9c",
   "metadata": {},
   "outputs": [
    {
     "name": "stdout",
     "output_type": "stream",
     "text": [
      "5\n",
      "blue\n"
     ]
    },
    {
     "data": {
      "image/png": "[encoded data removed]",
      "text/plain": [
       "<Figure size 640x480 with 1 Axes>"
      ]
     },
     "metadata": {},
     "output_type": "display_data"
    }
   ],
   "source": [
    "# import library to draw the Rectangle.\n",
    "\n",
    "import matplotlib.pyplot as plt\n",
    "\n",
    "%matplotlib inline\n",
    "\n",
    "\n",
    "class Circle(object):\n",
    "    \n",
    "    # Constructor\n",
    "    def __init__(self,radius,color):\n",
    "        self.radius=radius\n",
    "        self.color=color\n",
    "        \n",
    "    # Method\n",
    "    def increase_radius(self,r):\n",
    "        self.radius=self.radius+r\n",
    "        return self.radius\n",
    "    \n",
    "    \n",
    "    # method\n",
    "    \n",
    "    def drawCircle(self):\n",
    "        plt.gca().add_patch(plt.Circle((0,0),self.radius,fc=self.color))\n",
    "        plt.axis('scaled')\n",
    "        plt.show()\n",
    "        \n",
    "        \n",
    "one_circle=Circle(5,'blue')\n",
    "print(one_circle.radius)\n",
    "print(one_circle.color)\n",
    "one_circle.drawCircle()  "
   ]
  },
  {
   "cell_type": "code",
   "execution_count": 14,
   "id": "041bfc15",
   "metadata": {},
   "outputs": [
    {
     "data": {
      "image/png": "[encoded data removed]",
      "text/plain": [
       "<Figure size 640x480 with 1 Axes>"
      ]
     },
     "metadata": {},
     "output_type": "display_data"
    }
   ],
   "source": [
    "two_circle=Circle(20,'green')\n",
    "two_circle.drawCircle()"
   ]
  },
  {
   "cell_type": "markdown",
   "id": "bfd19498",
   "metadata": {},
   "source": [
    "# Inhetiance\n",
    "\n",
    "\n",
    " * __Single(simple) Inheritance= Parent Class and Child Class__\n",
    " * __Multilevel Inheritance= Parent/Child class --- Child class__\n",
    " * __Multiple Inheritance= Parent class and Parent Class --- Child class__\n",
    " * __Hierarchical Inheritance= Parent Class---Child Class---Child Class__"
   ]
  },
  {
   "cell_type": "markdown",
   "id": "5528f9f4",
   "metadata": {},
   "source": [
    "# Single Inheritance: When child class is derived from only one parent is called single Inheritance."
   ]
  },
  {
   "cell_type": "code",
   "execution_count": 23,
   "id": "dbbafd0c",
   "metadata": {},
   "outputs": [
    {
     "name": "stdout",
     "output_type": "stream",
     "text": [
      "Amazon is an Online Commerce Store\n",
      "Flipkart is an Online Store\n",
      "Olx is an Online Buy and Sell Store\n",
      "Olx is an Online Commerce Store\n",
      "Olx is an Online Store\n",
      "Olx is an Online Buy and Sell Store\n"
     ]
    }
   ],
   "source": [
    "# Single Inheritance\n",
    "\n",
    "\n",
    "class Brands:               # parent\n",
    "    brand_name_1='Amazon'\n",
    "    brand_name_2='Flipkart'\n",
    "    brand_name_3='Olx'\n",
    "class products(Brands):\n",
    "    prod_1='Online Commerce Store'\n",
    "    prod_2='Online Store'\n",
    "    prod_3='Online Buy and Sell Store'\n",
    "    \n",
    "obj_1=products()\n",
    "print(obj_1.brand_name_1+' is an '+obj_1.prod_1)\n",
    "print(obj_1.brand_name_2+ ' is an '+obj_1.prod_2)\n",
    "print(obj_1.brand_name_3+ ' is an '+obj_1.prod_3)\n",
    "\n",
    "print(obj_1.brand_name_3+' is an '+obj_1.prod_1)\n",
    "print(obj_1.brand_name_3+' is an '+obj_1.prod_2)\n",
    "print(obj_1.brand_name_3+' is an '+obj_1.prod_3)"
   ]
  },
  {
   "cell_type": "markdown",
   "id": "c62bdd84",
   "metadata": {},
   "source": [
    "# Multiple Inheritance: When child class is derived or inherited from more then one parent class is called multiple Inheritance.\n",
    "\n",
    " __In this Multiple Inheritance, We have two parent class/base classes and one child class that inherits both parent classes properties.__"
   ]
  },
  {
   "cell_type": "code",
   "execution_count": 25,
   "id": "d249cf13",
   "metadata": {},
   "outputs": [
    {
     "name": "stdout",
     "output_type": "stream",
     "text": [
      "Amazon is an Online Commerce Store its popularity is 100\n",
      "Flipkart is an Online Store its popularity is 200\n"
     ]
    }
   ],
   "source": [
    "# Multiple Inheritance\n",
    "\n",
    "\n",
    "class Brands:               # parent class\n",
    "    brand_name_1='Amazon'\n",
    "    brand_name_2='Flipkart'\n",
    "    brand_name_3='Olx'\n",
    "class products:            # parent class\n",
    "    prod_1='Online Commerce Store'\n",
    "    prod_2='Online Store'\n",
    "    prod_3='Online Buy and Sell Store'\n",
    "    \n",
    "    \n",
    "class popularity(Brands,products):  # child class\n",
    "    popularity_1='100'\n",
    "    popularity_2='200'\n",
    "    popularity_3='60'\n",
    "    \n",
    "obj_1=popularity()\n",
    "\n",
    "print(obj_1.brand_name_1+ ' is an '+ obj_1.prod_1+ ' its popularity is '+obj_1.popularity_1)\n",
    "print(obj_1.brand_name_2+ ' is an '+ obj_1.prod_2+ ' its popularity is '+obj_1.popularity_2)"
   ]
  },
  {
   "cell_type": "markdown",
   "id": "02f45cd7",
   "metadata": {},
   "source": [
    "# Multilevel Inheritance: In Multilevel Inheritance, We have one parent class and child class that is derived or inherited from the parent class. When we have a grand-child class that is derived from the child class."
   ]
  },
  {
   "cell_type": "code",
   "execution_count": 2,
   "id": "7a01e8f9",
   "metadata": {},
   "outputs": [
    {
     "name": "stdout",
     "output_type": "stream",
     "text": [
      "Amazon is an Online Commerce Store and its popularity is 100\n"
     ]
    }
   ],
   "source": [
    "# Multilevel Inheritance\n",
    "\n",
    "\n",
    "class Brands:               # parent class\n",
    "    brand_name_1='Amazon'\n",
    "    brand_name_2='Flipkart'\n",
    "    brand_name_3='Olx'\n",
    "class products(Brands):            # child class\n",
    "    prod_1='Online Commerce Store'\n",
    "    prod_2='Online Store'\n",
    "    prod_3='Online Buy and Sell Store'\n",
    "    \n",
    "    \n",
    "class popularity(products):  # grand child\n",
    "    popularity_1='100'\n",
    "    popularity_2='200'\n",
    "    popularity_3='60'\n",
    "    \n",
    "obj_1=popularity()\n",
    "print(obj_1.brand_name_1+ ' is an '+ obj_1.prod_1+ ' and its popularity is '+obj_1.popularity_1)"
   ]
  },
  {
   "cell_type": "markdown",
   "id": "9782558a",
   "metadata": {},
   "source": [
    "# Hierarchical Inheritance: When we derived or inherit more than one child class from one (same) parent class. Then this type inheritance is called Hierarchical Inheritance."
   ]
  },
  {
   "cell_type": "code",
   "execution_count": 14,
   "id": "28c8d077",
   "metadata": {},
   "outputs": [
    {
     "name": "stdout",
     "output_type": "stream",
     "text": [
      "Amazon is an Online Commerce Store\n",
      "Amazon is an Online Commerce Store and its popularity is 100 and its value is Best Value\n"
     ]
    }
   ],
   "source": [
    "# Hierarchical Inheritance\n",
    "\n",
    "\n",
    "class Brands:               # parent class\n",
    "    brand_name_1='Amazon'\n",
    "    brand_name_2='Flipkart'\n",
    "    brand_name_3='Olx'\n",
    "class products(Brands):            # parent class\n",
    "    prod_1='Online Commerce Store'\n",
    "    prod_2='Online Store'\n",
    "    prod_3='Online Buy and Sell Store'\n",
    "    \n",
    "    \n",
    "class popularity(Brands):  # child class\n",
    "    popularity_1='100'\n",
    "    popularity_2='200'\n",
    "    popularity_3='60'\n",
    "    \n",
    "class value(Brands):\n",
    "    prod_value_1='Best Value'\n",
    "    prod_value_2='Better Value'\n",
    "    prod_value_3='Good Value'\n",
    "    \n",
    "obj_1=products()\n",
    "obj_2=popularity()\n",
    "obj_3=value()\n",
    "\n",
    "print(obj_1.brand_name_1+ ' is an '+obj_1.prod_1)\n",
    "print(obj_1.brand_name_1+ ' is an '+obj_1.prod_1+' and its popularity is '+obj_2.popularity_1+' and its value is '+obj_3.prod_value_1)"
   ]
  },
  {
   "cell_type": "markdown",
   "id": "4a11f2ee",
   "metadata": {},
   "source": [
    "# 4 methods of OOPS concept in Real Life.\n",
    "\n",
    "\n",
    "  * __1. Inheritance.__\n",
    "  * __2. Ploymorphism.__\n",
    "  * __3. Enacapsulation.__\n",
    "  * __4. Abstractions.__\n",
    "  \n",
    "  \n",
    " * __Mom and Daughter__\n",
    " * __1. Inheritance:- Some property of mom inherits by her daughter.__\n",
    " \n",
    " * __2. Polymorphism:- Ex:- In School behave like a student. In home behave like a son. In Bus behave like a passenger. In Shopping mall behave like a customer.__\n",
    " \n",
    " * __3. Encapsulation:- School bag can keep book, pen, eraser, sharpner and so on.__\n",
    " \n",
    " * __4. Abstraction:- ATM:- Check Balance, Withdraw cash, Deposite Cash, Print bill.__\n",
    " \n",
    "__Note:- Object Oriented Programming some important points:-__\n",
    "\n",
    " * __1. Object:------------> Instance of Class.__\n",
    " * __2. Class:-------------> Blueprint of Object.__\n",
    " * __3. Encapsulation:-----> Protecting our Data.__\n",
    " * __4. Polymorphism:------> Different behaviour of differece instances.__\n",
    " * __5. Abstraction:-------> Hiding our irrelevant data.__"
   ]
  },
  {
   "cell_type": "code",
   "execution_count": 1,
   "id": "d52e713a",
   "metadata": {},
   "outputs": [],
   "source": [
    "# for loop\n",
    "# Write a program to find the factorial of a given number.\n",
    "# Write a program that accept a string and calculate the number of digits and letters.\n",
    "# Write a program to display all numbers within a range display the prime number of (10 - 30)\n",
    "# Write a program to count the number of even and odd numbers from a series of numbers [1,3,5,6,99,134,55]\n",
    "# Write a program to accept the name from user and reverse it.\n",
    "# Write a program to check if the given string is a palindrome.\n",
    "# Write a program to count the total number of digits in a number [12356698]\n",
    "# Write a program to display number from a list using a for loop list=[1,2,3,4,5,88,99,100]\n",
    "# Write a program to print a multiplication any table."
   ]
  },
  {
   "cell_type": "code",
   "execution_count": 3,
   "id": "961815f6",
   "metadata": {},
   "outputs": [
    {
     "name": "stdout",
     "output_type": "stream",
     "text": [
      "40 X 1 = 40\n",
      "40 X 2 = 80\n",
      "40 X 3 = 120\n",
      "40 X 4 = 160\n",
      "40 X 5 = 200\n",
      "40 X 6 = 240\n",
      "40 X 7 = 280\n",
      "40 X 8 = 320\n",
      "40 X 9 = 360\n",
      "40 X 10 = 400\n"
     ]
    }
   ],
   "source": [
    "# 1. Write a program to print a multiplication any table.\n",
    "\n",
    "\n",
    "given_number=40\n",
    "\n",
    "for i in range(1,11):\n",
    "    print(given_number,'X',i,'=',given_number*i)"
   ]
  },
  {
   "cell_type": "code",
   "execution_count": 4,
   "id": "bed5d0dc",
   "metadata": {},
   "outputs": [
    {
     "name": "stdout",
     "output_type": "stream",
     "text": [
      "1\n",
      "2\n",
      "3\n",
      "4\n",
      "5\n",
      "88\n",
      "99\n",
      "100\n"
     ]
    }
   ],
   "source": [
    "# 2. Write a program to display number from a list using a for loop list=[1,2,3,4,5,88,99,100]\n",
    "\n",
    "list1=[1,2,3,4,5,88,99,100]\n",
    "\n",
    "for i in list1:\n",
    "    print(i)"
   ]
  },
  {
   "cell_type": "code",
   "execution_count": 6,
   "id": "e931b11b",
   "metadata": {},
   "outputs": [
    {
     "name": "stdout",
     "output_type": "stream",
     "text": [
      "20\n"
     ]
    }
   ],
   "source": [
    "#3. Write a program to count the total number of digits in a number [12356698]\n",
    "\n",
    "count=0\n",
    "number=[123566982165498616]\n",
    "\n",
    "number=str(number)\n",
    "\n",
    "for i in number:\n",
    "    count+=1\n",
    "print(count)\n"
   ]
  },
  {
   "cell_type": "code",
   "execution_count": 11,
   "id": "8d63bf14",
   "metadata": {},
   "outputs": [
    {
     "name": "stdout",
     "output_type": "stream",
     "text": [
      "Enter your string:sis\n",
      "The string sis is palindrome\n"
     ]
    }
   ],
   "source": [
    "#4. Write a program to check if the given string is a palindrome.\n",
    "\n",
    "given_string=input('Enter your string:')\n",
    "\n",
    "reverse_string=''\n",
    "\n",
    "for i in given_string:\n",
    "    reverse_string= i+reverse_string\n",
    "if (given_string==reverse_string):\n",
    "    print('The string',given_string,'is palindrome')\n",
    "else:\n",
    "    print('The string',given_string,'is not palindrome')"
   ]
  },
  {
   "cell_type": "code",
   "execution_count": 14,
   "id": "8fae6481",
   "metadata": {},
   "outputs": [
    {
     "name": "stdout",
     "output_type": "stream",
     "text": [
      "Enter your string:Mother\n",
      "rehtoM\n"
     ]
    }
   ],
   "source": [
    "#6. Write a program to accept the name from user and reverse it.\n",
    "\n",
    "given_string=input('Enter your string:')\n",
    "\n",
    "reverse_string=''\n",
    "\n",
    "for i in given_string:\n",
    "    reverse_string= i+reverse_string\n",
    "    \n",
    "print(reverse_string)"
   ]
  },
  {
   "cell_type": "code",
   "execution_count": 16,
   "id": "0640b8e0",
   "metadata": {},
   "outputs": [
    {
     "name": "stdout",
     "output_type": "stream",
     "text": [
      "1 is Odd number\n",
      "3 is Odd number\n",
      "5 is Odd number\n",
      "6 is Even number\n",
      "99 is Odd number\n",
      "134 is Even number\n",
      "55 is Odd number\n",
      "545655 is Odd number\n",
      "7896 is Even number\n",
      "78 is Even number\n",
      "52 is Even number\n",
      "66 is Even number\n",
      "553 is Odd number\n"
     ]
    }
   ],
   "source": [
    "#7 Write a program to count the number of even and odd numbers from a series of numbers [1,3,5,6,99,134,55]\n",
    "\n",
    "num_list=[1,3,5,6,99,134,55,545655,7896,78,52,66,553]\n",
    "\n",
    "for i in num_list:\n",
    "    \n",
    "    if i%2==0:\n",
    "        print(i,'is Even number')\n",
    "    else:\n",
    "        print(i,'is Odd number')\n",
    "\n"
   ]
  },
  {
   "cell_type": "code",
   "execution_count": 19,
   "id": "27864180",
   "metadata": {},
   "outputs": [
    {
     "name": "stdout",
     "output_type": "stream",
     "text": [
      "Enter any letter with name and digit: 123456789\n",
      "The input string is 123456789 has 0 Letters and 9 digits.\n"
     ]
    }
   ],
   "source": [
    "#8. Write a program that accept a string and calculate the number of digits and letters.\n",
    "\n",
    "user_input=input('Enter any letter with name and digit: ')\n",
    "\n",
    "digit=0\n",
    "letter=0\n",
    "\n",
    "for i in user_input:\n",
    "    \n",
    "    if i.isdigit():\n",
    "        digit=digit+1\n",
    "    elif i.isalpha():\n",
    "        letter=letter+1\n",
    "        \n",
    "print('The input string is',user_input,'has',letter,'Letters and',digit,'digits.')"
   ]
  },
  {
   "cell_type": "code",
   "execution_count": 26,
   "id": "6db9bd5e",
   "metadata": {},
   "outputs": [
    {
     "name": "stdout",
     "output_type": "stream",
     "text": [
      "Enter any number:\n",
      "10\n",
      "The factorial of  10 is 3628800\n"
     ]
    }
   ],
   "source": [
    "#9. Write a program to find the factorial of a given number.\n",
    "\n",
    "given_number=int(input('Enter any number:\\n'))\n",
    "\n",
    "factorial=1\n",
    "\n",
    "for i in range(1,given_number+1):\n",
    "    factorial=factorial*i\n",
    "    \n",
    "print('The factorial of ',given_number,'is',factorial)\n"
   ]
  },
  {
   "cell_type": "code",
   "execution_count": null,
   "id": "2c607b81",
   "metadata": {},
   "outputs": [],
   "source": []
  }
 ],
 "metadata": {
  "kernelspec": {
   "display_name": "Python 3 (ipykernel)",
   "language": "python",
   "name": "python3"
  },
  "language_info": {
   "codemirror_mode": {
    "name": "ipython",
    "version": 3
   },
   "file_extension": ".py",
   "mimetype": "text/x-python",
   "name": "python",
   "nbconvert_exporter": "python",
   "pygments_lexer": "ipython3",
   "version": "3.9.13"
  }
 },
 "nbformat": 4,
 "nbformat_minor": 5
}
