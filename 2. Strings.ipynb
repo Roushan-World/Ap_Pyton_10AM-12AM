{
 "cells": [
  {
   "cell_type": "markdown",
   "id": "bf928aea",
   "metadata": {},
   "source": [
    "# 2. Strings\n",
    "\n"
   ]
  },
  {
   "cell_type": "code",
   "execution_count": 1,
   "id": "360bc028",
   "metadata": {},
   "outputs": [
    {
     "data": {
      "text/plain": [
       "'Hello World'"
      ]
     },
     "execution_count": 1,
     "metadata": {},
     "output_type": "execute_result"
    }
   ],
   "source": [
    "# Employ double quotation marks for describing a string.\n",
    "\n",
    "\"Hello World\""
   ]
  },
  {
   "cell_type": "code",
   "execution_count": 2,
   "id": "2423c05e",
   "metadata": {},
   "outputs": [
    {
     "data": {
      "text/plain": [
       "'Hello World'"
      ]
     },
     "execution_count": 2,
     "metadata": {},
     "output_type": "execute_result"
    }
   ],
   "source": [
    "'Hello World'"
   ]
  },
  {
   "cell_type": "code",
   "execution_count": null,
   "id": "e97742c8",
   "metadata": {},
   "outputs": [],
   "source": []
  },
  {
   "cell_type": "code",
   "execution_count": 3,
   "id": "b5620f33",
   "metadata": {},
   "outputs": [
    {
     "data": {
      "text/plain": [
       "'Hello world'"
      ]
     },
     "execution_count": 3,
     "metadata": {},
     "output_type": "execute_result"
    }
   ],
   "source": [
    "'Hello world'"
   ]
  },
  {
   "cell_type": "code",
   "execution_count": 4,
   "id": "30f7e52a",
   "metadata": {},
   "outputs": [
    {
     "data": {
      "text/plain": [
       "'Hello World'"
      ]
     },
     "execution_count": 4,
     "metadata": {},
     "output_type": "execute_result"
    }
   ],
   "source": [
    "'Hello World'"
   ]
  },
  {
   "cell_type": "code",
   "execution_count": 5,
   "id": "cc859378",
   "metadata": {},
   "outputs": [
    {
     "data": {
      "text/plain": [
       "'123    123'"
      ]
     },
     "execution_count": 5,
     "metadata": {},
     "output_type": "execute_result"
    }
   ],
   "source": [
    "# Digit and spaces in a string.\n",
    "\n",
    "'123    123'"
   ]
  },
  {
   "cell_type": "code",
   "execution_count": 6,
   "id": "af4920e2",
   "metadata": {},
   "outputs": [
    {
     "data": {
      "text/plain": [
       "'@ # $ % & * '"
      ]
     },
     "execution_count": 6,
     "metadata": {},
     "output_type": "execute_result"
    }
   ],
   "source": [
    "# Special Characters in a string.\n",
    "\n",
    "'@ # $ % & * '"
   ]
  },
  {
   "cell_type": "code",
   "execution_count": 7,
   "id": "c4005172",
   "metadata": {},
   "outputs": [
    {
     "name": "stdout",
     "output_type": "stream",
     "text": [
      "Hello World\n"
     ]
    }
   ],
   "source": [
    "# printing as a string\n",
    "\n",
    "print('Hello World')"
   ]
  },
  {
   "cell_type": "code",
   "execution_count": 10,
   "id": "10a6fd28",
   "metadata": {},
   "outputs": [
    {
     "data": {
      "text/plain": [
       "'Vaishnav'"
      ]
     },
     "execution_count": 10,
     "metadata": {},
     "output_type": "execute_result"
    }
   ],
   "source": [
    "'Hello World'\n",
    "'Hello World'\n",
    "'Vaishnav'"
   ]
  },
  {
   "cell_type": "code",
   "execution_count": 15,
   "id": "40f01fc1",
   "metadata": {},
   "outputs": [
    {
     "name": "stdout",
     "output_type": "stream",
     "text": [
      "Hello World\n",
      "Hello World\n",
      "Vaishnav\n"
     ]
    },
    {
     "data": {
      "text/plain": [
       "'Good Morning'"
      ]
     },
     "execution_count": 15,
     "metadata": {},
     "output_type": "execute_result"
    }
   ],
   "source": [
    "print('Hello World')\n",
    "print('Hello World')\n",
    "print('Vaishnav')\n",
    "'Good Morning'"
   ]
  },
  {
   "cell_type": "code",
   "execution_count": 20,
   "id": "bfe3c82e",
   "metadata": {},
   "outputs": [
    {
     "name": "stdout",
     "output_type": "stream",
     "text": [
      "Hello World\n",
      "<class 'str'>\n"
     ]
    }
   ],
   "source": [
    "# Assigning a string to a variable 'Message'\n",
    "message='Hello World'\n",
    "\n",
    "print(message)\n",
    "print(type(message))"
   ]
  },
  {
   "cell_type": "code",
   "execution_count": 23,
   "id": "9c640b17",
   "metadata": {},
   "outputs": [
    {
     "name": "stdout",
     "output_type": "stream",
     "text": [
      "123\n",
      "<class 'int'>\n"
     ]
    }
   ],
   "source": [
    "vaishnav=123\n",
    "print(vaishnav)\n",
    "print(type(vaishnav))"
   ]
  },
  {
   "cell_type": "code",
   "execution_count": 24,
   "id": "5f58b762",
   "metadata": {},
   "outputs": [
    {
     "name": "stdout",
     "output_type": "stream",
     "text": [
      "Vaishnav\n"
     ]
    }
   ],
   "source": [
    "# Indexing of a string.\n",
    "\n",
    "print('Vaishnav')\n"
   ]
  },
  {
   "cell_type": "code",
   "execution_count": 25,
   "id": "df7ccc28",
   "metadata": {},
   "outputs": [
    {
     "name": "stdout",
     "output_type": "stream",
     "text": [
      "Vaishnav\n"
     ]
    }
   ],
   "source": [
    "x = 'Vaishnav'\n",
    "print(x)"
   ]
  },
  {
   "cell_type": "code",
   "execution_count": 33,
   "id": "7dfcaf00",
   "metadata": {},
   "outputs": [
    {
     "name": "stdout",
     "output_type": "stream",
     "text": [
      "V\n",
      "a\n",
      "i\n",
      "s\n",
      "h\n",
      "n\n",
      "a\n",
      "v\n"
     ]
    }
   ],
   "source": [
    "print(x[0])\n",
    "print(x[1])\n",
    "print(x[2])\n",
    "print(x[3])\n",
    "print(x[4])\n",
    "print(x[5])\n",
    "print(x[6])\n",
    "print(x[7])"
   ]
  },
  {
   "cell_type": "code",
   "execution_count": 37,
   "id": "549043de",
   "metadata": {},
   "outputs": [
    {
     "name": "stdout",
     "output_type": "stream",
     "text": [
      "<class 'str'>\n"
     ]
    }
   ],
   "source": [
    "print(type(x[0]))"
   ]
  },
  {
   "cell_type": "code",
   "execution_count": 38,
   "id": "b0e24e1d",
   "metadata": {},
   "outputs": [
    {
     "data": {
      "text/plain": [
       "41"
      ]
     },
     "execution_count": 38,
     "metadata": {},
     "output_type": "execute_result"
    }
   ],
   "source": [
    "y = 'A qurick brown fox jump over the lazy Dog'\n",
    "\n",
    "len(y)   # Length function is used to measure the length of any character."
   ]
  },
  {
   "cell_type": "code",
   "execution_count": 40,
   "id": "24dde81f",
   "metadata": {},
   "outputs": [
    {
     "name": "stdout",
     "output_type": "stream",
     "text": [
      "Vaishnav\n"
     ]
    },
    {
     "data": {
      "text/plain": [
       "8"
      ]
     },
     "execution_count": 40,
     "metadata": {},
     "output_type": "execute_result"
    }
   ],
   "source": [
    "x= 'Vaishnav'\n",
    "print(x)\n",
    "len(x)"
   ]
  },
  {
   "cell_type": "markdown",
   "id": "c5ab02b1",
   "metadata": {},
   "source": [
    "# Negative Indexing\n",
    "\n"
   ]
  },
  {
   "cell_type": "code",
   "execution_count": 50,
   "id": "78f7b47f",
   "metadata": {},
   "outputs": [
    {
     "name": "stdout",
     "output_type": "stream",
     "text": [
      "v\n",
      "a\n",
      "n\n",
      "h\n",
      "s\n",
      "i\n",
      "a\n",
      "V\n"
     ]
    },
    {
     "data": {
      "text/plain": [
       "'Since the negative indexing starts with -1, In this case, the \\nnegative index number of the first element is equal to -8'"
      ]
     },
     "execution_count": 50,
     "metadata": {},
     "output_type": "execute_result"
    }
   ],
   "source": [
    "x= 'Vaishnav'\n",
    "\n",
    "\n",
    "print(x[-1])\n",
    "print(x[-2])\n",
    "print(x[-3])\n",
    "print(x[-4])\n",
    "print(x[-5])\n",
    "print(x[-6])\n",
    "print(x[-7])\n",
    "print(x[-8])\n",
    "\n",
    "\n",
    "'''Since the negative indexing starts with -1, In this case, the \n",
    "negative index number of the first element is equal to -8'''  \n",
    "# Multiple line comment"
   ]
  },
  {
   "cell_type": "code",
   "execution_count": 52,
   "id": "346ad01c",
   "metadata": {},
   "outputs": [
    {
     "data": {
      "text/plain": [
       "'\\nA\\n\\n\\n'"
      ]
     },
     "execution_count": 52,
     "metadata": {},
     "output_type": "execute_result"
    }
   ],
   "source": [
    "'''\n",
    "A\n",
    "\n",
    "\n",
    "'''"
   ]
  },
  {
   "cell_type": "markdown",
   "id": "9ad9b7c2",
   "metadata": {},
   "source": [
    "# Slicing of a string"
   ]
  },
  {
   "cell_type": "code",
   "execution_count": 55,
   "id": "efbe07c5",
   "metadata": {},
   "outputs": [
    {
     "name": "stdout",
     "output_type": "stream",
     "text": [
      "zalke\n"
     ]
    }
   ],
   "source": [
    "# Slicing on the variable 'message' with only index \n",
    "\n",
    "message='Vaishnav zalke'\n",
    "\n",
    "print(message[9:])"
   ]
  },
  {
   "cell_type": "code",
   "execution_count": 63,
   "id": "e91f0155",
   "metadata": {},
   "outputs": [
    {
     "name": "stdout",
     "output_type": "stream",
     "text": [
      "Vaishnav zalke\n"
     ]
    }
   ],
   "source": [
    "print(message[0:14])"
   ]
  },
  {
   "cell_type": "code",
   "execution_count": 65,
   "id": "9366f3c2",
   "metadata": {},
   "outputs": [
    {
     "name": "stdout",
     "output_type": "stream",
     "text": [
      "shn\n"
     ]
    }
   ],
   "source": [
    "print(message[3:6])"
   ]
  },
  {
   "cell_type": "code",
   "execution_count": 66,
   "id": "af86e5c5",
   "metadata": {},
   "outputs": [
    {
     "data": {
      "text/plain": [
       "14"
      ]
     },
     "execution_count": 66,
     "metadata": {},
     "output_type": "execute_result"
    }
   ],
   "source": [
    "len(message)"
   ]
  },
  {
   "cell_type": "code",
   "execution_count": 71,
   "id": "b149fbaf",
   "metadata": {},
   "outputs": [
    {
     "name": "stdout",
     "output_type": "stream",
     "text": [
      "Viha ak\n"
     ]
    }
   ],
   "source": [
    "print(message[0:15:2])"
   ]
  },
  {
   "cell_type": "code",
   "execution_count": 75,
   "id": "f35d4f8a",
   "metadata": {},
   "outputs": [
    {
     "name": "stdout",
     "output_type": "stream",
     "text": [
      "Viha ak\n"
     ]
    }
   ],
   "source": [
    "print(message[::2])"
   ]
  },
  {
   "cell_type": "code",
   "execution_count": null,
   "id": "39493c25",
   "metadata": {},
   "outputs": [],
   "source": []
  }
 ],
 "metadata": {
  "kernelspec": {
   "display_name": "Python 3 (ipykernel)",
   "language": "python",
   "name": "python3"
  },
  "language_info": {
   "codemirror_mode": {
    "name": "ipython",
    "version": 3
   },
   "file_extension": ".py",
   "mimetype": "text/x-python",
   "name": "python",
   "nbconvert_exporter": "python",
   "pygments_lexer": "ipython3",
   "version": "3.9.13"
  }
 },
 "nbformat": 4,
 "nbformat_minor": 5
}
