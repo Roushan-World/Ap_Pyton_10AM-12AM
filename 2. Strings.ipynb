{
 "cells": [
  {
   "cell_type": "markdown",
   "id": "bf928aea",
   "metadata": {},
   "source": [
    "# 2. Strings\n",
    "\n"
   ]
  },
  {
   "cell_type": "code",
   "execution_count": 1,
   "id": "360bc028",
   "metadata": {},
   "outputs": [
    {
     "data": {
      "text/plain": [
       "'Hello World'"
      ]
     },
     "execution_count": 1,
     "metadata": {},
     "output_type": "execute_result"
    }
   ],
   "source": [
    "# Employ double quotation marks for describing a string.\n",
    "\n",
    "\"Hello World\""
   ]
  },
  {
   "cell_type": "code",
   "execution_count": 2,
   "id": "2423c05e",
   "metadata": {},
   "outputs": [
    {
     "data": {
      "text/plain": [
       "'Hello World'"
      ]
     },
     "execution_count": 2,
     "metadata": {},
     "output_type": "execute_result"
    }
   ],
   "source": [
    "'Hello World'"
   ]
  },
  {
   "cell_type": "code",
   "execution_count": null,
   "id": "e97742c8",
   "metadata": {},
   "outputs": [],
   "source": []
  },
  {
   "cell_type": "code",
   "execution_count": 3,
   "id": "b5620f33",
   "metadata": {},
   "outputs": [
    {
     "data": {
      "text/plain": [
       "'Hello world'"
      ]
     },
     "execution_count": 3,
     "metadata": {},
     "output_type": "execute_result"
    }
   ],
   "source": [
    "'Hello world'"
   ]
  },
  {
   "cell_type": "code",
   "execution_count": 4,
   "id": "30f7e52a",
   "metadata": {},
   "outputs": [
    {
     "data": {
      "text/plain": [
       "'Hello World'"
      ]
     },
     "execution_count": 4,
     "metadata": {},
     "output_type": "execute_result"
    }
   ],
   "source": [
    "'Hello World'"
   ]
  },
  {
   "cell_type": "code",
   "execution_count": 5,
   "id": "cc859378",
   "metadata": {},
   "outputs": [
    {
     "data": {
      "text/plain": [
       "'123    123'"
      ]
     },
     "execution_count": 5,
     "metadata": {},
     "output_type": "execute_result"
    }
   ],
   "source": [
    "# Digit and spaces in a string.\n",
    "\n",
    "'123    123'"
   ]
  },
  {
   "cell_type": "code",
   "execution_count": 6,
   "id": "af4920e2",
   "metadata": {},
   "outputs": [
    {
     "data": {
      "text/plain": [
       "'@ # $ % & * '"
      ]
     },
     "execution_count": 6,
     "metadata": {},
     "output_type": "execute_result"
    }
   ],
   "source": [
    "# Special Characters in a string.\n",
    "\n",
    "'@ # $ % & * '"
   ]
  },
  {
   "cell_type": "code",
   "execution_count": 7,
   "id": "c4005172",
   "metadata": {},
   "outputs": [
    {
     "name": "stdout",
     "output_type": "stream",
     "text": [
      "Hello World\n"
     ]
    }
   ],
   "source": [
    "# printing as a string\n",
    "\n",
    "print('Hello World')"
   ]
  },
  {
   "cell_type": "code",
   "execution_count": 10,
   "id": "10a6fd28",
   "metadata": {},
   "outputs": [
    {
     "data": {
      "text/plain": [
       "'Vaishnav'"
      ]
     },
     "execution_count": 10,
     "metadata": {},
     "output_type": "execute_result"
    }
   ],
   "source": [
    "'Hello World'\n",
    "'Hello World'\n",
    "'Vaishnav'"
   ]
  },
  {
   "cell_type": "code",
   "execution_count": 15,
   "id": "40f01fc1",
   "metadata": {},
   "outputs": [
    {
     "name": "stdout",
     "output_type": "stream",
     "text": [
      "Hello World\n",
      "Hello World\n",
      "Vaishnav\n"
     ]
    },
    {
     "data": {
      "text/plain": [
       "'Good Morning'"
      ]
     },
     "execution_count": 15,
     "metadata": {},
     "output_type": "execute_result"
    }
   ],
   "source": [
    "print('Hello World')\n",
    "print('Hello World')\n",
    "print('Vaishnav')\n",
    "'Good Morning'"
   ]
  },
  {
   "cell_type": "code",
   "execution_count": 20,
   "id": "bfe3c82e",
   "metadata": {},
   "outputs": [
    {
     "name": "stdout",
     "output_type": "stream",
     "text": [
      "Hello World\n",
      "<class 'str'>\n"
     ]
    }
   ],
   "source": [
    "# Assigning a string to a variable 'Message'\n",
    "message='Hello World'\n",
    "\n",
    "print(message)\n",
    "print(type(message))"
   ]
  },
  {
   "cell_type": "code",
   "execution_count": 23,
   "id": "9c640b17",
   "metadata": {},
   "outputs": [
    {
     "name": "stdout",
     "output_type": "stream",
     "text": [
      "123\n",
      "<class 'int'>\n"
     ]
    }
   ],
   "source": [
    "vaishnav=123\n",
    "print(vaishnav)\n",
    "print(type(vaishnav))"
   ]
  },
  {
   "cell_type": "code",
   "execution_count": 24,
   "id": "5f58b762",
   "metadata": {},
   "outputs": [
    {
     "name": "stdout",
     "output_type": "stream",
     "text": [
      "Vaishnav\n"
     ]
    }
   ],
   "source": [
    "# Indexing of a string.\n",
    "\n",
    "print('Vaishnav')\n"
   ]
  },
  {
   "cell_type": "code",
   "execution_count": 25,
   "id": "df7ccc28",
   "metadata": {},
   "outputs": [
    {
     "name": "stdout",
     "output_type": "stream",
     "text": [
      "Vaishnav\n"
     ]
    }
   ],
   "source": [
    "x = 'Vaishnav'\n",
    "print(x)"
   ]
  },
  {
   "cell_type": "code",
   "execution_count": 33,
   "id": "7dfcaf00",
   "metadata": {},
   "outputs": [
    {
     "name": "stdout",
     "output_type": "stream",
     "text": [
      "V\n",
      "a\n",
      "i\n",
      "s\n",
      "h\n",
      "n\n",
      "a\n",
      "v\n"
     ]
    }
   ],
   "source": [
    "print(x[0])\n",
    "print(x[1])\n",
    "print(x[2])\n",
    "print(x[3])\n",
    "print(x[4])\n",
    "print(x[5])\n",
    "print(x[6])\n",
    "print(x[7])"
   ]
  },
  {
   "cell_type": "code",
   "execution_count": 37,
   "id": "549043de",
   "metadata": {},
   "outputs": [
    {
     "name": "stdout",
     "output_type": "stream",
     "text": [
      "<class 'str'>\n"
     ]
    }
   ],
   "source": [
    "print(type(x[0]))"
   ]
  },
  {
   "cell_type": "code",
   "execution_count": 38,
   "id": "b0e24e1d",
   "metadata": {},
   "outputs": [
    {
     "data": {
      "text/plain": [
       "41"
      ]
     },
     "execution_count": 38,
     "metadata": {},
     "output_type": "execute_result"
    }
   ],
   "source": [
    "y = 'A qurick brown fox jump over the lazy Dog'\n",
    "\n",
    "len(y)   # Length function is used to measure the length of any character."
   ]
  },
  {
   "cell_type": "code",
   "execution_count": 40,
   "id": "24dde81f",
   "metadata": {},
   "outputs": [
    {
     "name": "stdout",
     "output_type": "stream",
     "text": [
      "Vaishnav\n"
     ]
    },
    {
     "data": {
      "text/plain": [
       "8"
      ]
     },
     "execution_count": 40,
     "metadata": {},
     "output_type": "execute_result"
    }
   ],
   "source": [
    "x= 'Vaishnav'\n",
    "print(x)\n",
    "len(x)"
   ]
  },
  {
   "cell_type": "markdown",
   "id": "c5ab02b1",
   "metadata": {},
   "source": [
    "# Negative Indexing\n",
    "\n"
   ]
  },
  {
   "cell_type": "code",
   "execution_count": 50,
   "id": "78f7b47f",
   "metadata": {},
   "outputs": [
    {
     "name": "stdout",
     "output_type": "stream",
     "text": [
      "v\n",
      "a\n",
      "n\n",
      "h\n",
      "s\n",
      "i\n",
      "a\n",
      "V\n"
     ]
    },
    {
     "data": {
      "text/plain": [
       "'Since the negative indexing starts with -1, In this case, the \\nnegative index number of the first element is equal to -8'"
      ]
     },
     "execution_count": 50,
     "metadata": {},
     "output_type": "execute_result"
    }
   ],
   "source": [
    "x= 'Vaishnav'\n",
    "\n",
    "\n",
    "print(x[-1])\n",
    "print(x[-2])\n",
    "print(x[-3])\n",
    "print(x[-4])\n",
    "print(x[-5])\n",
    "print(x[-6])\n",
    "print(x[-7])\n",
    "print(x[-8])\n",
    "\n",
    "\n",
    "'''Since the negative indexing starts with -1, In this case, the \n",
    "negative index number of the first element is equal to -8'''  \n",
    "# Multiple line comment"
   ]
  },
  {
   "cell_type": "code",
   "execution_count": 52,
   "id": "346ad01c",
   "metadata": {},
   "outputs": [
    {
     "data": {
      "text/plain": [
       "'\\nA\\n\\n\\n'"
      ]
     },
     "execution_count": 52,
     "metadata": {},
     "output_type": "execute_result"
    }
   ],
   "source": [
    "'''\n",
    "A\n",
    "\n",
    "\n",
    "'''"
   ]
  },
  {
   "cell_type": "markdown",
   "id": "9ad9b7c2",
   "metadata": {},
   "source": [
    "# Slicing of a string"
   ]
  },
  {
   "cell_type": "code",
   "execution_count": 55,
   "id": "efbe07c5",
   "metadata": {},
   "outputs": [
    {
     "name": "stdout",
     "output_type": "stream",
     "text": [
      "zalke\n"
     ]
    }
   ],
   "source": [
    "# Slicing on the variable 'message' with only index \n",
    "\n",
    "message='Vaishnav zalke'\n",
    "\n",
    "print(message[9:])"
   ]
  },
  {
   "cell_type": "code",
   "execution_count": 63,
   "id": "e91f0155",
   "metadata": {},
   "outputs": [
    {
     "name": "stdout",
     "output_type": "stream",
     "text": [
      "Vaishnav zalke\n"
     ]
    }
   ],
   "source": [
    "print(message[0:14])"
   ]
  },
  {
   "cell_type": "code",
   "execution_count": 65,
   "id": "9366f3c2",
   "metadata": {},
   "outputs": [
    {
     "name": "stdout",
     "output_type": "stream",
     "text": [
      "shn\n"
     ]
    }
   ],
   "source": [
    "print(message[3:6])"
   ]
  },
  {
   "cell_type": "code",
   "execution_count": 66,
   "id": "af86e5c5",
   "metadata": {},
   "outputs": [
    {
     "data": {
      "text/plain": [
       "14"
      ]
     },
     "execution_count": 66,
     "metadata": {},
     "output_type": "execute_result"
    }
   ],
   "source": [
    "len(message)"
   ]
  },
  {
   "cell_type": "code",
   "execution_count": 71,
   "id": "b149fbaf",
   "metadata": {},
   "outputs": [
    {
     "name": "stdout",
     "output_type": "stream",
     "text": [
      "Viha ak\n"
     ]
    }
   ],
   "source": [
    "print(message[0:15:2])"
   ]
  },
  {
   "cell_type": "code",
   "execution_count": 75,
   "id": "f35d4f8a",
   "metadata": {},
   "outputs": [
    {
     "name": "stdout",
     "output_type": "stream",
     "text": [
      "Viha ak\n"
     ]
    }
   ],
   "source": [
    "print(message[::2])"
   ]
  },
  {
   "cell_type": "markdown",
   "id": "5c18a206",
   "metadata": {},
   "source": [
    "# Concatenation of Strings"
   ]
  },
  {
   "cell_type": "code",
   "execution_count": 7,
   "id": "e17678c2",
   "metadata": {},
   "outputs": [
    {
     "name": "stdout",
     "output_type": "stream",
     "text": [
      "Vaishnav zalke \n"
     ]
    }
   ],
   "source": [
    "x = 'Vaishnav'\n",
    "y= ' zalke '\n",
    "z = x+y\n",
    "\n",
    "print(z)"
   ]
  },
  {
   "cell_type": "code",
   "execution_count": 14,
   "id": "c5f377ae",
   "metadata": {},
   "outputs": [
    {
     "data": {
      "text/plain": [
       "'Vaishnav zalke Vaishnav zalke Vaishnav zalke Vaishnav zalke Vaishnav zalke Vaishnav zalke Vaishnav zalke Vaishnav zalke Vaishnav zalke Vaishnav zalke '"
      ]
     },
     "execution_count": 14,
     "metadata": {},
     "output_type": "execute_result"
    }
   ],
   "source": [
    "10*z"
   ]
  },
  {
   "cell_type": "code",
   "execution_count": 10,
   "id": "9101f202",
   "metadata": {},
   "outputs": [
    {
     "data": {
      "text/plain": [
       "30"
      ]
     },
     "execution_count": 10,
     "metadata": {},
     "output_type": "execute_result"
    }
   ],
   "source": [
    "10*3"
   ]
  },
  {
   "cell_type": "markdown",
   "id": "91e2c07a",
   "metadata": {},
   "source": [
    "# Escape Sequence\n",
    "\n"
   ]
  },
  {
   "cell_type": "code",
   "execution_count": 2,
   "id": "95913c69",
   "metadata": {},
   "outputs": [
    {
     "name": "stdout",
     "output_type": "stream",
     "text": [
      "\\\n"
     ]
    }
   ],
   "source": [
    "print('\\\\')"
   ]
  },
  {
   "cell_type": "code",
   "execution_count": 27,
   "id": "01411459",
   "metadata": {},
   "outputs": [
    {
     "name": "stdout",
     "output_type": "stream",
     "text": [
      "My name is \n",
      " Vaishnav Zalke \n",
      " I live in Pune\n"
     ]
    }
   ],
   "source": [
    "print('My name is \\n Vaishnav Zalke \\n I live in Pune')   #--->\\n (new line.)"
   ]
  },
  {
   "cell_type": "code",
   "execution_count": 29,
   "id": "c94d7516",
   "metadata": {},
   "outputs": [
    {
     "name": "stdout",
     "output_type": "stream",
     "text": [
      "My name is \t\t Vaishnav Zalke\n"
     ]
    }
   ],
   "source": [
    "print('My name is \\t\\t Vaishnav Zalke')  #----->\\t (one tab)"
   ]
  },
  {
   "cell_type": "code",
   "execution_count": 36,
   "id": "dc1f7f46",
   "metadata": {},
   "outputs": [
    {
     "name": "stdout",
     "output_type": "stream",
     "text": [
      "My name is Vaishnav \t Zalke \n"
     ]
    }
   ],
   "source": [
    "print('My name is Vaishnav \\t Zalke ')"
   ]
  },
  {
   "cell_type": "markdown",
   "id": "cc0e222d",
   "metadata": {},
   "source": [
    "# String operations"
   ]
  },
  {
   "cell_type": "code",
   "execution_count": 44,
   "id": "88fbcb33",
   "metadata": {},
   "outputs": [
    {
     "name": "stdout",
     "output_type": "stream",
     "text": [
      "Before uppercase: hello python\n",
      "After uppercase: HELLO PYTHON\n",
      "After Lower: hello python\n",
      "After Capitalize: Hello python\n"
     ]
    }
   ],
   "source": [
    "message = 'hello python'\n",
    "print('Before uppercase:',message)\n",
    "\n",
    "message_upper=message.upper()\n",
    "print('After uppercase:',message_upper)\n",
    "\n",
    "message_lower=message.lower()\n",
    "print('After Lower:',message_lower)\n",
    "\n",
    "message_capitalize=message.capitalize()\n",
    "print('After Capitalize:',message_capitalize)"
   ]
  },
  {
   "cell_type": "code",
   "execution_count": 46,
   "id": "f7025ff7",
   "metadata": {},
   "outputs": [
    {
     "data": {
      "text/plain": [
       "7"
      ]
     },
     "execution_count": 46,
     "metadata": {},
     "output_type": "execute_result"
    }
   ],
   "source": [
    "x = 'HELLO WORLD'\n",
    "\n",
    "x.find('ORLD')"
   ]
  },
  {
   "cell_type": "code",
   "execution_count": 52,
   "id": "159e0540",
   "metadata": {},
   "outputs": [
    {
     "data": {
      "text/plain": [
       "'31-5-2023'"
      ]
     },
     "execution_count": 52,
     "metadata": {},
     "output_type": "execute_result"
    }
   ],
   "source": [
    "# Replace method\n",
    "y = '31/5/2023'  #31-05-2023\n",
    "\n",
    "y.replace('/','-')"
   ]
  },
  {
   "cell_type": "code",
   "execution_count": 53,
   "id": "ac1fb058",
   "metadata": {},
   "outputs": [
    {
     "data": {
      "text/plain": [
       "['31', '5', '2023']"
      ]
     },
     "execution_count": 53,
     "metadata": {},
     "output_type": "execute_result"
    }
   ],
   "source": [
    "#split method\n",
    "z= '31/5/2023'\n",
    "\n",
    "z.split('/')"
   ]
  },
  {
   "cell_type": "code",
   "execution_count": 57,
   "id": "80fa88df",
   "metadata": {},
   "outputs": [
    {
     "data": {
      "text/plain": [
       "True"
      ]
     },
     "execution_count": 57,
     "metadata": {},
     "output_type": "execute_result"
    }
   ],
   "source": [
    "x= 'abc123'   #alpnumeric---- contains alphabet and number.\n",
    "\n",
    "x.isalnum()"
   ]
  },
  {
   "cell_type": "code",
   "execution_count": 58,
   "id": "c408945a",
   "metadata": {},
   "outputs": [
    {
     "data": {
      "text/plain": [
       "True"
      ]
     },
     "execution_count": 58,
     "metadata": {},
     "output_type": "execute_result"
    }
   ],
   "source": [
    "x.islower()"
   ]
  },
  {
   "cell_type": "code",
   "execution_count": 59,
   "id": "d911a313",
   "metadata": {},
   "outputs": [
    {
     "data": {
      "text/plain": [
       "False"
      ]
     },
     "execution_count": 59,
     "metadata": {},
     "output_type": "execute_result"
    }
   ],
   "source": [
    "x.isupper()"
   ]
  },
  {
   "cell_type": "code",
   "execution_count": 60,
   "id": "3f38f480",
   "metadata": {},
   "outputs": [
    {
     "data": {
      "text/plain": [
       "['Vaishnav', 'Zalke']"
      ]
     },
     "execution_count": 60,
     "metadata": {},
     "output_type": "execute_result"
    }
   ],
   "source": [
    "z='Vaishnav/Zalke'\n",
    "z.split('/')"
   ]
  },
  {
   "cell_type": "code",
   "execution_count": 61,
   "id": "990d7e60",
   "metadata": {},
   "outputs": [
    {
     "data": {
      "text/plain": [
       "'His father was a junior manager in Mecon. Dhoni showed immense interest in playing football and badminton. Even at the school level, he excelled in both the sports and was selected for the district-level competitions. He studied at DAV Jawahar Vidya Mandir School located in Ranchi. He was an excellent goalkeeper.'"
      ]
     },
     "execution_count": 61,
     "metadata": {},
     "output_type": "execute_result"
    }
   ],
   "source": [
    "z='His father was a junior manager in Mecon. Dhoni showed immense interest in playing football and badminton. Even at the school level, he excelled in both the sports and was selected for the district-level competitions. He studied at DAV Jawahar Vidya Mandir School located in Ranchi. He was an excellent goalkeeper.'\n",
    "z"
   ]
  },
  {
   "cell_type": "code",
   "execution_count": 62,
   "id": "0cb5c594",
   "metadata": {},
   "outputs": [
    {
     "data": {
      "text/plain": [
       "'HIS FATHER WAS A JUNIOR MANAGER IN MECON. DHONI SHOWED IMMENSE INTEREST IN PLAYING FOOTBALL AND BADMINTON. EVEN AT THE SCHOOL LEVEL, HE EXCELLED IN BOTH THE SPORTS AND WAS SELECTED FOR THE DISTRICT-LEVEL COMPETITIONS. HE STUDIED AT DAV JAWAHAR VIDYA MANDIR SCHOOL LOCATED IN RANCHI. HE WAS AN EXCELLENT GOALKEEPER.'"
      ]
     },
     "execution_count": 62,
     "metadata": {},
     "output_type": "execute_result"
    }
   ],
   "source": [
    "z.upper()"
   ]
  },
  {
   "cell_type": "code",
   "execution_count": 63,
   "id": "f06cb995",
   "metadata": {},
   "outputs": [
    {
     "data": {
      "text/plain": [
       "'his father was a junior manager in mecon. dhoni showed immense interest in playing football and badminton. even at the school level, he excelled in both the sports and was selected for the district-level competitions. he studied at dav jawahar vidya mandir school located in ranchi. he was an excellent goalkeeper.'"
      ]
     },
     "execution_count": 63,
     "metadata": {},
     "output_type": "execute_result"
    }
   ],
   "source": [
    "z.lower()"
   ]
  },
  {
   "cell_type": "code",
   "execution_count": 66,
   "id": "424379a5",
   "metadata": {},
   "outputs": [
    {
     "data": {
      "text/plain": [
       "'His father was a junior manager in mecon. dhoni showed immense interest in playing football and badminton. even at the school level, he excelled in both the sports and was selected for the district-level competitions. he studied at dav jawahar vidya mandir school located in ranchi. he was an excellent goalkeeper.'"
      ]
     },
     "execution_count": 66,
     "metadata": {},
     "output_type": "execute_result"
    }
   ],
   "source": [
    "z.capitalize()"
   ]
  },
  {
   "cell_type": "code",
   "execution_count": 69,
   "id": "04f8edf6",
   "metadata": {},
   "outputs": [
    {
     "data": {
      "text/plain": [
       "5"
      ]
     },
     "execution_count": 69,
     "metadata": {},
     "output_type": "execute_result"
    }
   ],
   "source": [
    "z.count('he')"
   ]
  },
  {
   "cell_type": "markdown",
   "id": "6a42f25d",
   "metadata": {},
   "source": [
    "# String formatting"
   ]
  },
  {
   "cell_type": "code",
   "execution_count": 83,
   "id": "63c39fde",
   "metadata": {},
   "outputs": [
    {
     "name": "stdout",
     "output_type": "stream",
     "text": [
      "Hello World\n",
      "Hello Python\n",
      "Hi,My name is Vaishnav and I am 21 years old.\n",
      "Hi,My name is Rohit and I am 45 years old.\n"
     ]
    }
   ],
   "source": [
    "# format() method\n",
    "\n",
    "'''\n",
    "The format() method formats the specified value(s) and insert them inside the \n",
    "string's placeholder. The placeholder is defined using curly brackets{}.\n",
    "\n",
    "'''\n",
    "\n",
    "text= 'Hello {word}'\n",
    "\n",
    "\n",
    "print(text.format(word='World'))\n",
    "\n",
    "print(text.format(word='Python'))\n",
    "\n",
    "msg1='Hi,My name is {} and I am {} years old.'\n",
    "\n",
    "print(msg1.format('Vaishnav','21'))\n",
    "print(msg1.format('Rohit','45'))"
   ]
  },
  {
   "cell_type": "code",
   "execution_count": 84,
   "id": "e7512351",
   "metadata": {},
   "outputs": [
    {
     "name": "stdout",
     "output_type": "stream",
     "text": [
      "Hi,My name is Ritika and I am 32 years old.\n"
     ]
    }
   ],
   "source": [
    "print(msg1.format('Ritika','32'))"
   ]
  },
  {
   "cell_type": "code",
   "execution_count": 86,
   "id": "17e31f2f",
   "metadata": {},
   "outputs": [
    {
     "name": "stdout",
     "output_type": "stream",
     "text": [
      "Hi,My name is Vaishnav and I am 21 years old.\n"
     ]
    }
   ],
   "source": [
    "print(msg1.format('Vaishnav','21','Delhi'))"
   ]
  },
  {
   "cell_type": "code",
   "execution_count": 87,
   "id": "78065e24",
   "metadata": {},
   "outputs": [
    {
     "name": "stdout",
     "output_type": "stream",
     "text": [
      "My name is Vaishnav and I am 21 years old.\n"
     ]
    }
   ],
   "source": [
    "msg2='My name is {name} and I am {age} years old.'\n",
    "\n",
    "print(msg2.format(name='Vaishnav',age=21))"
   ]
  },
  {
   "cell_type": "code",
   "execution_count": 88,
   "id": "48c08747",
   "metadata": {},
   "outputs": [
    {
     "ename": "KeyError",
     "evalue": "'name'",
     "output_type": "error",
     "traceback": [
      "\u001b[1;31m---------------------------------------------------------------------------\u001b[0m",
      "\u001b[1;31mKeyError\u001b[0m                                  Traceback (most recent call last)",
      "\u001b[1;32m~\\AppData\\Local\\Temp\\ipykernel_28228\\4100449218.py\u001b[0m in \u001b[0;36m<module>\u001b[1;34m\u001b[0m\n\u001b[1;32m----> 1\u001b[1;33m \u001b[0mprint\u001b[0m\u001b[1;33m(\u001b[0m\u001b[0mmsg2\u001b[0m\u001b[1;33m.\u001b[0m\u001b[0mformat\u001b[0m\u001b[1;33m(\u001b[0m\u001b[1;34m'vaishnav'\u001b[0m\u001b[1;33m,\u001b[0m\u001b[1;36m21\u001b[0m\u001b[1;33m)\u001b[0m\u001b[1;33m)\u001b[0m\u001b[1;33m\u001b[0m\u001b[1;33m\u001b[0m\u001b[0m\n\u001b[0m",
      "\u001b[1;31mKeyError\u001b[0m: 'name'"
     ]
    }
   ],
   "source": [
    "print(msg2.format('vaishnav',21))"
   ]
  },
  {
   "cell_type": "code",
   "execution_count": 3,
   "id": "8964b795",
   "metadata": {},
   "outputs": [
    {
     "name": "stdout",
     "output_type": "stream",
     "text": [
      "Hello Myself Vaishnav and I'm Not Good But Very Intelligent.\n"
     ]
    }
   ],
   "source": [
    "# \n",
    "\n",
    "x = \"Hello Myself {} and I'm {xyz} But Very Intelligent.\"\n",
    "\n",
    "print(x.format('Vaishnav',xyz='Not Good'))\n",
    "\n"
   ]
  },
  {
   "cell_type": "code",
   "execution_count": null,
   "id": "d5988ac3",
   "metadata": {},
   "outputs": [],
   "source": [
    "y=\"My self,{} My Qualification is {}. I'm Compliting {Courses_name}. After that I want to join in  {Company}. Then I'm self Depended. \""
   ]
  },
  {
   "cell_type": "code",
   "execution_count": null,
   "id": "53bd871e",
   "metadata": {},
   "outputs": [],
   "source": [
    "a='Hello {}!'\n",
    "\n",
    "I am {Swapnil}.\n",
    "\n",
    "I belonged to {Pune}, Maharashtra.\n",
    "\n",
    "Talking about my family my father is a {Teacher} and my mother is a {HouseWife}.\n",
    "\n",
    "I have completed my bachelor's degree in {B.Sc} from {Savitribai Phule Pune University}.\n",
    "\n",
    "My hobbies are {reading books} and playing {cricket}.\n",
    "\n",
    "My Weakness is I am {irritated} when someone can't finish their task on time.\n",
    "\n",
    "My short-term goal is to become an {excellent Android developer}.\n",
    "\n",
    "\n"
   ]
  }
 ],
 "metadata": {
  "kernelspec": {
   "display_name": "Python 3 (ipykernel)",
   "language": "python",
   "name": "python3"
  },
  "language_info": {
   "codemirror_mode": {
    "name": "ipython",
    "version": 3
   },
   "file_extension": ".py",
   "mimetype": "text/x-python",
   "name": "python",
   "nbconvert_exporter": "python",
   "pygments_lexer": "ipython3",
   "version": "3.9.13"
  }
 },
 "nbformat": 4,
 "nbformat_minor": 5
}
