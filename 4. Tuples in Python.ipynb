{
 "cells": [
  {
   "cell_type": "markdown",
   "id": "57e0106c",
   "metadata": {},
   "source": [
    "# 4. Tuples in Python\n",
    "\n",
    "Tuples are immutable list and cannot be changed in any way once it is created.\n",
    "\n",
    "\n",
    " * Tuples are defined in the same way as lists.\n",
    " * They are enclosed within parenthesis and not within the sequare braces.\n",
    " * Tuples are ordered, indexed collections of data.\n",
    " * Similar to string indices, the first value in the tuple will have the index[0], the second value [1]\n",
    " * Tuples also has the same structure where commas separate the values.\n",
    " * Tuples can store duplicate values.\n",
    " * Tuples allow you to store several data items including string, integer, float in one variable.\n",
    " "
   ]
  },
  {
   "cell_type": "code",
   "execution_count": 3,
   "id": "70c31b30",
   "metadata": {},
   "outputs": [
    {
     "data": {
      "text/plain": [
       "('Hello',\n",
       " 'Python',\n",
       " 3.14,\n",
       " 1.618,\n",
       " True,\n",
       " False,\n",
       " 32,\n",
       " [1, 2, 3],\n",
       " {1, 2, 3},\n",
       " {'A': 3, 'B': 8},\n",
       " (0, 1))"
      ]
     },
     "execution_count": 3,
     "metadata": {},
     "output_type": "execute_result"
    }
   ],
   "source": [
    "# Take a example of tuple\n",
    "\n",
    "\n",
    "tuple_1=('Hello','Python',3.14,1.618,True,False,32,[1,2,3],{1,2,3},{'A':3,'B':8},(0,1))\n",
    "tuple_1\n",
    "\n"
   ]
  },
  {
   "cell_type": "code",
   "execution_count": 2,
   "id": "d9b6f873",
   "metadata": {},
   "outputs": [
    {
     "name": "stdout",
     "output_type": "stream",
     "text": [
      "<class 'tuple'>\n"
     ]
    }
   ],
   "source": [
    "print(type(tuple_1))"
   ]
  },
  {
   "cell_type": "code",
   "execution_count": 12,
   "id": "5891708e",
   "metadata": {},
   "outputs": [
    {
     "name": "stdout",
     "output_type": "stream",
     "text": [
      "<class 'str'>\n"
     ]
    }
   ],
   "source": [
    "print(type(tuple_1[0]))"
   ]
  },
  {
   "cell_type": "markdown",
   "id": "f7724b3c",
   "metadata": {},
   "source": [
    "# Indexing"
   ]
  },
  {
   "cell_type": "code",
   "execution_count": 13,
   "id": "2580d61e",
   "metadata": {},
   "outputs": [
    {
     "name": "stdout",
     "output_type": "stream",
     "text": [
      "Hello\n",
      "<class 'str'>\n",
      "Python\n",
      "<class 'str'>\n"
     ]
    }
   ],
   "source": [
    "print(tuple_1[-11])\n",
    "print(type(tuple_1[-11]))\n",
    "print(tuple_1[1])\n",
    "print(type(tuple_1[1]))"
   ]
  },
  {
   "cell_type": "markdown",
   "id": "d21f4933",
   "metadata": {},
   "source": [
    "# Concatenation of tuples\n",
    "\n",
    "To Concatenate tuples, + sign is used"
   ]
  },
  {
   "cell_type": "code",
   "execution_count": 14,
   "id": "f4b7c0a0",
   "metadata": {},
   "outputs": [
    {
     "name": "stdout",
     "output_type": "stream",
     "text": [
      "('Hello', 'Python', 3.14, 1.618, True, False, 32, [1, 2, 3], {1, 2, 3}, {'A': 3, 'B': 8}, (0, 1), 'Vaishnav', 'Durgesh', 'Sampada', 'Tanuja', 2023)\n"
     ]
    }
   ],
   "source": [
    "tuple_2=tuple_1+('Vaishnav','Durgesh','Sampada','Tanuja',2023)\n",
    "print(tuple_2)"
   ]
  },
  {
   "cell_type": "code",
   "execution_count": 15,
   "id": "22a55331",
   "metadata": {},
   "outputs": [
    {
     "name": "stdout",
     "output_type": "stream",
     "text": [
      "('Hello', 'Python', 3.14, 1.618, True, False, 32, [1, 2, 3], {1, 2, 3}, {'A': 3, 'B': 8}, (0, 1), 'Hello', 'Python', 3.14, 1.618, True, False, 32, [1, 2, 3], {1, 2, 3}, {'A': 3, 'B': 8}, (0, 1), 'Vaishnav', 'Durgesh', 'Sampada', 'Tanuja', 2023)\n"
     ]
    }
   ],
   "source": [
    "tuple_3=tuple_1+tuple_2\n",
    "print(tuple_3)"
   ]
  },
  {
   "cell_type": "code",
   "execution_count": 21,
   "id": "9892daf7",
   "metadata": {},
   "outputs": [
    {
     "data": {
      "text/plain": [
       "(1, 2, 3, 4, 1, 2, 3, 4)"
      ]
     },
     "execution_count": 21,
     "metadata": {},
     "output_type": "execute_result"
    }
   ],
   "source": [
    "#Repetition of a tuple\n",
    "\n",
    "rep_tup=(1,2,3,4)\n",
    "rep_tup*2"
   ]
  },
  {
   "cell_type": "markdown",
   "id": "070ed1ce",
   "metadata": {},
   "source": [
    "# Membership "
   ]
  },
  {
   "cell_type": "code",
   "execution_count": 24,
   "id": "68ce9222",
   "metadata": {},
   "outputs": [
    {
     "name": "stdout",
     "output_type": "stream",
     "text": [
      "<class 'tuple'>\n",
      "False\n",
      "True\n",
      "False\n",
      "False\n"
     ]
    }
   ],
   "source": [
    "rep_tup=(1,2,3,4)\n",
    "print(type(rep_tup))\n",
    "\n",
    "print(5 in rep_tup)\n",
    "print(4 in rep_tup)\n",
    "print(10 in rep_tup)\n",
    "print(4  not in rep_tup)"
   ]
  },
  {
   "cell_type": "markdown",
   "id": "111aeefa",
   "metadata": {},
   "source": [
    "# Iteration"
   ]
  },
  {
   "cell_type": "code",
   "execution_count": 26,
   "id": "ff79fc45",
   "metadata": {},
   "outputs": [
    {
     "name": "stdout",
     "output_type": "stream",
     "text": [
      "1\n",
      "2\n",
      "3\n",
      "4\n"
     ]
    }
   ],
   "source": [
    "rep_tup = (1,2,3,4)\n",
    "\n",
    "for x in rep_tup:\n",
    "    print(x)"
   ]
  },
  {
   "cell_type": "markdown",
   "id": "0f784362",
   "metadata": {},
   "source": [
    "# cmp() function\n",
    "\n",
    "It is to campare two tuples and Return True or False."
   ]
  },
  {
   "cell_type": "code",
   "execution_count": null,
   "id": "e1917acc",
   "metadata": {},
   "outputs": [],
   "source": []
  },
  {
   "cell_type": "markdown",
   "id": "5d0916ab",
   "metadata": {},
   "source": [
    "# min() function"
   ]
  },
  {
   "cell_type": "code",
   "execution_count": 31,
   "id": "d023625d",
   "metadata": {},
   "outputs": [
    {
     "name": "stdout",
     "output_type": "stream",
     "text": [
      "-1\n",
      "100\n"
     ]
    }
   ],
   "source": [
    "rep_tup = (0,1,2,3,4,100,-1)\n",
    "\n",
    "print(min(rep_tup))\n",
    "print(max(rep_tup))"
   ]
  },
  {
   "cell_type": "markdown",
   "id": "f3efd4b0",
   "metadata": {},
   "source": [
    "# tup(seq) function"
   ]
  },
  {
   "cell_type": "code",
   "execution_count": 36,
   "id": "bb008838",
   "metadata": {},
   "outputs": [
    {
     "name": "stdout",
     "output_type": "stream",
     "text": [
      "<class 'str'>\n",
      "('A', 'T', 'G', 'C', 'G', 'T', 'A', 'Z', 'P')\n",
      "<class 'tuple'>\n"
     ]
    }
   ],
   "source": [
    "seq='ATGCGTAZP'\n",
    "print(type(seq))\n",
    "print(tuple(seq))\n",
    "print(type(tuple(seq)))"
   ]
  },
  {
   "cell_type": "markdown",
   "id": "7e5e0002",
   "metadata": {},
   "source": [
    "# Slicing\n",
    "\n",
    " * To obtains a new tuple from the current tuple, the silicing method is ueed."
   ]
  },
  {
   "cell_type": "code",
   "execution_count": 43,
   "id": "e60c101b",
   "metadata": {},
   "outputs": [
    {
     "name": "stdout",
     "output_type": "stream",
     "text": [
      "('Hello', 'Python', 3.14, 1.618, True, False, 32, 100, [1, 2, 3], {1, 2, 3}, {'A': 2, 3: 'B'}, ('Hello', 123))\n"
     ]
    }
   ],
   "source": [
    "tuple_1=('Hello','Python',3.14,1.618,True,False,32,100,[1,2,3],{1,2,3},{'A':2,3:'B'},('Hello',123))\n",
    "\n",
    "print(tuple_1)"
   ]
  },
  {
   "cell_type": "code",
   "execution_count": 47,
   "id": "f7330075",
   "metadata": {},
   "outputs": [
    {
     "name": "stdout",
     "output_type": "stream",
     "text": [
      "(False,)\n"
     ]
    }
   ],
   "source": [
    "print(tuple_1[5:6])"
   ]
  },
  {
   "cell_type": "markdown",
   "id": "d74170a9",
   "metadata": {},
   "source": [
    "# len() function\n",
    "\n",
    " * To obtain how many elements there are in tuple, use len() functions."
   ]
  },
  {
   "cell_type": "code",
   "execution_count": 48,
   "id": "64819650",
   "metadata": {},
   "outputs": [
    {
     "data": {
      "text/plain": [
       "12"
      ]
     },
     "execution_count": 48,
     "metadata": {},
     "output_type": "execute_result"
    }
   ],
   "source": [
    "tuple_1=('Hello','Python',3.14,1.618,True,False,32,100,[1,2,3],{1,2,3},{'A':2,3:'B'},('Hello',123))\n",
    "\n",
    "len(tuple_1)"
   ]
  },
  {
   "cell_type": "markdown",
   "id": "7d604fa6",
   "metadata": {},
   "source": [
    "# Sorting tuple\n",
    "\n"
   ]
  },
  {
   "cell_type": "code",
   "execution_count": 51,
   "id": "683f1fed",
   "metadata": {},
   "outputs": [
    {
     "name": "stdout",
     "output_type": "stream",
     "text": [
      "[0, 1, 1, 3, 4, 5, 5, 5, 6, 8, 9, 24, 56]\n"
     ]
    }
   ],
   "source": [
    "# Tuples can be sorted and save as a new tuple.\n",
    "\n",
    "tuple_2=(0,9,8,5,6,4,1,3,5,1,5,24,56)\n",
    "sorted_tuple_2=sorted(tuple_2)\n",
    "print(sorted_tuple_2)"
   ]
  },
  {
   "cell_type": "markdown",
   "id": "a502c007",
   "metadata": {},
   "source": [
    "# Nested tuple\n",
    "\n",
    " In Python, a tuple written inside another tuple is known as a nested tuple."
   ]
  },
  {
   "cell_type": "code",
   "execution_count": 52,
   "id": "03f0e770",
   "metadata": {},
   "outputs": [
    {
     "data": {
      "text/plain": [
       "('Biotechnology',\n",
       " (0, 5),\n",
       " ('Fermentation', 'ethanol'),\n",
       " (3.14, 'pi', (1.618, 'Golden Ratio')))"
      ]
     },
     "execution_count": 52,
     "metadata": {},
     "output_type": "execute_result"
    }
   ],
   "source": [
    "# Take a nested tuple\n",
    "\n",
    "\n",
    "nested_tuple=('Biotechnology',(0,5),('Fermentation','ethanol'),(3.14,'pi',(1.618,'Golden Ratio')))\n",
    "\n",
    "nested_tuple"
   ]
  },
  {
   "cell_type": "code",
   "execution_count": 53,
   "id": "ec593ec3",
   "metadata": {},
   "outputs": [
    {
     "name": "stdout",
     "output_type": "stream",
     "text": [
      "Item 0 of nested tuple is: Biotechnology\n"
     ]
    }
   ],
   "source": [
    "# Now priting the each element of the nested tuple.\n",
    "\n",
    "print('Item 0 of nested tuple is:',nested_tuple[0])"
   ]
  },
  {
   "cell_type": "markdown",
   "id": "565c6b44",
   "metadata": {},
   "source": [
    "# Tuples are immutable."
   ]
  },
  {
   "cell_type": "code",
   "execution_count": 59,
   "id": "a0672ce3",
   "metadata": {},
   "outputs": [
    {
     "ename": "TypeError",
     "evalue": "'tuple' object does not support item assignment",
     "output_type": "error",
     "traceback": [
      "\u001b[1;31m---------------------------------------------------------------------------\u001b[0m",
      "\u001b[1;31mTypeError\u001b[0m                                 Traceback (most recent call last)",
      "\u001b[1;32m~\\AppData\\Local\\Temp\\ipykernel_2424\\1525517948.py\u001b[0m in \u001b[0;36m<module>\u001b[1;34m\u001b[0m\n\u001b[0;32m      2\u001b[0m \u001b[1;33m\u001b[0m\u001b[0m\n\u001b[0;32m      3\u001b[0m \u001b[0mtuple_4\u001b[0m\u001b[1;33m=\u001b[0m\u001b[1;33m(\u001b[0m\u001b[1;36m1\u001b[0m\u001b[1;33m,\u001b[0m\u001b[1;36m2\u001b[0m\u001b[1;33m,\u001b[0m\u001b[1;36m3\u001b[0m\u001b[1;33m,\u001b[0m\u001b[1;36m4\u001b[0m\u001b[1;33m,\u001b[0m\u001b[1;36m5\u001b[0m\u001b[1;33m)\u001b[0m\u001b[1;33m\u001b[0m\u001b[1;33m\u001b[0m\u001b[0m\n\u001b[1;32m----> 4\u001b[1;33m \u001b[0mtuple_4\u001b[0m\u001b[1;33m[\u001b[0m\u001b[1;36m0\u001b[0m\u001b[1;33m]\u001b[0m\u001b[1;33m=\u001b[0m\u001b[1;36m100\u001b[0m\u001b[1;33m\u001b[0m\u001b[1;33m\u001b[0m\u001b[0m\n\u001b[0m\u001b[0;32m      5\u001b[0m \u001b[0mprint\u001b[0m\u001b[1;33m(\u001b[0m\u001b[0mtuple_4\u001b[0m\u001b[1;33m)\u001b[0m\u001b[1;33m\u001b[0m\u001b[1;33m\u001b[0m\u001b[0m\n\u001b[0;32m      6\u001b[0m \u001b[1;33m\u001b[0m\u001b[0m\n",
      "\u001b[1;31mTypeError\u001b[0m: 'tuple' object does not support item assignment"
     ]
    }
   ],
   "source": [
    "# Take a tuple as an example\n",
    "\n",
    "tuple_4=(1,2,3,4,5)\n",
    "tuple_4[0]=100\n",
    "print(tuple_4)\n",
    "\n",
    "\n",
    "# The output shows the tuple is immutable"
   ]
  },
  {
   "cell_type": "markdown",
   "id": "527d37b0",
   "metadata": {},
   "source": [
    "# Delete a tuple\n",
    "\n",
    "\n",
    " * An element in a tuple can not be deleted since it is immutable.\n",
    " * But a whole tuple can be deleted."
   ]
  },
  {
   "cell_type": "code",
   "execution_count": 61,
   "id": "acb1feac",
   "metadata": {},
   "outputs": [
    {
     "name": "stdout",
     "output_type": "stream",
     "text": [
      "Before Deleting: (1, 3, 5, 7, 8, 9)\n"
     ]
    },
    {
     "ename": "NameError",
     "evalue": "name 'tuple_5' is not defined",
     "output_type": "error",
     "traceback": [
      "\u001b[1;31m---------------------------------------------------------------------------\u001b[0m",
      "\u001b[1;31mNameError\u001b[0m                                 Traceback (most recent call last)",
      "\u001b[1;32m~\\AppData\\Local\\Temp\\ipykernel_2424\\3560321248.py\u001b[0m in \u001b[0;36m<module>\u001b[1;34m\u001b[0m\n\u001b[0;32m      4\u001b[0m \u001b[1;33m\u001b[0m\u001b[0m\n\u001b[0;32m      5\u001b[0m \u001b[1;32mdel\u001b[0m\u001b[1;33m(\u001b[0m\u001b[0mtuple_5\u001b[0m\u001b[1;33m)\u001b[0m   \u001b[1;31m#del----delete command\u001b[0m\u001b[1;33m\u001b[0m\u001b[1;33m\u001b[0m\u001b[0m\n\u001b[1;32m----> 6\u001b[1;33m \u001b[0mprint\u001b[0m\u001b[1;33m(\u001b[0m\u001b[1;34m'After Deleting:'\u001b[0m\u001b[1;33m,\u001b[0m\u001b[0mtuple_5\u001b[0m\u001b[1;33m)\u001b[0m\u001b[1;33m\u001b[0m\u001b[1;33m\u001b[0m\u001b[0m\n\u001b[0m",
      "\u001b[1;31mNameError\u001b[0m: name 'tuple_5' is not defined"
     ]
    }
   ],
   "source": [
    "tuple_5=(1,3,5,7,8,9)\n",
    "\n",
    "print('Before Deleting:',tuple_5)\n",
    "\n",
    "del(tuple_5)   #del----delete command\n",
    "print('After Deleting:',tuple_5)"
   ]
  },
  {
   "cell_type": "code",
   "execution_count": null,
   "id": "6ea4486b",
   "metadata": {},
   "outputs": [],
   "source": []
  }
 ],
 "metadata": {
  "kernelspec": {
   "display_name": "Python 3 (ipykernel)",
   "language": "python",
   "name": "python3"
  },
  "language_info": {
   "codemirror_mode": {
    "name": "ipython",
    "version": 3
   },
   "file_extension": ".py",
   "mimetype": "text/x-python",
   "name": "python",
   "nbconvert_exporter": "python",
   "pygments_lexer": "ipython3",
   "version": "3.9.13"
  }
 },
 "nbformat": 4,
 "nbformat_minor": 5
}
