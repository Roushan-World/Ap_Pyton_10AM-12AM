{
 "cells": [
  {
   "cell_type": "markdown",
   "id": "57e0106c",
   "metadata": {},
   "source": [
    "# 4. Tuples in Python\n",
    "\n",
    "Tuples are immutable list and cannot be changed in any way once it is created.\n",
    "\n",
    "\n",
    " * Tuples are defined in the same way as lists.\n",
    " * They are enclosed within parenthesis and not within the sequare braces.\n",
    " * Tuples are ordered, indexed collections of data.\n",
    " * Similar to string indices, the first value in the tuple will have the index[0], the second value [1]\n",
    " * Tuples also has the same structure where commas separate the values.\n",
    " * Tuples can store duplicate values.\n",
    " * Tuples allow you to store several data items including string, integer, float in one variable.\n",
    " "
   ]
  },
  {
   "cell_type": "code",
   "execution_count": 3,
   "id": "70c31b30",
   "metadata": {},
   "outputs": [
    {
     "data": {
      "text/plain": [
       "('Hello',\n",
       " 'Python',\n",
       " 3.14,\n",
       " 1.618,\n",
       " True,\n",
       " False,\n",
       " 32,\n",
       " [1, 2, 3],\n",
       " {1, 2, 3},\n",
       " {'A': 3, 'B': 8},\n",
       " (0, 1))"
      ]
     },
     "execution_count": 3,
     "metadata": {},
     "output_type": "execute_result"
    }
   ],
   "source": [
    "# Take a example of tuple\n",
    "\n",
    "\n",
    "tuple_1=('Hello','Python',3.14,1.618,True,False,32,[1,2,3],{1,2,3},{'A':3,'B':8},(0,1))\n",
    "tuple_1\n",
    "\n"
   ]
  },
  {
   "cell_type": "code",
   "execution_count": 2,
   "id": "d9b6f873",
   "metadata": {},
   "outputs": [
    {
     "name": "stdout",
     "output_type": "stream",
     "text": [
      "<class 'tuple'>\n"
     ]
    }
   ],
   "source": [
    "print(type(tuple_1))"
   ]
  },
  {
   "cell_type": "code",
   "execution_count": 12,
   "id": "5891708e",
   "metadata": {},
   "outputs": [
    {
     "name": "stdout",
     "output_type": "stream",
     "text": [
      "<class 'str'>\n"
     ]
    }
   ],
   "source": [
    "print(type(tuple_1[0]))"
   ]
  },
  {
   "cell_type": "markdown",
   "id": "f7724b3c",
   "metadata": {},
   "source": [
    "# Indexing"
   ]
  },
  {
   "cell_type": "code",
   "execution_count": 13,
   "id": "2580d61e",
   "metadata": {},
   "outputs": [
    {
     "name": "stdout",
     "output_type": "stream",
     "text": [
      "Hello\n",
      "<class 'str'>\n",
      "Python\n",
      "<class 'str'>\n"
     ]
    }
   ],
   "source": [
    "print(tuple_1[-11])\n",
    "print(type(tuple_1[-11]))\n",
    "print(tuple_1[1])\n",
    "print(type(tuple_1[1]))"
   ]
  },
  {
   "cell_type": "markdown",
   "id": "d21f4933",
   "metadata": {},
   "source": [
    "# Concatenation of tuples\n",
    "\n",
    "To Concatenate tuples, + sign is used"
   ]
  },
  {
   "cell_type": "code",
   "execution_count": 14,
   "id": "f4b7c0a0",
   "metadata": {},
   "outputs": [
    {
     "name": "stdout",
     "output_type": "stream",
     "text": [
      "('Hello', 'Python', 3.14, 1.618, True, False, 32, [1, 2, 3], {1, 2, 3}, {'A': 3, 'B': 8}, (0, 1), 'Vaishnav', 'Durgesh', 'Sampada', 'Tanuja', 2023)\n"
     ]
    }
   ],
   "source": [
    "tuple_2=tuple_1+('Vaishnav','Durgesh','Sampada','Tanuja',2023)\n",
    "print(tuple_2)"
   ]
  },
  {
   "cell_type": "code",
   "execution_count": 15,
   "id": "22a55331",
   "metadata": {},
   "outputs": [
    {
     "name": "stdout",
     "output_type": "stream",
     "text": [
      "('Hello', 'Python', 3.14, 1.618, True, False, 32, [1, 2, 3], {1, 2, 3}, {'A': 3, 'B': 8}, (0, 1), 'Hello', 'Python', 3.14, 1.618, True, False, 32, [1, 2, 3], {1, 2, 3}, {'A': 3, 'B': 8}, (0, 1), 'Vaishnav', 'Durgesh', 'Sampada', 'Tanuja', 2023)\n"
     ]
    }
   ],
   "source": [
    "tuple_3=tuple_1+tuple_2\n",
    "print(tuple_3)"
   ]
  },
  {
   "cell_type": "code",
   "execution_count": 21,
   "id": "9892daf7",
   "metadata": {},
   "outputs": [
    {
     "data": {
      "text/plain": [
       "(1, 2, 3, 4, 1, 2, 3, 4)"
      ]
     },
     "execution_count": 21,
     "metadata": {},
     "output_type": "execute_result"
    }
   ],
   "source": [
    "#Repetition of a tuple\n",
    "\n",
    "rep_tup=(1,2,3,4)\n",
    "rep_tup*2"
   ]
  },
  {
   "cell_type": "code",
   "execution_count": null,
   "id": "1395b500",
   "metadata": {},
   "outputs": [],
   "source": []
  }
 ],
 "metadata": {
  "kernelspec": {
   "display_name": "Python 3 (ipykernel)",
   "language": "python",
   "name": "python3"
  },
  "language_info": {
   "codemirror_mode": {
    "name": "ipython",
    "version": 3
   },
   "file_extension": ".py",
   "mimetype": "text/x-python",
   "name": "python",
   "nbconvert_exporter": "python",
   "pygments_lexer": "ipython3",
   "version": "3.9.13"
  }
 },
 "nbformat": 4,
 "nbformat_minor": 5
}
