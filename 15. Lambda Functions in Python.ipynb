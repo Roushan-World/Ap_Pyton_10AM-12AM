{
 "cells": [
  {
   "cell_type": "markdown",
   "id": "e74669db",
   "metadata": {},
   "source": [
    "# 15. Lambda Functions in Python\n",
    "\n",
    "\n",
    " * __A Lambda function is a small anonymous funciton.__\n",
    " * __A lambda function can take any number of arguments, but can only have one expression.__\n",
    " * __The Expression is evaluated and returned.__\n",
    " * __Lambda functions can be used whereever function objects are required.__\n",
    " * __Lambda expression(or lambda functions) are essentially blocks of code that can be assigned to variables, passed as an arguments, or returned from a function call, in languages that support high-order functions.__\n",
    " * __They have been part of programming languages for quire some time.__\n",
    " * __The main role of lambda function is better described in the scenarios when we employ them anonymously inside another function.__\n",
    " * __n Python, the lambda function can be utilized as an arguments to the high order functions as an arguments.__"
   ]
  },
  {
   "cell_type": "code",
   "execution_count": 1,
   "id": "8eb4a9e2",
   "metadata": {},
   "outputs": [
    {
     "name": "stdout",
     "output_type": "stream",
     "text": [
      "30\n"
     ]
    }
   ],
   "source": [
    "def f(x,y):\n",
    "    return x+y\n",
    "print(f(10,20))"
   ]
  },
  {
   "cell_type": "code",
   "execution_count": 4,
   "id": "72cdd8bd",
   "metadata": {},
   "outputs": [
    {
     "data": {
      "text/plain": [
       "30"
      ]
     },
     "execution_count": 4,
     "metadata": {},
     "output_type": "execute_result"
    }
   ],
   "source": [
    "(lambda y:y+10)(20)"
   ]
  },
  {
   "cell_type": "code",
   "execution_count": 5,
   "id": "8dcc85d2",
   "metadata": {},
   "outputs": [
    {
     "data": {
      "text/plain": [
       "10.0"
      ]
     },
     "execution_count": 5,
     "metadata": {},
     "output_type": "execute_result"
    }
   ],
   "source": [
    "(lambda x:x/10)(100)"
   ]
  },
  {
   "cell_type": "code",
   "execution_count": 7,
   "id": "7b4af691",
   "metadata": {},
   "outputs": [
    {
     "data": {
      "text/plain": [
       "100000000000000000000"
      ]
     },
     "execution_count": 7,
     "metadata": {},
     "output_type": "execute_result"
    }
   ],
   "source": [
    "#Exponent\n",
    "10**20"
   ]
  },
  {
   "cell_type": "code",
   "execution_count": 8,
   "id": "71b38412",
   "metadata": {},
   "outputs": [
    {
     "name": "stdout",
     "output_type": "stream",
     "text": [
      "100000000000000000000\n"
     ]
    }
   ],
   "source": [
    "def func(x,y):\n",
    "    return x**y\n",
    "print(func(10,20))"
   ]
  },
  {
   "cell_type": "code",
   "execution_count": 11,
   "id": "ef5c8caa",
   "metadata": {},
   "outputs": [
    {
     "name": "stdout",
     "output_type": "stream",
     "text": [
      "The power of 10 and 20 is:100000000000000000000\n"
     ]
    }
   ],
   "source": [
    "# With lambda function\n",
    "\n",
    "print(f'The power of 10 and 20 is:{(lambda x,y:x**y)(10,20)}')"
   ]
  },
  {
   "cell_type": "code",
   "execution_count": 12,
   "id": "f1b4ca92",
   "metadata": {},
   "outputs": [
    {
     "name": "stdout",
     "output_type": "stream",
     "text": [
      "The volume of cube is using function: 1000\n"
     ]
    }
   ],
   "source": [
    "# Find the volume of cube \n",
    "\n",
    "def cube_volume(a):\n",
    "    return a**3\n",
    "print(f'The volume of cube is using function: {cube_volume(10)}')"
   ]
  },
  {
   "cell_type": "code",
   "execution_count": 14,
   "id": "a6deba30",
   "metadata": {},
   "outputs": [
    {
     "name": "stdout",
     "output_type": "stream",
     "text": [
      "The volume of cube using lambda is:1000\n"
     ]
    }
   ],
   "source": [
    "# with lambda function\n",
    "\n",
    "print(f'The volume of cube using lambda is:{(lambda a:a**3)(10)}')"
   ]
  },
  {
   "cell_type": "code",
   "execution_count": 18,
   "id": "30d87503",
   "metadata": {},
   "outputs": [
    {
     "data": {
      "text/plain": [
       "[6, 28, 100, 200, 456]"
      ]
     },
     "execution_count": 18,
     "metadata": {},
     "output_type": "execute_result"
    }
   ],
   "source": [
    "# Write a program a new list when special number in the list are divided by 2 and the remainder is 0.\n",
    "special=[0.577,1.618,2.718,3.147,6,28,37,1729,100,200,215,456,200.31]\n",
    "\n",
    "list(filter(lambda x:(x%2==0),special))"
   ]
  },
  {
   "cell_type": "code",
   "execution_count": 23,
   "id": "ac752947",
   "metadata": {},
   "outputs": [
    {
     "name": "stdout",
     "output_type": "stream",
     "text": [
      "Enter your age 21\n",
      "Therefore, You Can Vote\n"
     ]
    }
   ],
   "source": [
    "# Write a program you are elegible for voting or not.\n",
    "\n",
    "age=int(input('Enter your age '))\n",
    "(lambda age:print('Therefore, You Can Vote') if age>=18 else print('You can not vote'))(age)"
   ]
  },
  {
   "cell_type": "code",
   "execution_count": 27,
   "id": "0878ef83",
   "metadata": {},
   "outputs": [
    {
     "name": "stdout",
     "output_type": "stream",
     "text": [
      "Python is a programming language.\n"
     ]
    }
   ],
   "source": [
    "text='Python is a programming language.'\n",
    "(lambda x:print(x))(text)"
   ]
  },
  {
   "cell_type": "code",
   "execution_count": null,
   "id": "594fd2b1",
   "metadata": {},
   "outputs": [],
   "source": []
  }
 ],
 "metadata": {
  "kernelspec": {
   "display_name": "Python 3 (ipykernel)",
   "language": "python",
   "name": "python3"
  },
  "language_info": {
   "codemirror_mode": {
    "name": "ipython",
    "version": 3
   },
   "file_extension": ".py",
   "mimetype": "text/x-python",
   "name": "python",
   "nbconvert_exporter": "python",
   "pygments_lexer": "ipython3",
   "version": "3.9.13"
  }
 },
 "nbformat": 4,
 "nbformat_minor": 5
}
