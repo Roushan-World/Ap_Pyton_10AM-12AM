{
 "cells": [
  {
   "cell_type": "markdown",
   "id": "e74669db",
   "metadata": {},
   "source": [
    "# 15. Lambda Functions in Python\n",
    "\n",
    "\n",
    " * __A Lambda function is a small anonymous funciton.__\n",
    " * __A lambda function can take any number of arguments, but can only have one expression.__\n",
    " * __The Expression is evaluated and returned.__\n",
    " * __Lambda functions can be used whereever function objects are required.__\n",
    " * __Lambda expression(or lambda functions) are essentially blocks of code that can be assigned to variables, passed as an arguments, or returned from a function call, in languages that support high-order functions.__\n",
    " * __They have been part of programming languages for quire some time.__\n",
    " * __The main role of lambda function is better described in the scenarios when we employ them anonymously inside another function.__\n",
    " * __n Python, the lambda function can be utilized as an arguments to the high order functions as an arguments.__"
   ]
  },
  {
   "cell_type": "code",
   "execution_count": 1,
   "id": "8eb4a9e2",
   "metadata": {},
   "outputs": [
    {
     "name": "stdout",
     "output_type": "stream",
     "text": [
      "30\n"
     ]
    }
   ],
   "source": [
    "def f(x,y):\n",
    "    return x+y\n",
    "print(f(10,20))"
   ]
  },
  {
   "cell_type": "code",
   "execution_count": 4,
   "id": "72cdd8bd",
   "metadata": {},
   "outputs": [
    {
     "data": {
      "text/plain": [
       "30"
      ]
     },
     "execution_count": 4,
     "metadata": {},
     "output_type": "execute_result"
    }
   ],
   "source": [
    "(lambda y:y+10)(20)"
   ]
  },
  {
   "cell_type": "code",
   "execution_count": 5,
   "id": "8dcc85d2",
   "metadata": {},
   "outputs": [
    {
     "data": {
      "text/plain": [
       "10.0"
      ]
     },
     "execution_count": 5,
     "metadata": {},
     "output_type": "execute_result"
    }
   ],
   "source": [
    "(lambda x:x/10)(100)"
   ]
  },
  {
   "cell_type": "code",
   "execution_count": 7,
   "id": "7b4af691",
   "metadata": {},
   "outputs": [
    {
     "data": {
      "text/plain": [
       "100000000000000000000"
      ]
     },
     "execution_count": 7,
     "metadata": {},
     "output_type": "execute_result"
    }
   ],
   "source": [
    "#Exponent\n",
    "10**20"
   ]
  },
  {
   "cell_type": "code",
   "execution_count": 8,
   "id": "71b38412",
   "metadata": {},
   "outputs": [
    {
     "name": "stdout",
     "output_type": "stream",
     "text": [
      "100000000000000000000\n"
     ]
    }
   ],
   "source": [
    "def func(x,y):\n",
    "    return x**y\n",
    "print(func(10,20))"
   ]
  },
  {
   "cell_type": "code",
   "execution_count": 11,
   "id": "ef5c8caa",
   "metadata": {},
   "outputs": [
    {
     "name": "stdout",
     "output_type": "stream",
     "text": [
      "The power of 10 and 20 is:100000000000000000000\n"
     ]
    }
   ],
   "source": [
    "# With lambda function\n",
    "\n",
    "print(f'The power of 10 and 20 is:{(lambda x,y:x**y)(10,20)}')"
   ]
  },
  {
   "cell_type": "code",
   "execution_count": 12,
   "id": "f1b4ca92",
   "metadata": {},
   "outputs": [
    {
     "name": "stdout",
     "output_type": "stream",
     "text": [
      "The volume of cube is using function: 1000\n"
     ]
    }
   ],
   "source": [
    "# Find the volume of cube \n",
    "\n",
    "def cube_volume(a):\n",
    "    return a**3\n",
    "print(f'The volume of cube is using function: {cube_volume(10)}')"
   ]
  },
  {
   "cell_type": "code",
   "execution_count": 14,
   "id": "a6deba30",
   "metadata": {},
   "outputs": [
    {
     "name": "stdout",
     "output_type": "stream",
     "text": [
      "The volume of cube using lambda is:1000\n"
     ]
    }
   ],
   "source": [
    "# with lambda function\n",
    "\n",
    "print(f'The volume of cube using lambda is:{(lambda a:a**3)(10)}')"
   ]
  },
  {
   "cell_type": "code",
   "execution_count": 18,
   "id": "30d87503",
   "metadata": {},
   "outputs": [
    {
     "data": {
      "text/plain": [
       "[6, 28, 100, 200, 456]"
      ]
     },
     "execution_count": 18,
     "metadata": {},
     "output_type": "execute_result"
    }
   ],
   "source": [
    "# Write a program a new list when special number in the list are divided by 2 and the remainder is 0.\n",
    "special=[0.577,1.618,2.718,3.147,6,28,37,1729,100,200,215,456,200.31]\n",
    "\n",
    "list(filter(lambda x:(x%2==0),special))"
   ]
  },
  {
   "cell_type": "code",
   "execution_count": 23,
   "id": "ac752947",
   "metadata": {},
   "outputs": [
    {
     "name": "stdout",
     "output_type": "stream",
     "text": [
      "Enter your age 21\n",
      "Therefore, You Can Vote\n"
     ]
    }
   ],
   "source": [
    "# Write a program you are elegible for voting or not.\n",
    "\n",
    "age=int(input('Enter your age '))\n",
    "(lambda age:print('Therefore, You Can Vote') if age>=18 else print('You can not vote'))(age)"
   ]
  },
  {
   "cell_type": "code",
   "execution_count": 27,
   "id": "0878ef83",
   "metadata": {},
   "outputs": [
    {
     "name": "stdout",
     "output_type": "stream",
     "text": [
      "Python is a programming language.\n"
     ]
    }
   ],
   "source": [
    "text='Python is a programming language.'\n",
    "(lambda x:print(x))(text)"
   ]
  },
  {
   "cell_type": "code",
   "execution_count": 9,
   "id": "594fd2b1",
   "metadata": {},
   "outputs": [
    {
     "name": "stdout",
     "output_type": "stream",
     "text": [
      "[24, 17, -10, 200, 50.0, 100]\n"
     ]
    }
   ],
   "source": [
    "# Write a program to perform a different expression and append into list using lambda function.\n",
    "\n",
    "lambda_list=[]\n",
    "# multiplication\n",
    "lambda_list.append((lambda x:x*2)(12))\n",
    "\n",
    "\n",
    "# addition\n",
    "lambda_list.append((lambda y:y+10)(7))\n",
    "\n",
    "\n",
    "# substraction\n",
    "lambda_list.append((lambda z:z-20)(10))\n",
    "\n",
    "# multiplication\n",
    "lambda_list.append((lambda t:t*10)(20))\n",
    "\n",
    "# Division\n",
    "lambda_list.append((lambda r:r/10)(500))\n",
    "\n",
    "#exponent\n",
    "lambda_list.append((lambda e:e**2)(10))\n",
    "\n",
    "print(lambda_list)\n",
    "# addition,substraction,multiplication,division,exponent"
   ]
  },
  {
   "cell_type": "code",
   "execution_count": 12,
   "id": "cbce25b1",
   "metadata": {},
   "outputs": [
    {
     "name": "stdout",
     "output_type": "stream",
     "text": [
      "['Tanuja', 'Vaishnav']\n"
     ]
    }
   ],
   "source": [
    "# Write a program to display the 10 strings in the list using lambda function.\n",
    "\n",
    "\n",
    "new_list=[]\n",
    "\n",
    "new_list.append((lambda x:x)('Tanuja'))\n",
    "new_list.append((lambda y:y)('Vaishnav'))\n",
    "print(new_list)"
   ]
  },
  {
   "cell_type": "code",
   "execution_count": 13,
   "id": "0ca7fc9e",
   "metadata": {},
   "outputs": [],
   "source": [
    "# Write a lambda function with formula of area_rectange and calculate the area?\n",
    "# Find the area of circle with lambda function and radius is entered by the user.\n",
    "# Find the area of square with lambda function and side is entered by the user.\n",
    "# Find the perimeter of square with lambda function and side is entered by the user.\n",
    "# Find the perimeter of rectange with lambda function and side is entered by the user.\n",
    "\n"
   ]
  },
  {
   "cell_type": "code",
   "execution_count": 21,
   "id": "e7abcdc8",
   "metadata": {},
   "outputs": [
    {
     "name": "stdout",
     "output_type": "stream",
     "text": [
      "Enter the circle radius:3\n",
      "The area of circle is: 28.322999999999997\n"
     ]
    }
   ],
   "source": [
    "# Find the area of circle with lambda function and radius is entered by the user.\n",
    "\n",
    "radius=int(input('Enter the circle radius:'))\n",
    "area=0\n",
    "print('The area of circle is:',(lambda area:3.147*radius*radius)(area))\n"
   ]
  },
  {
   "cell_type": "code",
   "execution_count": 22,
   "id": "e8fae13d",
   "metadata": {},
   "outputs": [
    {
     "name": "stdout",
     "output_type": "stream",
     "text": [
      "Enter the Length of a Rectangle:14\n",
      "Enter the Bredth of a Rectangle:12\n",
      "The area of a Rectangle is: 168\n"
     ]
    }
   ],
   "source": [
    "#Write a lambda function with formula of area of rectangle and calculate the area?\n",
    "\n",
    "length=int(input('Enter the Length of a Rectangle:'))\n",
    "bredth=int(input('Enter the Bredth of a Rectangle:'))\n",
    "area=0\n",
    "print('The area of a Rectangle is:',(lambda area:length*bredth)(area))"
   ]
  },
  {
   "cell_type": "code",
   "execution_count": 23,
   "id": "4b863cb3",
   "metadata": {},
   "outputs": [
    {
     "name": "stdout",
     "output_type": "stream",
     "text": [
      "Enter the side of a Square:12\n",
      "The side of the Rectangle is: 144\n"
     ]
    }
   ],
   "source": [
    "#Find the area of a square with lambda function and side is entred by the user?\n",
    "\n",
    "side=int(input('Enter the side of a Square:'))\n",
    "area=0\n",
    "print('The side of the Rectangle is:',(lambda area:side*side)(area))"
   ]
  },
  {
   "cell_type": "code",
   "execution_count": null,
   "id": "173b091a",
   "metadata": {},
   "outputs": [],
   "source": [
    "#Find the perimeter of a square with lambda function and side is entered by the user?\n",
    "\n",
    "side=int(input('Enter the side of a Square:'))\n",
    "perimeter=0\n",
    "print('The perimeter of a Square is:',(lambda perimeter:4*side)(perimeter))"
   ]
  },
  {
   "cell_type": "code",
   "execution_count": null,
   "id": "ff387d23",
   "metadata": {},
   "outputs": [],
   "source": []
  }
 ],
 "metadata": {
  "kernelspec": {
   "display_name": "Python 3 (ipykernel)",
   "language": "python",
   "name": "python3"
  },
  "language_info": {
   "codemirror_mode": {
    "name": "ipython",
    "version": 3
   },
   "file_extension": ".py",
   "mimetype": "text/x-python",
   "name": "python",
   "nbconvert_exporter": "python",
   "pygments_lexer": "ipython3",
   "version": "3.9.13"
  }
 },
 "nbformat": 4,
 "nbformat_minor": 5
}
