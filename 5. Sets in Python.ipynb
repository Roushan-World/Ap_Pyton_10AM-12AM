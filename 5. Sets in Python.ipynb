{
 "cells": [
  {
   "cell_type": "markdown",
   "id": "9923e35a",
   "metadata": {},
   "source": [
    "# 5. Sets in Python\n",
    "\n",
    " * Set is one of 4 built-in data types in Python used to store collections of data including List, Tuple, and Dictionary.\n",
    " * Sets are unordered, but you can remove items and add new items.\n",
    " * Set elements are unique. Duplicate elements are not allowed.\n",
    " * A set itself may be modified, but the elements contained in the set must be of an  immutable type.\n",
    " * Sets are used to store multiple items in a single variable.\n",
    " * You can denote a set with a pair of curly brackets {}."
   ]
  },
  {
   "cell_type": "code",
   "execution_count": 6,
   "id": "c2ae2476",
   "metadata": {},
   "outputs": [
    {
     "name": "stdout",
     "output_type": "stream",
     "text": [
      "{}\n",
      "<class 'dict'>\n"
     ]
    }
   ],
   "source": [
    "# The empty set of curly braces denotes the empty dictionary, not empty set.\n",
    "\n",
    "x = {}\n",
    "print(x)\n",
    "print(type(x))"
   ]
  },
  {
   "cell_type": "code",
   "execution_count": 7,
   "id": "56f16e7e",
   "metadata": {},
   "outputs": [
    {
     "name": "stdout",
     "output_type": "stream",
     "text": [
      "set()\n",
      "<class 'set'>\n"
     ]
    }
   ],
   "source": [
    "y = set()\n",
    "print(y)\n",
    "print(type(y))"
   ]
  },
  {
   "cell_type": "code",
   "execution_count": 10,
   "id": "acf193cf",
   "metadata": {},
   "outputs": [
    {
     "name": "stdout",
     "output_type": "stream",
     "text": [
      "{False, 1.618, True, 3.14, 4, 2023, 'Hello World', 'Hello', 'Python'}\n"
     ]
    }
   ],
   "source": [
    "# Take a example:\n",
    "\n",
    "set1={'Hello','Python',3.14,'Hello World',3.14,1.618,True,False,2023,4,4,4,4,4,4,}\n",
    "print(set1)"
   ]
  },
  {
   "cell_type": "code",
   "execution_count": 12,
   "id": "c3eb938c",
   "metadata": {},
   "outputs": [
    {
     "name": "stdout",
     "output_type": "stream",
     "text": [
      "['Hello', 'Python', 3.14, 'Hello World', 3.14, 1.618, True, False, 2023, 4, 4, 4, 4, 4, 4]\n",
      "{False, 1.618, True, 3.14, 4, 2023, 'Hello World', 'Hello', 'Python'}\n"
     ]
    }
   ],
   "source": [
    "nlis=['Hello','Python',3.14,'Hello World',3.14,1.618,True,False,2023,4,4,4,4,4,4]\n",
    "print(nlis)\n",
    "\n",
    "# Convert the list into set\n",
    "\n",
    "set2=set(nlis)\n",
    "print(set2)"
   ]
  },
  {
   "cell_type": "markdown",
   "id": "d8b1f60d",
   "metadata": {},
   "source": [
    "# Set operations"
   ]
  },
  {
   "cell_type": "code",
   "execution_count": 1,
   "id": "2892399b",
   "metadata": {},
   "outputs": [
    {
     "data": {
      "text/plain": [
       "{1.618, 2023, 3.14, False, 'Hello Python', 'Hello World', True}"
      ]
     },
     "execution_count": 1,
     "metadata": {},
     "output_type": "execute_result"
    }
   ],
   "source": [
    "# Take a sample set.\n",
    "set3={'Hello Python',3.14,1.618,'Hello World',3.14,1.618,True,False,2023}\n",
    "set3"
   ]
  },
  {
   "cell_type": "code",
   "execution_count": 2,
   "id": "40b31509",
   "metadata": {},
   "outputs": [
    {
     "data": {
      "text/plain": [
       "{1.618, 2023, 3.14, False, 'Hello Python', 'Hello World', True}"
      ]
     },
     "execution_count": 2,
     "metadata": {},
     "output_type": "execute_result"
    }
   ],
   "source": [
    "set4=set(['Hello Python',3.14,1.618,'Hello World',3.14,1.618,True,False,2023])\n",
    "set4"
   ]
  },
  {
   "cell_type": "markdown",
   "id": "50af2b2a",
   "metadata": {},
   "source": [
    "# add() function\n",
    "\n",
    " * To add an element into a set, We use the funtion add(), If the same element is added to the set,  nothing will heppen because the set accepts no duplicates."
   ]
  },
  {
   "cell_type": "code",
   "execution_count": 18,
   "id": "21aa939c",
   "metadata": {},
   "outputs": [
    {
     "name": "stdout",
     "output_type": "stream",
     "text": [
      "{False, 1.618, True, 3.14, 'Hello Python', 'Hello World', 2023}\n",
      "{False, 1.618, True, 3.14, 'Hello Python', 'Hello World', 'Hi, Python', 2023}\n"
     ]
    }
   ],
   "source": [
    "# Addition of an element to the set.\n",
    "\n",
    "set4=set(['Hello Python',3.14,1.618,'Hello World',3.14,1.618,True,False,2023])\n",
    "\n",
    "print(set4)\n",
    "\n",
    "set4.add('Hi, Python')\n",
    "print(set4)"
   ]
  },
  {
   "cell_type": "code",
   "execution_count": 13,
   "id": "4a79c538",
   "metadata": {},
   "outputs": [
    {
     "name": "stdout",
     "output_type": "stream",
     "text": [
      "{False, 1.618, True, 3.14, 'Hello Python', 'Hello World', 'Hi, Python', 2023, 'Hi, Pytho'}\n"
     ]
    }
   ],
   "source": [
    "set4.add('Hi, Python')\n",
    "print(set4)\n"
   ]
  },
  {
   "cell_type": "markdown",
   "id": "ac3736a2",
   "metadata": {},
   "source": [
    "# update() function\n",
    "\n",
    " * To add multiple elements into the set"
   ]
  },
  {
   "cell_type": "code",
   "execution_count": 23,
   "id": "ebf7353f",
   "metadata": {},
   "outputs": [
    {
     "name": "stdout",
     "output_type": "stream",
     "text": [
      "{8, 9, 6, 7}\n"
     ]
    }
   ],
   "source": [
    "x_set={6,7,8,9}\n",
    "print(x_set)"
   ]
  },
  {
   "cell_type": "code",
   "execution_count": 24,
   "id": "d35808f4",
   "metadata": {},
   "outputs": [
    {
     "name": "stdout",
     "output_type": "stream",
     "text": [
      "{3, 4, 5, 6, 7, 8, 9}\n"
     ]
    }
   ],
   "source": [
    "x_set.update({3,4,5,6,6,6,6,6,6,6,})\n",
    "print(x_set)"
   ]
  },
  {
   "cell_type": "markdown",
   "id": "b226ac6b",
   "metadata": {},
   "source": [
    "# remove() function\n",
    "\n",
    " * To remove an element from the set"
   ]
  },
  {
   "cell_type": "code",
   "execution_count": 25,
   "id": "45509078",
   "metadata": {},
   "outputs": [
    {
     "data": {
      "text/plain": [
       "{1.618, 2023, 3.14, False, 'Hello Python', 'Hello World', True}"
      ]
     },
     "execution_count": 25,
     "metadata": {},
     "output_type": "execute_result"
    }
   ],
   "source": [
    "set3"
   ]
  },
  {
   "cell_type": "code",
   "execution_count": 27,
   "id": "1c3a3aec",
   "metadata": {},
   "outputs": [
    {
     "name": "stdout",
     "output_type": "stream",
     "text": [
      "{False, 1.618, True, 3.14, 'Hello World', 2023}\n"
     ]
    }
   ],
   "source": [
    "set3.remove('Hello Python')\n",
    "print(set3)"
   ]
  },
  {
   "cell_type": "code",
   "execution_count": 29,
   "id": "74d78ce4",
   "metadata": {},
   "outputs": [
    {
     "data": {
      "text/plain": [
       "{1.618, 2023, 3.14, False, 'Hello World', True}"
      ]
     },
     "execution_count": 29,
     "metadata": {},
     "output_type": "execute_result"
    }
   ],
   "source": [
    "set3"
   ]
  },
  {
   "cell_type": "markdown",
   "id": "a39aae2f",
   "metadata": {},
   "source": [
    "# discard() funtions\n",
    "\n",
    "It leaves the set unchange if the element to be deleted is not available in the set."
   ]
  },
  {
   "cell_type": "code",
   "execution_count": 30,
   "id": "8fbfb779",
   "metadata": {},
   "outputs": [
    {
     "data": {
      "text/plain": [
       "{1.618, 2023, False, 'Hello World', True}"
      ]
     },
     "execution_count": 30,
     "metadata": {},
     "output_type": "execute_result"
    }
   ],
   "source": [
    "set3.discard(3.14)\n",
    "set3"
   ]
  },
  {
   "cell_type": "code",
   "execution_count": 31,
   "id": "7d99c308",
   "metadata": {},
   "outputs": [
    {
     "data": {
      "text/plain": [
       "{1.618, 2023, False, 'Hello World', True}"
      ]
     },
     "execution_count": 31,
     "metadata": {},
     "output_type": "execute_result"
    }
   ],
   "source": [
    "set3.discard(3.14)\n",
    "set3"
   ]
  },
  {
   "cell_type": "code",
   "execution_count": 32,
   "id": "4d7d86d1",
   "metadata": {},
   "outputs": [
    {
     "data": {
      "text/plain": [
       "{1.618, 2023, False, 'Hello World', True}"
      ]
     },
     "execution_count": 32,
     "metadata": {},
     "output_type": "execute_result"
    }
   ],
   "source": [
    "set3.discard('Durgesh')\n",
    "set3"
   ]
  },
  {
   "cell_type": "code",
   "execution_count": 33,
   "id": "70964de8",
   "metadata": {},
   "outputs": [
    {
     "ename": "KeyError",
     "evalue": "'Durgesh'",
     "output_type": "error",
     "traceback": [
      "\u001b[1;31m---------------------------------------------------------------------------\u001b[0m",
      "\u001b[1;31mKeyError\u001b[0m                                  Traceback (most recent call last)",
      "\u001b[1;32m~\\AppData\\Local\\Temp\\ipykernel_19684\\2761482662.py\u001b[0m in \u001b[0;36m<module>\u001b[1;34m\u001b[0m\n\u001b[1;32m----> 1\u001b[1;33m \u001b[0mset3\u001b[0m\u001b[1;33m.\u001b[0m\u001b[0mremove\u001b[0m\u001b[1;33m(\u001b[0m\u001b[1;34m'Durgesh'\u001b[0m\u001b[1;33m)\u001b[0m\u001b[1;33m\u001b[0m\u001b[1;33m\u001b[0m\u001b[0m\n\u001b[0m\u001b[0;32m      2\u001b[0m \u001b[0mset3\u001b[0m\u001b[1;33m\u001b[0m\u001b[1;33m\u001b[0m\u001b[0m\n",
      "\u001b[1;31mKeyError\u001b[0m: 'Durgesh'"
     ]
    }
   ],
   "source": [
    "set3.remove('Durgesh')\n",
    "set3"
   ]
  },
  {
   "cell_type": "code",
   "execution_count": 38,
   "id": "8aee36ff",
   "metadata": {},
   "outputs": [
    {
     "name": "stdout",
     "output_type": "stream",
     "text": [
      "{False, 1.618, True, 'Hello World', 2023}\n",
      "True\n",
      "False\n"
     ]
    }
   ],
   "source": [
    "# To verify if the element is in the set.\n",
    "\n",
    "print(set3)\n",
    "\n",
    "print(1.618 in set3)\n",
    "print(True not in set3)"
   ]
  },
  {
   "cell_type": "markdown",
   "id": "b4cd8c9d",
   "metadata": {},
   "source": [
    "# Logical Operations in sets"
   ]
  },
  {
   "cell_type": "code",
   "execution_count": 39,
   "id": "a52d5579",
   "metadata": {},
   "outputs": [
    {
     "data": {
      "text/plain": [
       "({1.618, 3.14, 'Hello Python', 'Hello World'},\n",
       " {False, True, 1.618, 3.14, 2023})"
      ]
     },
     "execution_count": 39,
     "metadata": {},
     "output_type": "execute_result"
    }
   ],
   "source": [
    "set4=set(['Hello Python',3.14,1.618,'Hello World'])\n",
    "set5={3.14,1.618,True,False,2023}\n",
    "\n",
    "\n",
    "# printing two sets at a time.\n",
    "set4,set5"
   ]
  },
  {
   "cell_type": "markdown",
   "id": "f1ae53ed",
   "metadata": {},
   "source": [
    "# To find the intersect fo two sets using &"
   ]
  },
  {
   "cell_type": "code",
   "execution_count": 41,
   "id": "89b5c7be",
   "metadata": {},
   "outputs": [
    {
     "name": "stdout",
     "output_type": "stream",
     "text": [
      "{1.618, 3.14}\n"
     ]
    }
   ],
   "source": [
    "intersection=set4&set5\n",
    "print(intersection)"
   ]
  },
  {
   "cell_type": "code",
   "execution_count": 43,
   "id": "bcce5e4c",
   "metadata": {},
   "outputs": [
    {
     "data": {
      "text/plain": [
       "{1.618, 3.14}"
      ]
     },
     "execution_count": 43,
     "metadata": {},
     "output_type": "execute_result"
    }
   ],
   "source": [
    "#Intersection to another method\n",
    "set4.intersection(set5)"
   ]
  },
  {
   "cell_type": "markdown",
   "id": "f314b194",
   "metadata": {},
   "source": [
    "# difference() funciton\n",
    " \n",
    " * To find the difference between two sets."
   ]
  },
  {
   "cell_type": "code",
   "execution_count": 47,
   "id": "ae44e62a",
   "metadata": {},
   "outputs": [
    {
     "name": "stdout",
     "output_type": "stream",
     "text": [
      "{'Hello Python', 'Hello World'}\n",
      "{False, True, 2023}\n",
      "{'Hello Python', 'Hello World'}\n",
      "{False, True, 2023}\n"
     ]
    }
   ],
   "source": [
    "print(set4.difference(set5))\n",
    "print(set5.difference(set4))\n",
    "\n",
    "# The same process can make using substraction operator as follow: \n",
    "\n",
    "print(set4-set5)\n",
    "print(set5-set4)"
   ]
  },
  {
   "cell_type": "markdown",
   "id": "81230b6d",
   "metadata": {},
   "source": [
    "# union() function\n",
    " \n",
    " * It corresponds to all elements in both sets"
   ]
  },
  {
   "cell_type": "code",
   "execution_count": 49,
   "id": "8d8bc6f6",
   "metadata": {},
   "outputs": [
    {
     "name": "stdout",
     "output_type": "stream",
     "text": [
      "{False, 1.618, True, 3.14, 'Hello Python', 'Hello World', 2023}\n",
      "{False, 1.618, True, 3.14, 'Hello Python', 'Hello World', 2023}\n"
     ]
    }
   ],
   "source": [
    "print(set4.union(set5))\n",
    "print(set5.union(set4))"
   ]
  },
  {
   "cell_type": "markdown",
   "id": "320a1edb",
   "metadata": {},
   "source": [
    "# Set comparison"
   ]
  },
  {
   "cell_type": "code",
   "execution_count": 51,
   "id": "b5cdf961",
   "metadata": {},
   "outputs": [
    {
     "name": "stdout",
     "output_type": "stream",
     "text": [
      "False\n",
      "False\n"
     ]
    }
   ],
   "source": [
    "print(set4>set5)\n",
    "print(set4<set5)"
   ]
  },
  {
   "cell_type": "code",
   "execution_count": 57,
   "id": "0fa6b672",
   "metadata": {},
   "outputs": [
    {
     "name": "stdout",
     "output_type": "stream",
     "text": [
      "False\n",
      "True\n",
      "True\n",
      "False\n"
     ]
    }
   ],
   "source": [
    "set6={1,2,3,4}\n",
    "set7={1,2,3,4,6}\n",
    "\n",
    "print(set6>set7)\n",
    "print(set6<set7)\n",
    "print(set7>set6)\n",
    "print(set6==set7)"
   ]
  },
  {
   "cell_type": "code",
   "execution_count": null,
   "id": "12562444",
   "metadata": {},
   "outputs": [],
   "source": []
  }
 ],
 "metadata": {
  "kernelspec": {
   "display_name": "Python 3 (ipykernel)",
   "language": "python",
   "name": "python3"
  },
  "language_info": {
   "codemirror_mode": {
    "name": "ipython",
    "version": 3
   },
   "file_extension": ".py",
   "mimetype": "text/x-python",
   "name": "python",
   "nbconvert_exporter": "python",
   "pygments_lexer": "ipython3",
   "version": "3.9.13"
  }
 },
 "nbformat": 4,
 "nbformat_minor": 5
}
