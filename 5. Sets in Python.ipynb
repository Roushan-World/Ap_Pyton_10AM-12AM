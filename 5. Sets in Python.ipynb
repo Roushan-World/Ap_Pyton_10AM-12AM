{
 "cells": [
  {
   "cell_type": "markdown",
   "id": "9923e35a",
   "metadata": {},
   "source": [
    "# 5. Sets in Python\n",
    "\n",
    " * Set is one of 4 built-in data types in Python used to store collections of data including List, Tuple, and Dictionary.\n",
    " * Sets are unordered, but you can remove items and add new items.\n",
    " * Set elements are unique. Duplicate elements are not allowed.\n",
    " * A set itself may be modified, but the elements contained in the set must be of an  immutable type.\n",
    " * Sets are used to store multiple items in a single variable.\n",
    " * You can denote a set with a pair of curly brackets {}."
   ]
  },
  {
   "cell_type": "code",
   "execution_count": 6,
   "id": "c2ae2476",
   "metadata": {},
   "outputs": [
    {
     "name": "stdout",
     "output_type": "stream",
     "text": [
      "{}\n",
      "<class 'dict'>\n"
     ]
    }
   ],
   "source": [
    "# The empty set of curly braces denotes the empty dictionary, not empty set.\n",
    "\n",
    "x = {}\n",
    "print(x)\n",
    "print(type(x))"
   ]
  },
  {
   "cell_type": "code",
   "execution_count": 7,
   "id": "56f16e7e",
   "metadata": {},
   "outputs": [
    {
     "name": "stdout",
     "output_type": "stream",
     "text": [
      "set()\n",
      "<class 'set'>\n"
     ]
    }
   ],
   "source": [
    "y = set()\n",
    "print(y)\n",
    "print(type(y))"
   ]
  },
  {
   "cell_type": "code",
   "execution_count": 10,
   "id": "acf193cf",
   "metadata": {},
   "outputs": [
    {
     "name": "stdout",
     "output_type": "stream",
     "text": [
      "{False, 1.618, True, 3.14, 4, 2023, 'Hello World', 'Hello', 'Python'}\n"
     ]
    }
   ],
   "source": [
    "# Take a example:\n",
    "\n",
    "set1={'Hello','Python',3.14,'Hello World',3.14,1.618,True,False,2023,4,4,4,4,4,4,}\n",
    "print(set1)"
   ]
  },
  {
   "cell_type": "code",
   "execution_count": 12,
   "id": "c3eb938c",
   "metadata": {},
   "outputs": [
    {
     "name": "stdout",
     "output_type": "stream",
     "text": [
      "['Hello', 'Python', 3.14, 'Hello World', 3.14, 1.618, True, False, 2023, 4, 4, 4, 4, 4, 4]\n",
      "{False, 1.618, True, 3.14, 4, 2023, 'Hello World', 'Hello', 'Python'}\n"
     ]
    }
   ],
   "source": [
    "nlis=['Hello','Python',3.14,'Hello World',3.14,1.618,True,False,2023,4,4,4,4,4,4]\n",
    "print(nlis)\n",
    "\n",
    "# Convert the list into set\n",
    "\n",
    "set2=set(nlis)\n",
    "print(set2)"
   ]
  },
  {
   "cell_type": "code",
   "execution_count": null,
   "id": "c885f4be",
   "metadata": {},
   "outputs": [],
   "source": []
  }
 ],
 "metadata": {
  "kernelspec": {
   "display_name": "Python 3 (ipykernel)",
   "language": "python",
   "name": "python3"
  },
  "language_info": {
   "codemirror_mode": {
    "name": "ipython",
    "version": 3
   },
   "file_extension": ".py",
   "mimetype": "text/x-python",
   "name": "python",
   "nbconvert_exporter": "python",
   "pygments_lexer": "ipython3",
   "version": "3.9.13"
  }
 },
 "nbformat": 4,
 "nbformat_minor": 5
}
