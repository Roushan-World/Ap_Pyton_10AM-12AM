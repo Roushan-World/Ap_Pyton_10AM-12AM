{
 "cells": [
  {
   "cell_type": "markdown",
   "id": "1dc08f11",
   "metadata": {},
   "source": [
    "# 7. Conditions in Python\n",
    "\n",
    " __Comparison Operators__\n",
    " \n",
    " * Comparison operations compare some value or operand and based on a condition, produce a Boolean. Python has six comparison operators as below:\n",
    " \n",
    " * Less than(<)\n",
    " * Less than or equal to(<=)\n",
    " * Greater than (>)\n",
    " * Greater than or equal to(>=)\n",
    " * Equal to(==)\n",
    " * Not equal to(!=)\n",
    " \n",
    " "
   ]
  },
  {
   "cell_type": "code",
   "execution_count": 2,
   "id": "353851d0",
   "metadata": {},
   "outputs": [
    {
     "name": "stdout",
     "output_type": "stream",
     "text": [
      "True\n",
      "False\n"
     ]
    }
   ],
   "source": [
    "# take an example\n",
    "\n",
    "ratio = 1.618\n",
    "\n",
    "print(ratio<2)\n",
    "print(ratio<1)"
   ]
  },
  {
   "cell_type": "markdown",
   "id": "9d8edc9e",
   "metadata": {},
   "source": [
    "# Branching (if,elif,else)\n",
    "\n",
    " __Important Notes__\n",
    " \n",
    " * Decision making is required when we want to execute a code only if a certain condition is satisfied.\n",
    " * The __if/elif/else__ statement is used in Python for decision making.\n",
    " * An __else__ statement can be combined with an __if__ statement.\n",
    " * An __else__ statement conatins the block of code that executes if the conditional expression in the if statement resolves to __0__ or __False__ value.\n",
    " * The __else__ statement is an optional statement and there could be at most only one else statement following __if__.\n",
    " * The __elif__ statement allows you to check multiple expressions for __True__ and execute a block of code as soon as one of the condtions evaluates to __True__.\n",
    " * Similar to the __else__, the __elif__ statement is opetional.\n",
    " * However, unlike __else__, for which there can be at most one statement, there can be an arbitrary number of __elif__ statements following an __if__.\n",
    " "
   ]
  },
  {
   "cell_type": "markdown",
   "id": "1cb0c7dc",
   "metadata": {},
   "source": [
    "# if statement"
   ]
  },
  {
   "cell_type": "code",
   "execution_count": 9,
   "id": "9d3640ff",
   "metadata": {},
   "outputs": [
    {
     "name": "stdout",
     "output_type": "stream",
     "text": [
      "The number pi 3.14 is greater than the ratio 1.618\n",
      "Done!\n"
     ]
    }
   ],
   "source": [
    "pi = 3.14\n",
    "ratio = 1.618\n",
    "\n",
    "if pi>ratio:\n",
    "    print(f'The number pi {pi} is greater than the ratio {ratio}')\n",
    "    \n",
    "print('Done!')"
   ]
  },
  {
   "cell_type": "markdown",
   "id": "9fd9ffca",
   "metadata": {},
   "source": [
    "# else statement"
   ]
  },
  {
   "cell_type": "code",
   "execution_count": 17,
   "id": "ec7f2100",
   "metadata": {},
   "outputs": [
    {
     "name": "stdout",
     "output_type": "stream",
     "text": [
      "The ratio 1.618 is lower than the number pi 3.14\n"
     ]
    }
   ],
   "source": [
    "pi = 3.14\n",
    "ratio = 1.618\n",
    "\n",
    "if pi<ratio:\n",
    "    print(f'The number pi {pi} is greater than the ratio {ratio}')\n",
    "    \n",
    "else:\n",
    "    print(f'The ratio {ratio} is lower than the number pi {pi}')"
   ]
  },
  {
   "cell_type": "markdown",
   "id": "3e92009c",
   "metadata": {},
   "source": [
    "# elif statement"
   ]
  },
  {
   "cell_type": "code",
   "execution_count": 22,
   "id": "47e8e48f",
   "metadata": {},
   "outputs": [
    {
     "name": "stdout",
     "output_type": "stream",
     "text": [
      "You should goto kindergarden\n"
     ]
    }
   ],
   "source": [
    "age = 5\n",
    "\n",
    "if age>6:\n",
    "    print('You can go to primary school')\n",
    "elif age==5:\n",
    "    print('You should goto kindergarden')\n",
    "else:\n",
    "    print('You are a baby')\n",
    "    "
   ]
  },
  {
   "cell_type": "markdown",
   "id": "6cdbba24",
   "metadata": {},
   "source": [
    "# __input() funciton__"
   ]
  },
  {
   "cell_type": "code",
   "execution_count": 31,
   "id": "422902aa",
   "metadata": {},
   "outputs": [
    {
     "name": "stdout",
     "output_type": "stream",
     "text": [
      "You should enter the number only 1 to 10:3\n",
      "You are a baby\n"
     ]
    }
   ],
   "source": [
    "age = int(input('You should enter the number only 1 to 10:'))\n",
    "\n",
    "if age>6:\n",
    "    print('You can go to primary school')\n",
    "elif age==5:\n",
    "    print('You should goto kindergarden')\n",
    "else:\n",
    "    print('You are a baby')"
   ]
  },
  {
   "cell_type": "code",
   "execution_count": 4,
   "id": "ee6abc72",
   "metadata": {},
   "outputs": [
    {
     "name": "stdout",
     "output_type": "stream",
     "text": [
      "Enter your age: 17\n",
      "You are not elegible for voting.\n"
     ]
    }
   ],
   "source": [
    "# Write a program to check the age of person able to vote or not?\n",
    "\n",
    "age = int(input('Enter your age: '))\n",
    "\n",
    "if age>=18:\n",
    "    print('You can Vote')\n",
    "    \n",
    "else:\n",
    "    print('You are not elegible for voting.')"
   ]
  },
  {
   "cell_type": "code",
   "execution_count": 11,
   "id": "ed414ca1",
   "metadata": {},
   "outputs": [
    {
     "name": "stdout",
     "output_type": "stream",
     "text": [
      "Enter any Number:454651616161651658797949879846434\n",
      "You Entered Even Number\n"
     ]
    }
   ],
   "source": [
    "# 2. Write a program to check whether a number is entered by a user is even or odd.\n",
    "\n",
    "\n",
    "num = int(input('Enter any Number:'))\n",
    "\n",
    "if num%2==0:\n",
    "    print('You Entered Even Number')\n",
    "else:\n",
    "    print('You Entered Odd Number')"
   ]
  },
  {
   "cell_type": "code",
   "execution_count": 15,
   "id": "a70b3301",
   "metadata": {},
   "outputs": [
    {
     "name": "stdout",
     "output_type": "stream",
     "text": [
      "Enter any Number:131\n",
      "You Entered Odd Number\n"
     ]
    }
   ],
   "source": [
    "num = int(input('Enter any Number:'))\n",
    "\n",
    "if num%2==0:\n",
    "    print('You Entered Even Number')\n",
    "    \n",
    "elif num%2==1:\n",
    "    print('You Entered Odd Number')\n",
    "else:\n",
    "    print('Completed')"
   ]
  },
  {
   "cell_type": "code",
   "execution_count": 19,
   "id": "e2f1ecf4",
   "metadata": {},
   "outputs": [
    {
     "name": "stdout",
     "output_type": "stream",
     "text": [
      "Enter any number:\n",
      "71\n",
      "Your Number is Not Divisible by 7\n"
     ]
    }
   ],
   "source": [
    "# Write a program to check wheter a number is divisible by 7 or not.\n",
    "\n",
    "\n",
    "num = int(input('Enter any number:\\n'))\n",
    "\n",
    "if num%7==0:\n",
    "    print('Your Number is Divisible by 7.')\n",
    "else:\n",
    "    print('Your Number is Not Divisible by 7')"
   ]
  },
  {
   "cell_type": "code",
   "execution_count": 18,
   "id": "84fb964c",
   "metadata": {},
   "outputs": [
    {
     "name": "stdout",
     "output_type": "stream",
     "text": [
      "Enter numnber from 1 to 7:\n",
      "4\n",
      "Day is Thursday\n"
     ]
    }
   ],
   "source": [
    "week=int(input('Enter numnber from 1 to 7:\\n'))\n",
    "\n",
    "\n",
    "if week==1:\n",
    "    print('Day is Monday')\n",
    "elif week == 2:\n",
    "    print('Day is Tuesday')\n",
    "elif week == 3:\n",
    "    print('Day is Wednesday')\n",
    "elif week == 4:\n",
    "    print('Day is Thursday')\n",
    "elif week == 5:\n",
    "    print('Day is Friday')\n",
    "elif week == 6:\n",
    "    print('Day is Saturday')\n",
    "elif week == 7:\n",
    "    print('Days is Sunday')\n",
    "    \n",
    "else:\n",
    "    print('Invalid Input')"
   ]
  },
  {
   "cell_type": "code",
   "execution_count": null,
   "id": "dcce1637",
   "metadata": {},
   "outputs": [],
   "source": [
    "# Write a program to check the number is divisible by 5 or not."
   ]
  },
  {
   "cell_type": "code",
   "execution_count": 7,
   "id": "32097c07",
   "metadata": {},
   "outputs": [
    {
     "name": "stdout",
     "output_type": "stream",
     "text": [
      "Enter the age of First Person:78\n",
      "Enter the age of Second Person:75\n",
      "Enter the age of Third Person:12\n",
      "78 is Elder than 75,12.\n"
     ]
    }
   ],
   "source": [
    "# Accept the age of 3 people and display the elder one.\n",
    "\n",
    "\n",
    "age1=int(input(\"Enter the age of First Person:\"))\n",
    "age2=int(input('Enter the age of Second Person:'))\n",
    "age3=int(input('Enter the age of Third Person:'))\n",
    "\n",
    "\n",
    "if age1>age2 and age1>age3:\n",
    "    print(f'{age1} is Elder than {age2},{age3}.')\n",
    "    \n",
    "elif age2>age1 and age2>age3:\n",
    "    print(f'{age2} is Elder than {age1},{age3}.')\n",
    "\n",
    "elif age3>age1 and age3>age2:\n",
    "    print(f'{age3} is Elder than {age1},{age2}')\n",
    "else:\n",
    "    print('Invalid Syntax')"
   ]
  },
  {
   "cell_type": "code",
   "execution_count": 8,
   "id": "ea9e5633",
   "metadata": {},
   "outputs": [],
   "source": [
    "# Accept the age of 4 people and display and display the younger one."
   ]
  },
  {
   "cell_type": "code",
   "execution_count": 10,
   "id": "7088b957",
   "metadata": {},
   "outputs": [
    {
     "name": "stdout",
     "output_type": "stream",
     "text": [
      "Enter your name:Vaishnav\n",
      "Welcome! Vaishnav Your code is running successfully.\n"
     ]
    }
   ],
   "source": [
    "# Write a program to greet \"Welcome! Your code is running successfully\" with User's name.\n",
    "\n",
    "\n",
    "name=input('Enter your name:')\n",
    "\n",
    "x = (f'Welcome! {name} Your code is running successfully.')\n",
    "print(x)"
   ]
  },
  {
   "cell_type": "code",
   "execution_count": 18,
   "id": "a0f94e3d",
   "metadata": {},
   "outputs": [
    {
     "name": "stdout",
     "output_type": "stream",
     "text": [
      "Enter your name:Vaishnav\n",
      "Welcome! Vaishnav Your code is Sucessfully running.\n",
      "<class 'str'>\n"
     ]
    }
   ],
   "source": [
    "name=input('Enter your name:')\n",
    "\n",
    "if name:\n",
    "    print(f'Welcome! {name} Your code is Sucessfully running.')\n",
    "   \n",
    "else:\n",
    "    print('Welcome')\n",
    "print(type(name))"
   ]
  },
  {
   "cell_type": "code",
   "execution_count": null,
   "id": "00b2a903",
   "metadata": {},
   "outputs": [],
   "source": []
  }
 ],
 "metadata": {
  "kernelspec": {
   "display_name": "Python 3 (ipykernel)",
   "language": "python",
   "name": "python3"
  },
  "language_info": {
   "codemirror_mode": {
    "name": "ipython",
    "version": 3
   },
   "file_extension": ".py",
   "mimetype": "text/x-python",
   "name": "python",
   "nbconvert_exporter": "python",
   "pygments_lexer": "ipython3",
   "version": "3.9.13"
  }
 },
 "nbformat": 4,
 "nbformat_minor": 5
}
