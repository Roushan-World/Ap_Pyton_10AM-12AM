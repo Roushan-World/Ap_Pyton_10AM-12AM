{
 "cells": [
  {
   "cell_type": "markdown",
   "id": "1dc08f11",
   "metadata": {},
   "source": [
    "# 7. Conditions in Python\n",
    "\n",
    " __Comparison Operators__\n",
    " \n",
    " * Comparison operations compare some value or operand and based on a condition, produce a Boolean. Python has six comparison operators as below:\n",
    " \n",
    " * Less than(<)\n",
    " * Less than or equal to(<=)\n",
    " * Greater than (>)\n",
    " * Greater than or equal to(>=)\n",
    " * Equal to(==)\n",
    " * Not equal to(!=)\n",
    " \n",
    " "
   ]
  },
  {
   "cell_type": "code",
   "execution_count": 2,
   "id": "353851d0",
   "metadata": {},
   "outputs": [
    {
     "name": "stdout",
     "output_type": "stream",
     "text": [
      "True\n",
      "False\n"
     ]
    }
   ],
   "source": [
    "# take an example\n",
    "\n",
    "ratio = 1.618\n",
    "\n",
    "print(ratio<2)\n",
    "print(ratio<1)"
   ]
  },
  {
   "cell_type": "markdown",
   "id": "9d8edc9e",
   "metadata": {},
   "source": [
    "# Branching (if,elif,else)\n",
    "\n",
    " __Important Notes__\n",
    " \n",
    " * Decision making is required when we want to execute a code only if a certain condition is satisfied.\n",
    " * The __if/elif/else__ statement is used in Python for decision making.\n",
    " * An __else__ statement can be combined with an __if__ statement.\n",
    " * An __else__ statement conatins the block of code that executes if the conditional expression in the if statement resolves to __0__ or __False__ value.\n",
    " * The __else__ statement is an optional statement and there could be at most only one else statement following __if__.\n",
    " * The __elif__ statement allows you to check multiple expressions for __True__ and execute a block of code as soon as one of the condtions evaluates to __True__.\n",
    " * Similar to the __else__, the __elif__ statement is opetional.\n",
    " * However, unlike __else__, for which there can be at most one statement, there can be an arbitrary number of __elif__ statements following an __if__.\n",
    " "
   ]
  },
  {
   "cell_type": "markdown",
   "id": "1cb0c7dc",
   "metadata": {},
   "source": [
    "# if statement"
   ]
  },
  {
   "cell_type": "code",
   "execution_count": 9,
   "id": "9d3640ff",
   "metadata": {},
   "outputs": [
    {
     "name": "stdout",
     "output_type": "stream",
     "text": [
      "The number pi 3.14 is greater than the ratio 1.618\n",
      "Done!\n"
     ]
    }
   ],
   "source": [
    "pi = 3.14\n",
    "ratio = 1.618\n",
    "\n",
    "if pi>ratio:\n",
    "    print(f'The number pi {pi} is greater than the ratio {ratio}')\n",
    "    \n",
    "print('Done!')"
   ]
  },
  {
   "cell_type": "markdown",
   "id": "9fd9ffca",
   "metadata": {},
   "source": [
    "# else statement"
   ]
  },
  {
   "cell_type": "code",
   "execution_count": 17,
   "id": "ec7f2100",
   "metadata": {},
   "outputs": [
    {
     "name": "stdout",
     "output_type": "stream",
     "text": [
      "The ratio 1.618 is lower than the number pi 3.14\n"
     ]
    }
   ],
   "source": [
    "pi = 3.14\n",
    "ratio = 1.618\n",
    "\n",
    "if pi<ratio:\n",
    "    print(f'The number pi {pi} is greater than the ratio {ratio}')\n",
    "    \n",
    "else:\n",
    "    print(f'The ratio {ratio} is lower than the number pi {pi}')"
   ]
  },
  {
   "cell_type": "markdown",
   "id": "3e92009c",
   "metadata": {},
   "source": [
    "# elif statement"
   ]
  },
  {
   "cell_type": "code",
   "execution_count": 22,
   "id": "47e8e48f",
   "metadata": {},
   "outputs": [
    {
     "name": "stdout",
     "output_type": "stream",
     "text": [
      "You should goto kindergarden\n"
     ]
    }
   ],
   "source": [
    "age = 5\n",
    "\n",
    "if age>6:\n",
    "    print('You can go to primary school')\n",
    "elif age==5:\n",
    "    print('You should goto kindergarden')\n",
    "else:\n",
    "    print('You are a baby')\n",
    "    "
   ]
  },
  {
   "cell_type": "markdown",
   "id": "6cdbba24",
   "metadata": {},
   "source": [
    "# __input() funciton__"
   ]
  },
  {
   "cell_type": "code",
   "execution_count": 31,
   "id": "422902aa",
   "metadata": {},
   "outputs": [
    {
     "name": "stdout",
     "output_type": "stream",
     "text": [
      "You should enter the number only 1 to 10:3\n",
      "You are a baby\n"
     ]
    }
   ],
   "source": [
    "age = int(input('You should enter the number only 1 to 10:'))\n",
    "\n",
    "if age>6:\n",
    "    print('You can go to primary school')\n",
    "elif age==5:\n",
    "    print('You should goto kindergarden')\n",
    "else:\n",
    "    print('You are a baby')"
   ]
  },
  {
   "cell_type": "code",
   "execution_count": 4,
   "id": "ee6abc72",
   "metadata": {},
   "outputs": [
    {
     "name": "stdout",
     "output_type": "stream",
     "text": [
      "Enter your age: 17\n",
      "You are not elegible for voting.\n"
     ]
    }
   ],
   "source": [
    "# Write a program to check the age of person able to vote or not?\n",
    "\n",
    "age = int(input('Enter your age: '))\n",
    "\n",
    "if age>=18:\n",
    "    print('You can Vote')\n",
    "    \n",
    "else:\n",
    "    print('You are not elegible for voting.')"
   ]
  },
  {
   "cell_type": "code",
   "execution_count": 11,
   "id": "ed414ca1",
   "metadata": {},
   "outputs": [
    {
     "name": "stdout",
     "output_type": "stream",
     "text": [
      "Enter any Number:454651616161651658797949879846434\n",
      "You Entered Even Number\n"
     ]
    }
   ],
   "source": [
    "# 2. Write a program to check whether a number is entered by a user is even or odd.\n",
    "\n",
    "\n",
    "num = int(input('Enter any Number:'))\n",
    "\n",
    "if num%2==0:\n",
    "    print('You Entered Even Number')\n",
    "else:\n",
    "    print('You Entered Odd Number')"
   ]
  },
  {
   "cell_type": "code",
   "execution_count": 15,
   "id": "a70b3301",
   "metadata": {},
   "outputs": [
    {
     "name": "stdout",
     "output_type": "stream",
     "text": [
      "Enter any Number:131\n",
      "You Entered Odd Number\n"
     ]
    }
   ],
   "source": [
    "num = int(input('Enter any Number:'))\n",
    "\n",
    "if num%2==0:\n",
    "    print('You Entered Even Number')\n",
    "    \n",
    "elif num%2==1:\n",
    "    print('You Entered Odd Number')\n",
    "else:\n",
    "    print('Completed')"
   ]
  },
  {
   "cell_type": "code",
   "execution_count": 19,
   "id": "e2f1ecf4",
   "metadata": {},
   "outputs": [
    {
     "name": "stdout",
     "output_type": "stream",
     "text": [
      "Enter any number:\n",
      "71\n",
      "Your Number is Not Divisible by 7\n"
     ]
    }
   ],
   "source": [
    "# Write a program to check wheter a number is divisible by 7 or not.\n",
    "\n",
    "\n",
    "num = int(input('Enter any number:\\n'))\n",
    "\n",
    "if num%7==0:\n",
    "    print('Your Number is Divisible by 7.')\n",
    "else:\n",
    "    print('Your Number is Not Divisible by 7')"
   ]
  },
  {
   "cell_type": "code",
   "execution_count": 18,
   "id": "84fb964c",
   "metadata": {},
   "outputs": [
    {
     "name": "stdout",
     "output_type": "stream",
     "text": [
      "Enter numnber from 1 to 7:\n",
      "4\n",
      "Day is Thursday\n"
     ]
    }
   ],
   "source": [
    "week=int(input('Enter numnber from 1 to 7:\\n'))\n",
    "\n",
    "\n",
    "if week==1:\n",
    "    print('Day is Monday')\n",
    "elif week == 2:\n",
    "    print('Day is Tuesday')\n",
    "elif week == 3:\n",
    "    print('Day is Wednesday')\n",
    "elif week == 4:\n",
    "    print('Day is Thursday')\n",
    "elif week == 5:\n",
    "    print('Day is Friday')\n",
    "elif week == 6:\n",
    "    print('Day is Saturday')\n",
    "elif week == 7:\n",
    "    print('Days is Sunday')\n",
    "    \n",
    "else:\n",
    "    print('Invalid Input')"
   ]
  },
  {
   "cell_type": "code",
   "execution_count": null,
   "id": "dcce1637",
   "metadata": {},
   "outputs": [],
   "source": [
    "# Write a program to check the number is divisible by 5 or not."
   ]
  },
  {
   "cell_type": "code",
   "execution_count": 7,
   "id": "32097c07",
   "metadata": {},
   "outputs": [
    {
     "name": "stdout",
     "output_type": "stream",
     "text": [
      "Enter the age of First Person:78\n",
      "Enter the age of Second Person:75\n",
      "Enter the age of Third Person:12\n",
      "78 is Elder than 75,12.\n"
     ]
    }
   ],
   "source": [
    "# Accept the age of 3 people and display the elder one.\n",
    "\n",
    "\n",
    "age1=int(input(\"Enter the age of First Person:\"))\n",
    "age2=int(input('Enter the age of Second Person:'))\n",
    "age3=int(input('Enter the age of Third Person:'))\n",
    "\n",
    "\n",
    "if age1>age2 and age1>age3:\n",
    "    print(f'{age1} is Elder than {age2},{age3}.')\n",
    "    \n",
    "elif age2>age1 and age2>age3:\n",
    "    print(f'{age2} is Elder than {age1},{age3}.')\n",
    "\n",
    "elif age3>age1 and age3>age2:\n",
    "    print(f'{age3} is Elder than {age1},{age2}')\n",
    "else:\n",
    "    print('Invalid Syntax')"
   ]
  },
  {
   "cell_type": "code",
   "execution_count": 8,
   "id": "ea9e5633",
   "metadata": {},
   "outputs": [],
   "source": [
    "# Accept the age of 4 people and display and display the younger one."
   ]
  },
  {
   "cell_type": "code",
   "execution_count": 10,
   "id": "7088b957",
   "metadata": {},
   "outputs": [
    {
     "name": "stdout",
     "output_type": "stream",
     "text": [
      "Enter your name:Vaishnav\n",
      "Welcome! Vaishnav Your code is running successfully.\n"
     ]
    }
   ],
   "source": [
    "# Write a program to greet \"Welcome! Your code is running successfully\" with User's name.\n",
    "\n",
    "\n",
    "name=input('Enter your name:')\n",
    "\n",
    "x = (f'Welcome! {name} Your code is running successfully.')\n",
    "print(x)"
   ]
  },
  {
   "cell_type": "code",
   "execution_count": 18,
   "id": "a0f94e3d",
   "metadata": {},
   "outputs": [
    {
     "name": "stdout",
     "output_type": "stream",
     "text": [
      "Enter your name:Vaishnav\n",
      "Welcome! Vaishnav Your code is Sucessfully running.\n",
      "<class 'str'>\n"
     ]
    }
   ],
   "source": [
    "name=input('Enter your name:')\n",
    "\n",
    "if name:\n",
    "    print(f'Welcome! {name} Your code is Sucessfully running.')\n",
    "   \n",
    "else:\n",
    "    print('Welcome')\n",
    "print(type(name))"
   ]
  },
  {
   "cell_type": "code",
   "execution_count": 1,
   "id": "00b2a903",
   "metadata": {},
   "outputs": [],
   "source": [
    "# 1. Take values of length and breadth of a rectangle from user and check if it is square or not.\n",
    "# 2. Take two int values from user and print greatest among them.\n",
    "# 3. A shop will give discount of 10% if the cost of purchased quantity is more than 1000.\n",
    "# Ask user for quantity\n",
    "# Suppose, one unit will cost 100.\n",
    "# Judge and print total cost for user.\n",
    "\n",
    "# 4. A school has following rules for grading system:\n",
    "# a. Below 25 - F\n",
    "# b. 25 to 45 - E\n",
    "# c. 45 to 50 - D\n",
    "# d. 50 to 60 - C\n",
    "# e. 60 to 80 - B\n",
    "# f. Above 80 - A\n",
    "# Ask user to enter marks and print the corresponding grade.\n",
    "\n",
    "# 5. Take input of age of 3 people by user and determine oldest and youngest among them.\n",
    "\n",
    "# 6.Ask user to enter age, sex ( M or F ), marital status ( Y or N ) and then using following rules print their place of service.\n",
    "# if employee is female, then she will work only in urban areas.\n",
    "\n",
    "# if employee is a male and age is in between 20 to 40 then he may work in anywhere\n",
    "\n",
    "# if employee is male and age is in between 40 t0 60 then he will work in urban areas only.\n",
    "\n",
    "# And any other input of age should print \"ERROR\".\n"
   ]
  },
  {
   "cell_type": "code",
   "execution_count": 7,
   "id": "18512395",
   "metadata": {},
   "outputs": [
    {
     "name": "stdout",
     "output_type": "stream",
     "text": [
      "Select the city name from These:\n",
      " Delhi,Agra,Jaipur,Amritsar,Madurai,Mysore,Mumbai,Sanchi,Hydrabad\n",
      "Enter Any City:\n",
      "Chennai\n",
      "Invalid city Name\n"
     ]
    }
   ],
   "source": [
    "# Accept any city from the user and display monument of that city.\n",
    "\n",
    "# City-------------------------> Monument\n",
    "# Delhi------------------------> \"RedFort\"\n",
    "# Agra-------------------------> \"TajMahal\"\n",
    "# Jaipur-----------------------> \"JalMahal,Hawa Mahal\"\n",
    "# Amritsar---------------------> \"Golden Temple\"\n",
    "# Madurai----------------------> \"Meenakshi Temple\"\n",
    "# Mysore-----------------------> \"Mysore Place\"\n",
    "# Mumbai ----------------------> \"Gateway of India\"\n",
    "# Sanchi-----------------------> \"Sanchi Stupa\"\n",
    "# Charminar--------------------> \"Hydrabad\"\n",
    "\n",
    "\n",
    "print('Select the city name from These:\\n Delhi,Agra,Jaipur,Amritsar,Madurai,Mysore,Mumbai,Sanchi,Hydrabad')\n",
    "city=input('Enter Any City:\\n')\n",
    "\n",
    "if city.lower()=='delhi':\n",
    "    print('The Monomuent of Delhi is Redfort.')\n",
    "elif city.lower()=='agra':\n",
    "    print('The Monument of Agra is Tajmahal.')\n",
    "elif city.lower()=='jaipur':\n",
    "    print('The Monument of Jaipur is Jalmahal and Hawamahal.')\n",
    "elif city.lower()=='amritsar':\n",
    "    print('The Monument of Amritsar is Golden Temple.')\n",
    "elif city.lower()=='madurai':\n",
    "    print('The Monument of Madurai is Meenakshi Temple.')\n",
    "elif city.lower()=='mysore':\n",
    "    print('The Monument of Mysore is Mysore Palace.')\n",
    "elif city.lower()=='mumbai':\n",
    "    print('The Monument of Mumbai is Gateway of India.')\n",
    "elif city.lower()=='sanchi':\n",
    "    print('The Monument of sanchi is Sanchi Stupa.')\n",
    "elif city.lower()=='hydrabad':\n",
    "    print('The Monument of Hydrabad is Charminar.')\n",
    "else:\n",
    "    print('Invalid city Name')"
   ]
  },
  {
   "cell_type": "code",
   "execution_count": 13,
   "id": "c70bcc93",
   "metadata": {},
   "outputs": [
    {
     "name": "stdout",
     "output_type": "stream",
     "text": [
      "Enter the percentage of a student:\n",
      "55\n",
      "The student has Good marks.\n"
     ]
    }
   ],
   "source": [
    "# Write a program to accept the percentage and display the Category according to the following criteria:\n",
    "# Percentage----------------------------> Category\n",
    "# <40-----------------------------------> \"Failed\"\n",
    "#>=40 and <55---------------------------> \"Fair\"\n",
    "# >=55 and <65--------------------------> \"Good\"\n",
    "# >=65----------------------------------> \"Excellent\"\n",
    "percentage=int(input('Enter the percentage of a student:\\n'))\n",
    "\n",
    "if percentage<40:\n",
    "    print('The student is Failed.')\n",
    "elif percentage>=40 and percentage<55:\n",
    "    print('The student has Fair marks.')\n",
    "elif percentage>=55 and percentage<65:\n",
    "    print('The student has Good marks.')\n",
    "elif percentage>=65:\n",
    "    print('The student has excellent marks.')\n",
    "else:\n",
    "    print('Invalid input.')"
   ]
  },
  {
   "cell_type": "code",
   "execution_count": 16,
   "id": "aacca029",
   "metadata": {},
   "outputs": [
    {
     "name": "stdout",
     "output_type": "stream",
     "text": [
      "Enter Marked Price:5000\n",
      "Net amout Pay: 4500.0\n"
     ]
    }
   ],
   "source": [
    "# Accept the marked price from the user and calculate the net amount as(marked price-discount) to pay \n",
    "# according to the following:\n",
    "# Marked Price-----------------> Discount\n",
    "# >10000-----------------------> 20%\n",
    "# >7000 and <=10000------------> 15%\n",
    "# <=7000-----------------------> 10%\n",
    "\n",
    "marked_price=int(input('Enter Marked Price:'))\n",
    "\n",
    "x=0\n",
    "discount=0\n",
    "\n",
    "if marked_price>10000:\n",
    "    discount=20/100*marked_price\n",
    "    \n",
    "elif marked_price>7000 and marked_price<=10000:\n",
    "    discount=15/100*marked_price\n",
    "\n",
    "elif marked_price<=7000:\n",
    "    discount=10/100*marked_price\n",
    "x=marked_price-discount\n",
    "print('Net amout Pay:',x)"
   ]
  },
  {
   "cell_type": "code",
   "execution_count": 1,
   "id": "327218b1",
   "metadata": {},
   "outputs": [],
   "source": [
    "# Accept the age of 4 people and display the oldest one?"
   ]
  },
  {
   "cell_type": "code",
   "execution_count": 7,
   "id": "772ab70b",
   "metadata": {},
   "outputs": [
    {
     "name": "stdout",
     "output_type": "stream",
     "text": [
      "Enter any number:\n",
      "15\n",
      "Number 15 is divisible by 3 Not 2. \n"
     ]
    }
   ],
   "source": [
    "# Write a program to check whether a number is divisible by 2 and 3 both.\n",
    "\n",
    "\n",
    "num=int(input('Enter any number:\\n'))\n",
    "\n",
    "\n",
    "if num%2==0 and num%3==0:\n",
    "    print(f'Number {num} is Divisible by both 2 and 3')\n",
    "    \n",
    "elif num%2==0 and num%3!=0:\n",
    "    print(f'Number {num} is divisible by 2 Not 3.')\n",
    "    \n",
    "elif num%2!=0 and num%3==0:\n",
    "    print(f'Number {num} is divisible by 3 Not 2. ')\n",
    "    \n",
    "else:\n",
    "    print('Please! Enter a Valid Number')"
   ]
  },
  {
   "cell_type": "code",
   "execution_count": 22,
   "id": "81b08a4d",
   "metadata": {},
   "outputs": [
    {
     "name": "stdout",
     "output_type": "stream",
     "text": [
      "Enter any number:8\n",
      "The number is not divisible by 3,5 and 7\n"
     ]
    }
   ],
   "source": [
    "# Write a program to check whether a number is divisible by 3,5 and 7. #05, 210, 315, 420, 525, 630, 735, 840, 945, 1050, ...\n",
    "\n",
    "\n",
    "\n",
    "num=int(input('Enter any number:'))\n",
    "\n",
    "\n",
    "if num%3==0 and num%5==0 and num%7==0:\n",
    "    print('The number is divisible by 3,5 and 7')\n",
    "elif num%3==0 and num%5==0 and num%7!=0:\n",
    "    print('The number is divisible by 3 and 5 Not by 7')\n",
    "elif num%3==0 and num%5!=0 and num%7==0:\n",
    "    print('The number is divisible by 3 and 7 Not by 5')\n",
    "elif num%3!=0 and num%5==0 and num%7==0:\n",
    "    print('The number is divisible by 5 and 7 Not 3')\n",
    "elif num%3!=0 and num%5==0 and num%7!=0:\n",
    "    print('The number is divisible by 5 Not 3 and 7')\n",
    "elif num%3==0 and num%5!=0 and num%7!=0:\n",
    "    print(f'The number {num} is only divisible by 3 Not 5 and 7')\n",
    "elif num%3!=0 and num%5!=0 and num%7==0:\n",
    "    print('The number is only divisible by 7 Not 3 and 5')\n",
    "else:\n",
    "    print('The number is not divisible by 3,5 and 7')"
   ]
  },
  {
   "cell_type": "code",
   "execution_count": 12,
   "id": "0e79f3a5",
   "metadata": {},
   "outputs": [
    {
     "name": "stdout",
     "output_type": "stream",
     "text": [
      "Enter number of electric unit:\n",
      "250\n",
      "Total cost: 2000\n"
     ]
    }
   ],
   "source": [
    "# Write a program to calculate a electric bill (accept a number of unit from user) according to the following criteria:\n",
    "\n",
    "# first 100 units ---------------------------> 'No Charge'\n",
    "# next 100 units-----------------------------> '5 rs per unit'\n",
    "# After 200 Units----------------------------> 10('500 extra)use 150 cost 1500\n",
    "\n",
    "# Ex-\n",
    "# first 100 -----------------------------> 'No Chrage'\n",
    "# next 100  -----------------------------> 100 use 500\n",
    "\n",
    "\n",
    "amt=0\n",
    "vivek=0\n",
    "x=0\n",
    "\n",
    "unit=int(input('Enter number of electric unit:\\n'))\n",
    "\n",
    "if unit<=100:\n",
    "    print('No Charge')\n",
    "elif unit>100 and unit<=200:\n",
    "    cost=(unit-100)*5\n",
    "    print('Total cost:',cost)\n",
    "elif unit>200:\n",
    "    cost=(unit-100)*10\n",
    "    print('Total cost:',cost+500)"
   ]
  },
  {
   "cell_type": "code",
   "execution_count": 20,
   "id": "e7fbc575",
   "metadata": {},
   "outputs": [
    {
     "name": "stdout",
     "output_type": "stream",
     "text": [
      "Enter your bike price:\n",
      "100000\n",
      "Tax to be paid: 10000.0\n",
      "Total amout to pay 110000.0\n"
     ]
    }
   ],
   "source": [
    "# Write a program to accept the cost price of a bike and display the road tax to be paid according to the following criteria:\n",
    "# Cost Price ----------------------------> Tax\n",
    "# >100000--------------------------------> 15%\n",
    "# 50000 and <=100000---------------------> 10%\n",
    "# <=50000 -------------------------------> 5%\n",
    "\n",
    "tax=0\n",
    "\n",
    "price=int(input('Enter your bike price:\\n'))\n",
    "\n",
    "if price>100000:\n",
    "    tax=15/100*price\n",
    "elif price>50000 and price<=100000:\n",
    "    tax=10/100*price\n",
    "else:\n",
    "    tax=5/100*price\n",
    "\n",
    "print('Tax to be paid:',tax)\n",
    "print('Total amout to pay',price+tax)"
   ]
  },
  {
   "cell_type": "code",
   "execution_count": 21,
   "id": "5d7ce59d",
   "metadata": {},
   "outputs": [],
   "source": [
    "# Write a program to accept percentage from the user and display grade according to the following criteria:\n",
    "\n",
    "\n",
    "# Marks --------------------------> Grade\n",
    "# >90 ----------------------------> A\n",
    "# >80 and <=90 -------------------> B\n",
    "# >=60 and <=80 ------------------> C\n",
    "# below 60 -----------------------> D"
   ]
  },
  {
   "cell_type": "code",
   "execution_count": 22,
   "id": "28f3278c",
   "metadata": {},
   "outputs": [],
   "source": [
    "# A company decided to give bonus to employee according to the following criteria.\n",
    "\n",
    "# Time period of Service -------------------> Bonus\n",
    "# 10 Years ---------------------------------> 10%\n",
    "#>=6 and <=10 ------------------------------> 8%\n",
    "# <6 ---------------------------------------> 5%\n",
    "# Ask the user for their salary and years of services and Print the bonus amount."
   ]
  },
  {
   "cell_type": "code",
   "execution_count": 23,
   "id": "e41324ce",
   "metadata": {},
   "outputs": [],
   "source": [
    "# Write a program to check how many words in your name is vowel or consonent?"
   ]
  },
  {
   "cell_type": "code",
   "execution_count": 24,
   "id": "91e22b72",
   "metadata": {},
   "outputs": [],
   "source": [
    "# Write a program to check in your workd is vowel or not?\n"
   ]
  },
  {
   "cell_type": "code",
   "execution_count": 25,
   "id": "e9a81500",
   "metadata": {},
   "outputs": [],
   "source": [
    "# Write a program to check whether a number is(accepted from user) is positive or negative."
   ]
  },
  {
   "cell_type": "code",
   "execution_count": null,
   "id": "5865dd5f",
   "metadata": {},
   "outputs": [],
   "source": []
  }
 ],
 "metadata": {
  "kernelspec": {
   "display_name": "Python 3 (ipykernel)",
   "language": "python",
   "name": "python3"
  },
  "language_info": {
   "codemirror_mode": {
    "name": "ipython",
    "version": 3
   },
   "file_extension": ".py",
   "mimetype": "text/x-python",
   "name": "python",
   "nbconvert_exporter": "python",
   "pygments_lexer": "ipython3",
   "version": "3.9.13"
  }
 },
 "nbformat": 4,
 "nbformat_minor": 5
}
