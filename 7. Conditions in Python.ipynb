{
 "cells": [
  {
   "cell_type": "markdown",
   "id": "1dc08f11",
   "metadata": {},
   "source": [
    "# 7. Conditions in Python\n",
    "\n",
    " __Comparison Operators__\n",
    " \n",
    " * Comparison operations compare some value or operand and based on a condition, produce a Boolean. Python has six comparison operators as below:\n",
    " \n",
    " * Less than(<)\n",
    " * Less than or equal to(<=)\n",
    " * Greater than (>)\n",
    " * Greater than or equal to(>=)\n",
    " * Equal to(==)\n",
    " * Not equal to(!=)\n",
    " \n",
    " "
   ]
  },
  {
   "cell_type": "code",
   "execution_count": 2,
   "id": "353851d0",
   "metadata": {},
   "outputs": [
    {
     "name": "stdout",
     "output_type": "stream",
     "text": [
      "True\n",
      "False\n"
     ]
    }
   ],
   "source": [
    "# take an example\n",
    "\n",
    "ratio = 1.618\n",
    "\n",
    "print(ratio<2)\n",
    "print(ratio<1)"
   ]
  },
  {
   "cell_type": "markdown",
   "id": "9d8edc9e",
   "metadata": {},
   "source": [
    "# Branching (if,elif,else)\n",
    "\n",
    " __Important Notes__\n",
    " \n",
    " * Decision making is required when we want to execute a code only if a certain condition is satisfied.\n",
    " * The __if/elif/else__ statement is used in Python for decision making.\n",
    " * An __else__ statement can be combined with an __if__ statement.\n",
    " * An __else__ statement conatins the block of code that executes if the conditional expression in the if statement resolves to __0__ or __False__ value.\n",
    " * The __else__ statement is an optional statement and there could be at most only one else statement following __if__.\n",
    " * The __elif__ statement allows you to check multiple expressions for __True__ and execute a block of code as soon as one of the condtions evaluates to __True__.\n",
    " * Similar to the __else__, the __elif__ statement is opetional.\n",
    " * However, unlike __else__, for which there can be at most one statement, there can be an arbitrary number of __elif__ statements following an __if__.\n",
    " "
   ]
  },
  {
   "cell_type": "markdown",
   "id": "1cb0c7dc",
   "metadata": {},
   "source": [
    "# if statement"
   ]
  },
  {
   "cell_type": "code",
   "execution_count": 9,
   "id": "9d3640ff",
   "metadata": {},
   "outputs": [
    {
     "name": "stdout",
     "output_type": "stream",
     "text": [
      "The number pi 3.14 is greater than the ratio 1.618\n",
      "Done!\n"
     ]
    }
   ],
   "source": [
    "pi = 3.14\n",
    "ratio = 1.618\n",
    "\n",
    "if pi>ratio:\n",
    "    print(f'The number pi {pi} is greater than the ratio {ratio}')\n",
    "    \n",
    "print('Done!')"
   ]
  },
  {
   "cell_type": "markdown",
   "id": "9fd9ffca",
   "metadata": {},
   "source": [
    "# else statement"
   ]
  },
  {
   "cell_type": "code",
   "execution_count": 17,
   "id": "ec7f2100",
   "metadata": {},
   "outputs": [
    {
     "name": "stdout",
     "output_type": "stream",
     "text": [
      "The ratio 1.618 is lower than the number pi 3.14\n"
     ]
    }
   ],
   "source": [
    "pi = 3.14\n",
    "ratio = 1.618\n",
    "\n",
    "if pi<ratio:\n",
    "    print(f'The number pi {pi} is greater than the ratio {ratio}')\n",
    "    \n",
    "else:\n",
    "    print(f'The ratio {ratio} is lower than the number pi {pi}')"
   ]
  },
  {
   "cell_type": "markdown",
   "id": "3e92009c",
   "metadata": {},
   "source": [
    "# elif statement"
   ]
  },
  {
   "cell_type": "code",
   "execution_count": 22,
   "id": "47e8e48f",
   "metadata": {},
   "outputs": [
    {
     "name": "stdout",
     "output_type": "stream",
     "text": [
      "You should goto kindergarden\n"
     ]
    }
   ],
   "source": [
    "age = 5\n",
    "\n",
    "if age>6:\n",
    "    print('You can go to primary school')\n",
    "elif age==5:\n",
    "    print('You should goto kindergarden')\n",
    "else:\n",
    "    print('You are a baby')\n",
    "    "
   ]
  },
  {
   "cell_type": "markdown",
   "id": "6cdbba24",
   "metadata": {},
   "source": [
    "# __input() funciton__"
   ]
  },
  {
   "cell_type": "code",
   "execution_count": 31,
   "id": "422902aa",
   "metadata": {},
   "outputs": [
    {
     "name": "stdout",
     "output_type": "stream",
     "text": [
      "You should enter the number only 1 to 10:3\n",
      "You are a baby\n"
     ]
    }
   ],
   "source": [
    "age = int(input('You should enter the number only 1 to 10:'))\n",
    "\n",
    "if age>6:\n",
    "    print('You can go to primary school')\n",
    "elif age==5:\n",
    "    print('You should goto kindergarden')\n",
    "else:\n",
    "    print('You are a baby')"
   ]
  },
  {
   "cell_type": "code",
   "execution_count": null,
   "id": "ee6abc72",
   "metadata": {},
   "outputs": [],
   "source": []
  }
 ],
 "metadata": {
  "kernelspec": {
   "display_name": "Python 3 (ipykernel)",
   "language": "python",
   "name": "python3"
  },
  "language_info": {
   "codemirror_mode": {
    "name": "ipython",
    "version": 3
   },
   "file_extension": ".py",
   "mimetype": "text/x-python",
   "name": "python",
   "nbconvert_exporter": "python",
   "pygments_lexer": "ipython3",
   "version": "3.9.13"
  }
 },
 "nbformat": 4,
 "nbformat_minor": 5
}
