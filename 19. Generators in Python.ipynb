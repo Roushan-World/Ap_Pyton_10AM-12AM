{
 "cells": [
  {
   "cell_type": "markdown",
   "id": "e6363bc7",
   "metadata": {},
   "source": [
    "# 19. Generators in Python\n",
    "\n",
    "\n",
    " * __Python generators are the functions that return the transversal object and a simple way of creating iterators.__\n",
    " * __It transverses the entire items at once.__\n",
    " * __The generators can also be an expression in which syntax is similar to the list comprehension in Python.__\n",
    " * __There is a lot of complexity in Creating iteration in Python, it is required to implement iter() and next() methods to keep track of internal states.__\n",
    " * __It is a lengthy process ot create iteratos.__\n",
    " * __That is why the generators plays a significant role in simplifying this proces.__\n",
    " * __If there is no value found in iteration, it raises StopIteration exception.__\n",
    " * __It is quite simple to create a generator in Python.__\n",
    " * __It is similar to the normal function defined by the def keyword and employs a yield keyword instead of return.__\n",
    " * __If the body of any function includes a yield statement, it automatically becomes a generator functions.__\n",
    " * __The yield keyword is responsible to control the flow of the generator functions.__\n",
    " * __It pauses the function execution by saving all states and yielded to the caller.__\n",
    " * __Later it resumes execution when a successive function is called.__\n",
    " * __The return keyword returns a value and terminates the whole function and only one return statement can be employed in the functions.__"
   ]
  },
  {
   "cell_type": "code",
   "execution_count": 1,
   "id": "eadd2d5f",
   "metadata": {},
   "outputs": [
    {
     "name": "stdout",
     "output_type": "stream",
     "text": [
      "[0, 2, 4, 6, 8, 10, 12, 14, 16, 18, 20, 22, 24, 26, 28, 30, 32, 34, 36, 38, 40, 42, 44, 46, 48, 50, 52, 54, 56, 58, 60, 62, 64, 66, 68, 70, 72, 74, 76, 78, 80, 82, 84, 86, 88, 90, 92, 94, 96, 98]\n"
     ]
    }
   ],
   "source": [
    "def function():\n",
    "    for i in range(100):\n",
    "        if i%2==0:\n",
    "            yield i\n",
    "            \n",
    "            \n",
    "            \n",
    "nlis=[]\n",
    "for i in function():\n",
    "    nlis.append(i)\n",
    "print(nlis)"
   ]
  },
  {
   "cell_type": "code",
   "execution_count": 5,
   "id": "2e9da03c",
   "metadata": {},
   "outputs": [
    {
     "name": "stdout",
     "output_type": "stream",
     "text": [
      "hello world\n",
      "Hello, Python\n",
      "Python is the most popular programming language.\n",
      "Momos is your favouriate fast food.\n"
     ]
    }
   ],
   "source": [
    "def message():\n",
    "    msg_one='hello world'\n",
    "    yield msg_one\n",
    "    \n",
    "    msg_two='Hello, Python'\n",
    "    yield msg_two\n",
    "    \n",
    "    msg_three='Python is the most popular programming language.'\n",
    "    yield msg_three\n",
    "    \n",
    "    msg_four='Momos is your favouriate fast food.'\n",
    "    yield msg_four\n",
    "    \n",
    "    \n",
    "result=message()\n",
    "print(next(result))\n",
    "print(next(result))\n",
    "print(next(result))\n",
    "print(next(result))"
   ]
  },
  {
   "cell_type": "code",
   "execution_count": null,
   "id": "168603b3",
   "metadata": {},
   "outputs": [],
   "source": []
  }
 ],
 "metadata": {
  "kernelspec": {
   "display_name": "Python 3 (ipykernel)",
   "language": "python",
   "name": "python3"
  },
  "language_info": {
   "codemirror_mode": {
    "name": "ipython",
    "version": 3
   },
   "file_extension": ".py",
   "mimetype": "text/x-python",
   "name": "python",
   "nbconvert_exporter": "python",
   "pygments_lexer": "ipython3",
   "version": "3.9.13"
  }
 },
 "nbformat": 4,
 "nbformat_minor": 5
}
