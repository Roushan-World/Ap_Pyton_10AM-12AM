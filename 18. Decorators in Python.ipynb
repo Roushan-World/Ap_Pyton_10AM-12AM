{
 "cells": [
  {
   "cell_type": "markdown",
   "id": "b81bd097",
   "metadata": {},
   "source": [
    "# 18. Decorators in Python\n",
    "\n",
    " * __Decorators provides a simple syntax for calling higher-order function.__\n",
    " \n",
    " * __By definition, a decorator is a function that takes another function and extends the behavior of the latter functuion without explicitly modifying it.__\n",
    " * __A decorators in Python is a function that takes another function as its argument, and retunrs yet another functions.__\n",
    " * __Decorators can be extremely useful as they allow the extension of an existing function, without any modification to the original function sources code.__\n",
    " * __In fact, there are two types of decorators in Python including class decorators and function decorators.__\n",
    " * __In application, decorators are majorly used in creating middle layer in the backed, it performs task like token authentication, validation, image compression and many more.__"
   ]
  },
  {
   "cell_type": "code",
   "execution_count": 1,
   "id": "75321e62",
   "metadata": {},
   "outputs": [],
   "source": [
    "# import libraty\n",
    "\n",
    "import decorator\n",
    "\n",
    "from decorator import * #----everything of decorator\n",
    "import functools\n",
    "import math"
   ]
  },
  {
   "cell_type": "code",
   "execution_count": 2,
   "id": "9a4cbd94",
   "metadata": {},
   "outputs": [
    {
     "name": "stdout",
     "output_type": "stream",
     "text": [
      "Help on function decorator in module decorator:\n",
      "\n",
      "decorator(caller, _func=None, kwsyntax=False)\n",
      "    decorator(caller) converts a caller function into a decorator\n",
      "\n"
     ]
    }
   ],
   "source": [
    "help(decorator)"
   ]
  },
  {
   "cell_type": "code",
   "execution_count": 4,
   "id": "ba3f2b64",
   "metadata": {},
   "outputs": [
    {
     "name": "stdout",
     "output_type": "stream",
     "text": [
      "Python is a programming language.\n",
      "Hello,Python\n",
      "My self Sampada\n"
     ]
    }
   ],
   "source": [
    "# Define a function\n",
    "\n",
    "'''\n",
    "'''\n",
    "\n",
    "def mytext(text):\n",
    "    print(text)\n",
    "mytext('Python is a programming language.')\n",
    "new_text=mytext\n",
    "new_text('Hello,Python')\n",
    "x=mytext\n",
    "x('My self Sampada')"
   ]
  },
  {
   "cell_type": "markdown",
   "id": "b1381cd7",
   "metadata": {},
   "source": [
    "# Nested/Inner Functions\n",
    "\n"
   ]
  },
  {
   "cell_type": "code",
   "execution_count": 5,
   "id": "5a22b35f",
   "metadata": {},
   "outputs": [
    {
     "name": "stdout",
     "output_type": "stream",
     "text": [
      "Python is a programming language.\n",
      "Hello World\n",
      "Hi,World\n"
     ]
    }
   ],
   "source": [
    "def mytext():\n",
    "    print('Python is a programming language.')\n",
    "    def new_text():\n",
    "        print('Hello World')\n",
    "    def message():\n",
    "        print('Hi,World')\n",
    "        \n",
    "    new_text()\n",
    "    message()\n",
    "    \n",
    "mytext()"
   ]
  },
  {
   "cell_type": "code",
   "execution_count": 6,
   "id": "b121a24a",
   "metadata": {},
   "outputs": [
    {
     "name": "stdout",
     "output_type": "stream",
     "text": [
      "Python is a programming language.\n"
     ]
    }
   ],
   "source": [
    "def message():\n",
    "    def text():\n",
    "        print('Python is a programming language.')\n",
    "    return text\n",
    "\n",
    "new_message=message()\n",
    "new_message()"
   ]
  },
  {
   "cell_type": "code",
   "execution_count": 8,
   "id": "3b2510e0",
   "metadata": {},
   "outputs": [
    {
     "name": "stdout",
     "output_type": "stream",
     "text": [
      "6.28\n",
      "1.2738853503184713\n"
     ]
    }
   ],
   "source": [
    "#  Define a function\n",
    "\n",
    "def multi(x):\n",
    "    return x*3.14\n",
    "def divide(x):\n",
    "    return x/3.14\n",
    "def operator(function,x):\n",
    "    number = function(x)\n",
    "    return number\n",
    "\n",
    "print(operator(multi,2))\n",
    "print(operator(divide,4))"
   ]
  },
  {
   "cell_type": "code",
   "execution_count": 9,
   "id": "b81e05cb",
   "metadata": {},
   "outputs": [
    {
     "data": {
      "text/plain": [
       "5.859874482048838"
      ]
     },
     "execution_count": 9,
     "metadata": {},
     "output_type": "execute_result"
    }
   ],
   "source": [
    "def addition(num):\n",
    "    return num+math.pi #3.147\n",
    "\n",
    "def called_function(func):\n",
    "    added_number=math.e  #1.618\n",
    "    return func(added_number)\n",
    "called_function(addition)"
   ]
  },
  {
   "cell_type": "code",
   "execution_count": 10,
   "id": "1cf5e3ee",
   "metadata": {},
   "outputs": [
    {
     "name": "stdout",
     "output_type": "stream",
     "text": [
      "PYHTON IS THE MOST POPULAR PROGRAMMING LANGUAGE.\n"
     ]
    }
   ],
   "source": [
    "def decorator_text_uppercase(func):\n",
    "    def wrapper():\n",
    "        function=func()\n",
    "        text_uppercase=function.upper()\n",
    "        return text_uppercase\n",
    "    return wrapper\n",
    "\n",
    "\n",
    "@decorator_text_uppercase\n",
    "def text():\n",
    "    return 'pyhton is the most popular programming language.'\n",
    "print(text())"
   ]
  },
  {
   "cell_type": "code",
   "execution_count": 11,
   "id": "2dae6f86",
   "metadata": {},
   "outputs": [
    {
     "name": "stdout",
     "output_type": "stream",
     "text": [
      "CHANDRAYAAN-3 IS THE THIRD AND MOST RECENT INDIAN LUNAR EXPLORATION MISSION UNDER THE CHANDRAYAAN PROGRAMME OF ISRO. IT CONSISTS OF A LANDER NAMED VIKRAM AND A ROVER NAMED PRAGYAN SIMILAR TO CHANDRAYAAN-2. ITS PROPULSION MODULE WOULD ACT LIKE AN ORBITER.\n"
     ]
    }
   ],
   "source": [
    "@decorator_text_uppercase\n",
    "def x():\n",
    "    return 'Chandrayaan-3 is the third and most recent Indian lunar exploration mission under the Chandrayaan programme of ISRO. It consists of a lander named Vikram and a rover named Pragyan similar to Chandrayaan-2. Its propulsion module would act like an orbiter.'\n",
    "print(x())"
   ]
  },
  {
   "cell_type": "markdown",
   "id": "7bccc125",
   "metadata": {},
   "source": [
    "# Fancy Decorators \n",
    "\n",
    " * @propertymethod\n",
    " * @staticmethod\n",
    " * @classmethod."
   ]
  },
  {
   "cell_type": "code",
   "execution_count": null,
   "id": "8ee079a0",
   "metadata": {},
   "outputs": [],
   "source": []
  }
 ],
 "metadata": {
  "kernelspec": {
   "display_name": "Python 3 (ipykernel)",
   "language": "python",
   "name": "python3"
  },
  "language_info": {
   "codemirror_mode": {
    "name": "ipython",
    "version": 3
   },
   "file_extension": ".py",
   "mimetype": "text/x-python",
   "name": "python",
   "nbconvert_exporter": "python",
   "pygments_lexer": "ipython3",
   "version": "3.9.13"
  }
 },
 "nbformat": 4,
 "nbformat_minor": 5
}
