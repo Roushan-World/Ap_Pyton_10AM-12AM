{
 "cells": [
  {
   "cell_type": "markdown",
   "id": "32f0e67e",
   "metadata": {},
   "source": [
    "# 6. Dictionaries in Python\n",
    "\n",
    " * Dictionaries are used to store data values in Kye:Values pairs.\n",
    " * A dicitonary is a collection which is ordered, changeable or mutable and do not allow duplicates.\n",
    " * Dictionary items are ordered, changeable, and does not allow duplicates.\n",
    " * Dictionary items are presented in key:value pairs, and can be referred to by using the key name.\n",
    " * Dictionary are changeable, meaning that we can change, add or remove items after the dictionary has been created.\n",
    " * Dicitionaries cannot have two items with the same key.\n",
    " * A dictionary can nested and can contain another dictionary.\n",
    " \n",
    " \n",
    "                         Keys-----------------------Values\n",
    "                         'name'--------------------> 'Bob'\n",
    "                         'age'---------------------> 45\n",
    "                         'job'---------------------> 'Backend Developer'\n",
    "                         'city'-------------------->'Pune'\n",
    "                         'email'------------------->'bob@hotmail.com'\n",
    "                         "
   ]
  },
  {
   "cell_type": "code",
   "execution_count": 1,
   "id": "235cbea8",
   "metadata": {},
   "outputs": [
    {
     "data": {
      "text/plain": [
       "{'key_1': 3.14,\n",
       " 'key_2': 1.618,\n",
       " 'key_3': True,\n",
       " 'key_4': [3.14, 1.618],\n",
       " 'key_5': (3.14, 1.618),\n",
       " 'key_6': 'Vaishnav'}"
      ]
     },
     "execution_count": 1,
     "metadata": {},
     "output_type": "execute_result"
    }
   ],
   "source": [
    "# Take a sample dictionary\n",
    "\n",
    "sample_dict={'key_1':3.14,'key_2':1.618,\n",
    "            'key_3':True,'key_4':[3.14,1.618],\n",
    "            'key_5':(3.14,1.618),'key_6':'Vaishnav'}\n",
    "\n",
    "sample_dict"
   ]
  },
  {
   "cell_type": "code",
   "execution_count": 2,
   "id": "2509ef00",
   "metadata": {},
   "outputs": [
    {
     "name": "stdout",
     "output_type": "stream",
     "text": [
      "3.14\n"
     ]
    }
   ],
   "source": [
    "print(sample_dict['key_1'])\n",
    "print(sa)"
   ]
  },
  {
   "cell_type": "code",
   "execution_count": 1,
   "id": "a11bcee9",
   "metadata": {},
   "outputs": [],
   "source": [
    "# When would you use a list vs dictionary?\n",
    "# Is a list mutable?\n",
    "# What is the difference between append and extend?\n",
    "# What does 'del' do?\n",
    "# What is the difference between 'remove' and 'pop'?\n",
    "# Remove duplicates from a list\n",
    "   # li = [3,3,3,1,1,1,2,2,2,]\n",
    "# find the index of the all element with positive and negative?\n",
    "    # fruits = ['pear','orange','apple','grapefruit','apple','pear']\n",
    "# Remove all element from  a list?\n",
    "    # frutis = ['pear','orange','apple','banana','Blackberry','Chikoo']\n",
    "# How to concatenate two lists?\n",
    "    #one=['a','b','c','d']\n",
    "    #two=[1,2,3,4,5]\n",
    "# Count the occurrence of a specific object in a list.\n",
    "    # pets = ['dog','cat','fish','fish','cat','fish','dog']\n",
    "# How to shallow copy a list?\n",
    "    #round=['chuck norris','brucelee','sonny chiba',]\n",
    "    \n",
    "# Why we create a shallow copy of a list?\n",
    "# What is the difference between a deep copy and a shallow copy?\n",
    "# What is the difference between a list and a tuple.\n",
    "# Return the length of a list?\n",
    "    #li= ['a','b','c','d','e']\n",
    "    \n",
    "# What is the difference between a list and a set?\n",
    "# How to check if an element is not in a list\n",
    "    # lis = [1,2,3,4]"
   ]
  },
  {
   "cell_type": "code",
   "execution_count": null,
   "id": "0db80278",
   "metadata": {},
   "outputs": [],
   "source": []
  }
 ],
 "metadata": {
  "kernelspec": {
   "display_name": "Python 3 (ipykernel)",
   "language": "python",
   "name": "python3"
  },
  "language_info": {
   "codemirror_mode": {
    "name": "ipython",
    "version": 3
   },
   "file_extension": ".py",
   "mimetype": "text/x-python",
   "name": "python",
   "nbconvert_exporter": "python",
   "pygments_lexer": "ipython3",
   "version": "3.9.13"
  }
 },
 "nbformat": 4,
 "nbformat_minor": 5
}
