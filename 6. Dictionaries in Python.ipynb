{
 "cells": [
  {
   "cell_type": "markdown",
   "id": "32f0e67e",
   "metadata": {},
   "source": [
    "# 6. Dictionaries in Python\n",
    "\n",
    " * Dictionaries are used to store data values in Kye:Values pairs.\n",
    " * A dicitonary is a collection which is ordered, changeable or mutable and do not allow duplicates.\n",
    " * Dictionary items are ordered, changeable, and does not allow duplicates.\n",
    " * Dictionary items are presented in key:value pairs, and can be referred to by using the key name.\n",
    " * Dictionary are changeable, meaning that we can change, add or remove items after the dictionary has been created.\n",
    " * Dicitionaries cannot have two items with the same key.\n",
    " * A dictionary can nested and can contain another dictionary.\n",
    " \n",
    " \n",
    "                         Keys-----------------------Values\n",
    "                         'name'--------------------> 'Bob'\n",
    "                         'age'---------------------> 45\n",
    "                         'job'---------------------> 'Backend Developer'\n",
    "                         'city'-------------------->'Pune'\n",
    "                         'email'------------------->'bob@hotmail.com'\n",
    "                         "
   ]
  },
  {
   "cell_type": "code",
   "execution_count": 1,
   "id": "235cbea8",
   "metadata": {},
   "outputs": [
    {
     "data": {
      "text/plain": [
       "{'key_1': 3.14,\n",
       " 'key_2': 1.618,\n",
       " 'key_3': True,\n",
       " 'key_4': [3.14, 1.618],\n",
       " 'key_5': (3.14, 1.618),\n",
       " 'key_6': 'Vaishnav'}"
      ]
     },
     "execution_count": 1,
     "metadata": {},
     "output_type": "execute_result"
    }
   ],
   "source": [
    "# Take a sample dictionary\n",
    "\n",
    "sample_dict={'key_1':3.14,'key_2':1.618,\n",
    "            'key_3':True,'key_4':[3.14,1.618],\n",
    "            'key_5':(3.14,1.618),'key_6':'Vaishnav'}\n",
    "\n",
    "sample_dict"
   ]
  },
  {
   "cell_type": "code",
   "execution_count": 2,
   "id": "2509ef00",
   "metadata": {},
   "outputs": [
    {
     "name": "stdout",
     "output_type": "stream",
     "text": [
      "3.14\n"
     ]
    }
   ],
   "source": [
    "print(sample_dict['key_1'])\n",
    "print(sa)"
   ]
  },
  {
   "cell_type": "code",
   "execution_count": 1,
   "id": "a11bcee9",
   "metadata": {},
   "outputs": [],
   "source": [
    "# When would you use a list vs dictionary?\n",
    "# Is a list mutable?\n",
    "# What is the difference between append and extend?\n",
    "# What does 'del' do?\n",
    "# What is the difference between 'remove' and 'pop'?\n",
    "# Remove duplicates from a list\n",
    "   # li = [3,3,3,1,1,1,2,2,2,]\n",
    "# find the index of the all element with positive and negative?\n",
    "    # fruits = ['pear','orange','apple','grapefruit','apple','pear']\n",
    "# Remove all element from  a list?\n",
    "    # frutis = ['pear','orange','apple','banana','Blackberry','Chikoo']\n",
    "# How to concatenate two lists?\n",
    "    #one=['a','b','c','d']\n",
    "    #two=[1,2,3,4,5]\n",
    "# Count the occurrence of a specific object in a list.\n",
    "    # pets = ['dog','cat','fish','fish','cat','fish','dog']\n",
    "# How to shallow copy a list?\n",
    "    #round=['chuck norris','brucelee','sonny chiba',]\n",
    "    \n",
    "# Why we create a shallow copy of a list?\n",
    "# What is the difference between a deep copy and a shallow copy?\n",
    "# What is the difference between a list and a tuple.\n",
    "# Return the length of a list?\n",
    "    #li= ['a','b','c','d','e']\n",
    "    \n",
    "# What is the difference between a list and a set?\n",
    "# How to check if an element is not in a list\n",
    "    # lis = [1,2,3,4]"
   ]
  },
  {
   "cell_type": "code",
   "execution_count": 7,
   "id": "0db80278",
   "metadata": {},
   "outputs": [
    {
     "name": "stdout",
     "output_type": "stream",
     "text": [
      "{'name': 'Durgesh', 'age': 45, 'location': 'pune', 'contact': 789456123}\n"
     ]
    }
   ],
   "source": [
    "name_1={'name':'Durgesh',\n",
    "       'age':45,'location':'pune','contact':789456123}\n",
    "print(name_1)\n"
   ]
  },
  {
   "cell_type": "code",
   "execution_count": 13,
   "id": "923e82de",
   "metadata": {},
   "outputs": [
    {
     "name": "stdout",
     "output_type": "stream",
     "text": [
      "Durgesh\n",
      "45\n",
      "pune\n",
      "789456123\n"
     ]
    }
   ],
   "source": [
    "print(name_1['name'])\n",
    "print(name_1['age'])\n",
    "print(name_1['location'])\n",
    "print(name_1['contact'])"
   ]
  },
  {
   "cell_type": "code",
   "execution_count": 14,
   "id": "42f30b7d",
   "metadata": {},
   "outputs": [
    {
     "data": {
      "text/plain": [
       "dict_keys(['name', 'age', 'location', 'contact'])"
      ]
     },
     "execution_count": 14,
     "metadata": {},
     "output_type": "execute_result"
    }
   ],
   "source": [
    "name_1.keys()"
   ]
  },
  {
   "cell_type": "code",
   "execution_count": 17,
   "id": "cc482e1d",
   "metadata": {},
   "outputs": [
    {
     "data": {
      "text/plain": [
       "dict_values(['Durgesh', 45, 'pune', 789456123])"
      ]
     },
     "execution_count": 17,
     "metadata": {},
     "output_type": "execute_result"
    }
   ],
   "source": [
    "name_1.values()"
   ]
  },
  {
   "cell_type": "markdown",
   "id": "a4484ba6",
   "metadata": {},
   "source": [
    "# Note: As you see that the whole dictionary is enclosed in curly braces, each key is separated from its value by a column ':' and commas are used to separate the items in the dictionary."
   ]
  },
  {
   "cell_type": "code",
   "execution_count": 1,
   "id": "971c65ef",
   "metadata": {},
   "outputs": [
    {
     "data": {
      "text/plain": [
       "{'name': 'Vaishnav', 'age': 45, 'address': 'Pune', 'Contact': 'abc@gmail.com'}"
      ]
     },
     "execution_count": 1,
     "metadata": {},
     "output_type": "execute_result"
    }
   ],
   "source": [
    "x = {'name':'Vaishnav','age':45,\n",
    "    'address':'Pune','Contact':'abc@gmail.com'}\n",
    "x"
   ]
  },
  {
   "cell_type": "code",
   "execution_count": 7,
   "id": "60b109c8",
   "metadata": {},
   "outputs": [
    {
     "name": "stdout",
     "output_type": "stream",
     "text": [
      "Vaishnav\n",
      "45\n",
      "abc@gmail.com\n",
      "Pune\n"
     ]
    }
   ],
   "source": [
    "print(x['name'])\n",
    "print(x['age'])\n",
    "print(x['Contact'])\n",
    "print(x['address'])"
   ]
  },
  {
   "cell_type": "code",
   "execution_count": 8,
   "id": "5633866a",
   "metadata": {},
   "outputs": [
    {
     "data": {
      "text/plain": [
       "dict_keys(['name', 'age', 'address', 'Contact'])"
      ]
     },
     "execution_count": 8,
     "metadata": {},
     "output_type": "execute_result"
    }
   ],
   "source": [
    "x.keys()"
   ]
  },
  {
   "cell_type": "code",
   "execution_count": 9,
   "id": "0d0925be",
   "metadata": {},
   "outputs": [
    {
     "data": {
      "text/plain": [
       "dict_values(['Vaishnav', 45, 'Pune', 'abc@gmail.com'])"
      ]
     },
     "execution_count": 9,
     "metadata": {},
     "output_type": "execute_result"
    }
   ],
   "source": [
    "x.values()"
   ]
  },
  {
   "cell_type": "markdown",
   "id": "d6abbcf6",
   "metadata": {},
   "source": [
    "# Addition of a new key:value pair in the dictionary\n",
    "\n"
   ]
  },
  {
   "cell_type": "code",
   "execution_count": 12,
   "id": "7247e939",
   "metadata": {},
   "outputs": [
    {
     "name": "stdout",
     "output_type": "stream",
     "text": [
      "{'name': 'Vaishnav', 'age': 45, 'address': 'Pune', 'Contact': 'abc@gmail.com'}\n",
      "{'name': 'Vaishnav', 'age': 45, 'address': 'Pune', 'Contact': 'abc@gmail.com', 'Weight': 81}\n"
     ]
    }
   ],
   "source": [
    "print(x)\n",
    "x['Weight'] = 81\n",
    "print(x)"
   ]
  },
  {
   "cell_type": "markdown",
   "id": "eb096fb9",
   "metadata": {},
   "source": [
    "# Delete an item using del() function in the dictionary by key"
   ]
  },
  {
   "cell_type": "code",
   "execution_count": 13,
   "id": "b3c1011d",
   "metadata": {},
   "outputs": [],
   "source": [
    "del(x['Contact'])"
   ]
  },
  {
   "cell_type": "code",
   "execution_count": 14,
   "id": "5b3d5ccf",
   "metadata": {},
   "outputs": [
    {
     "name": "stdout",
     "output_type": "stream",
     "text": [
      "{'name': 'Vaishnav', 'age': 45, 'address': 'Pune', 'Weight': 81}\n"
     ]
    }
   ],
   "source": [
    "print(x)"
   ]
  },
  {
   "cell_type": "code",
   "execution_count": 15,
   "id": "8eaf024c",
   "metadata": {},
   "outputs": [
    {
     "ename": "NameError",
     "evalue": "name 'x' is not defined",
     "output_type": "error",
     "traceback": [
      "\u001b[1;31m---------------------------------------------------------------------------\u001b[0m",
      "\u001b[1;31mNameError\u001b[0m                                 Traceback (most recent call last)",
      "\u001b[1;32m~\\AppData\\Local\\Temp\\ipykernel_49192\\412694103.py\u001b[0m in \u001b[0;36m<module>\u001b[1;34m\u001b[0m\n\u001b[0;32m      1\u001b[0m \u001b[1;32mdel\u001b[0m \u001b[0mx\u001b[0m\u001b[1;33m\u001b[0m\u001b[1;33m\u001b[0m\u001b[0m\n\u001b[1;32m----> 2\u001b[1;33m \u001b[0mprint\u001b[0m\u001b[1;33m(\u001b[0m\u001b[0mx\u001b[0m\u001b[1;33m)\u001b[0m\u001b[1;33m\u001b[0m\u001b[1;33m\u001b[0m\u001b[0m\n\u001b[0m",
      "\u001b[1;31mNameError\u001b[0m: name 'x' is not defined"
     ]
    }
   ],
   "source": [
    "del x\n",
    "print(x)"
   ]
  },
  {
   "cell_type": "code",
   "execution_count": 16,
   "id": "46adb415",
   "metadata": {},
   "outputs": [
    {
     "data": {
      "text/plain": [
       "{'name': 'Vaishnav', 'age': 45, 'address': 'Pune', 'Weight': 81}"
      ]
     },
     "execution_count": 16,
     "metadata": {},
     "output_type": "execute_result"
    }
   ],
   "source": [
    "z = {'name': 'Vaishnav', 'age': 45, 'address': 'Pune', 'Weight': 81}\n",
    "z"
   ]
  },
  {
   "cell_type": "markdown",
   "id": "99369aff",
   "metadata": {},
   "source": [
    "# Verification using in or not in"
   ]
  },
  {
   "cell_type": "code",
   "execution_count": 19,
   "id": "283ed856",
   "metadata": {},
   "outputs": [
    {
     "name": "stdout",
     "output_type": "stream",
     "text": [
      "False\n",
      "True\n",
      "False\n"
     ]
    }
   ],
   "source": [
    "print('Contact' in z)\n",
    "print('name' in z)\n",
    "print('Vaishanv' in z)"
   ]
  },
  {
   "cell_type": "code",
   "execution_count": 20,
   "id": "68809721",
   "metadata": {},
   "outputs": [
    {
     "data": {
      "text/plain": [
       "{'family': 'music', 'type': 'pop', 'year': '2022', 'name': 'Happy new year'}"
      ]
     },
     "execution_count": 20,
     "metadata": {},
     "output_type": "execute_result"
    }
   ],
   "source": [
    "dict_sample=dict(family='music',type='pop',year='2022',name='Happy new year')\n",
    "dict_sample"
   ]
  },
  {
   "cell_type": "markdown",
   "id": "19344454",
   "metadata": {},
   "source": [
    "# clear() function\n",
    " * It removes all the items in the dictionary and returns an empty dictionary."
   ]
  },
  {
   "cell_type": "code",
   "execution_count": 21,
   "id": "c7afbd3b",
   "metadata": {},
   "outputs": [
    {
     "data": {
      "text/plain": [
       "{1: 2, 2: 2, 3: 3}"
      ]
     },
     "execution_count": 21,
     "metadata": {},
     "output_type": "execute_result"
    }
   ],
   "source": [
    "xyz= {1:2,2:2,3:3}\n",
    "xyz"
   ]
  },
  {
   "cell_type": "code",
   "execution_count": 22,
   "id": "4b0ad456",
   "metadata": {},
   "outputs": [
    {
     "data": {
      "text/plain": [
       "{}"
      ]
     },
     "execution_count": 22,
     "metadata": {},
     "output_type": "execute_result"
    }
   ],
   "source": [
    "xyz.clear()\n",
    "xyz"
   ]
  },
  {
   "cell_type": "markdown",
   "id": "70e9c321",
   "metadata": {},
   "source": [
    "# Copy() function"
   ]
  },
  {
   "cell_type": "code",
   "execution_count": 25,
   "id": "52c3bafc",
   "metadata": {},
   "outputs": [
    {
     "name": "stdout",
     "output_type": "stream",
     "text": [
      "{'family': 'music', 'type': 'pop', 'year': '2022', 'name': 'Happy new year'}\n",
      "{'family': 'music', 'type': 'pop', 'year': '2022', 'name': 'Happy new year'}\n"
     ]
    }
   ],
   "source": [
    "sample_original=dict(family='music',type='pop',year='2022',name='Happy new year')\n",
    "#print(sample_original)\n",
    "\n",
    "\n",
    "sample_copy=sample_original.copy()\n",
    "print(sample_original)\n",
    "print(sample_copy)"
   ]
  },
  {
   "cell_type": "code",
   "execution_count": 26,
   "id": "46569966",
   "metadata": {},
   "outputs": [
    {
     "name": "stdout",
     "output_type": "stream",
     "text": [
      "{'family': 'music', 'type': 'pop', 'year': '2022', 'name': 'Happy new year'}\n",
      "{'family': 'music', 'type': 'pop', 'year': '2022', 'name': 'Happy new year'}\n"
     ]
    }
   ],
   "source": [
    "sample_copy=sample_original\n",
    "print(sample_copy)\n",
    "print(sample_original)"
   ]
  },
  {
   "cell_type": "markdown",
   "id": "8e5eb75f",
   "metadata": {},
   "source": [
    "# pop() function\n",
    "\n",
    " * This function is used to remove a specific item from the dictionary\n",
    " "
   ]
  },
  {
   "cell_type": "code",
   "execution_count": 27,
   "id": "2db39840",
   "metadata": {},
   "outputs": [
    {
     "data": {
      "text/plain": [
       "{'family': 'music', 'type': 'pop', 'year': '2022', 'name': 'Happy new year'}"
      ]
     },
     "execution_count": 27,
     "metadata": {},
     "output_type": "execute_result"
    }
   ],
   "source": [
    "sample_original"
   ]
  },
  {
   "cell_type": "code",
   "execution_count": 28,
   "id": "f029d5d7",
   "metadata": {},
   "outputs": [
    {
     "name": "stdout",
     "output_type": "stream",
     "text": [
      "pop\n",
      "{'family': 'music', 'year': '2022', 'name': 'Happy new year'}\n"
     ]
    }
   ],
   "source": [
    "print(sample_original.pop('type'))\n",
    "print(sample_original)"
   ]
  },
  {
   "cell_type": "code",
   "execution_count": 29,
   "id": "ae42347a",
   "metadata": {},
   "outputs": [
    {
     "ename": "TypeError",
     "evalue": "pop expected at least 1 argument, got 0",
     "output_type": "error",
     "traceback": [
      "\u001b[1;31m---------------------------------------------------------------------------\u001b[0m",
      "\u001b[1;31mTypeError\u001b[0m                                 Traceback (most recent call last)",
      "\u001b[1;32m~\\AppData\\Local\\Temp\\ipykernel_49192\\3781909773.py\u001b[0m in \u001b[0;36m<module>\u001b[1;34m\u001b[0m\n\u001b[1;32m----> 1\u001b[1;33m \u001b[0msample_original\u001b[0m\u001b[1;33m.\u001b[0m\u001b[0mpop\u001b[0m\u001b[1;33m(\u001b[0m\u001b[1;33m)\u001b[0m\u001b[1;33m\u001b[0m\u001b[1;33m\u001b[0m\u001b[0m\n\u001b[0m\u001b[0;32m      2\u001b[0m \u001b[0msample_original\u001b[0m\u001b[1;33m\u001b[0m\u001b[1;33m\u001b[0m\u001b[0m\n",
      "\u001b[1;31mTypeError\u001b[0m: pop expected at least 1 argument, got 0"
     ]
    }
   ],
   "source": [
    "sample_original.pop()\n",
    "sample_original"
   ]
  },
  {
   "cell_type": "markdown",
   "id": "ea83a457",
   "metadata": {},
   "source": [
    "# popitem() function\n",
    "\n",
    " * It is used to remove the abitrary items from the dictionary and return as a tuple"
   ]
  },
  {
   "cell_type": "code",
   "execution_count": 30,
   "id": "88ac3e52",
   "metadata": {},
   "outputs": [
    {
     "data": {
      "text/plain": [
       "{'family': 'music', 'year': '2022', 'name': 'Happy new year'}"
      ]
     },
     "execution_count": 30,
     "metadata": {},
     "output_type": "execute_result"
    }
   ],
   "source": [
    "sample_original"
   ]
  },
  {
   "cell_type": "code",
   "execution_count": 31,
   "id": "fb5e359e",
   "metadata": {},
   "outputs": [
    {
     "name": "stdout",
     "output_type": "stream",
     "text": [
      "('name', 'Happy new year')\n",
      "{'family': 'music', 'year': '2022'}\n"
     ]
    }
   ],
   "source": [
    "print(sample_original.popitem())\n",
    "print(sample_original)"
   ]
  },
  {
   "cell_type": "markdown",
   "id": "41e2627f",
   "metadata": {},
   "source": [
    "# update() function\n",
    "\n",
    "\n",
    " * It integrates a dictionary with another dictionary or with an iterable of key:value pairs."
   ]
  },
  {
   "cell_type": "code",
   "execution_count": 32,
   "id": "ad9a02bb",
   "metadata": {},
   "outputs": [
    {
     "data": {
      "text/plain": [
       "{'oil': 'Hare & Care, Almonds, Mamaearth, Parasuit',\n",
       " 'Biscuit': 'Parle-G, Gooday,Marie,Oreo,50-50,20-20',\n",
       " 'Laptop': 'Hp,Dell,Asus,Acer,MacBook,I-ball'}"
      ]
     },
     "execution_count": 32,
     "metadata": {},
     "output_type": "execute_result"
    }
   ],
   "source": [
    "product = {'oil':'Hare & Care, Almonds, Mamaearth, Parasuit',\n",
    "          'Biscuit':'Parle-G, Gooday,Marie,Oreo,50-50,20-20',\n",
    "          'Laptop':'Hp,Dell,Asus,Acer,MacBook,I-ball'}\n",
    "product"
   ]
  },
  {
   "cell_type": "code",
   "execution_count": 35,
   "id": "f76cfc66",
   "metadata": {},
   "outputs": [
    {
     "name": "stdout",
     "output_type": "stream",
     "text": [
      "{'oil': 'Hare & Care, Almonds, Mamaearth, Parasuit', 'Biscuit': 'Parle-G, Gooday,Marie,Oreo,50-50,20-20', 'Laptop': 'Hp,Dell,Asus,Acer,MacBook,I-ball', 'family': 'music', 'year': '2022'}\n"
     ]
    }
   ],
   "source": [
    "sample_original\n",
    "product.update(sample_original)\n",
    "print(product)"
   ]
  },
  {
   "cell_type": "code",
   "execution_count": null,
   "id": "dfce2812",
   "metadata": {},
   "outputs": [],
   "source": []
  }
 ],
 "metadata": {
  "kernelspec": {
   "display_name": "Python 3 (ipykernel)",
   "language": "python",
   "name": "python3"
  },
  "language_info": {
   "codemirror_mode": {
    "name": "ipython",
    "version": 3
   },
   "file_extension": ".py",
   "mimetype": "text/x-python",
   "name": "python",
   "nbconvert_exporter": "python",
   "pygments_lexer": "ipython3",
   "version": "3.9.13"
  }
 },
 "nbformat": 4,
 "nbformat_minor": 5
}
