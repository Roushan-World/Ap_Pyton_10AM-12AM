{
 "cells": [
  {
   "cell_type": "markdown",
   "id": "32f0e67e",
   "metadata": {},
   "source": [
    "# 6. Dictionaries in Python\n",
    "\n",
    " * Dictionaries are used to store data values in Kye:Values pairs.\n",
    " * A dicitonary is a collection which is ordered, changeable or mutable and do not allow duplicates.\n",
    " * Dictionary items are ordered, changeable, and does not allow duplicates.\n",
    " * Dictionary items are presented in key:value pairs, and can be referred to by using the key name.\n",
    " * Dictionary are changeable, meaning that we can change, add or remove items after the dictionary has been created.\n",
    " * Dicitionaries cannot have two items with the same key.\n",
    " * A dictionary can nested and can contain another dictionary.\n",
    " \n",
    " \n",
    "                         Keys-----------------------Values\n",
    "                         'name'--------------------> 'Bob'\n",
    "                         'age'---------------------> 45\n",
    "                         'job'---------------------> 'Backend Developer'\n",
    "                         'city'-------------------->'Pune'\n",
    "                         'email'------------------->'bob@hotmail.com'\n",
    "                         "
   ]
  },
  {
   "cell_type": "code",
   "execution_count": 1,
   "id": "235cbea8",
   "metadata": {},
   "outputs": [
    {
     "data": {
      "text/plain": [
       "{'key_1': 3.14,\n",
       " 'key_2': 1.618,\n",
       " 'key_3': True,\n",
       " 'key_4': [3.14, 1.618],\n",
       " 'key_5': (3.14, 1.618),\n",
       " 'key_6': 'Vaishnav'}"
      ]
     },
     "execution_count": 1,
     "metadata": {},
     "output_type": "execute_result"
    }
   ],
   "source": [
    "# Take a sample dictionary\n",
    "\n",
    "sample_dict={'key_1':3.14,'key_2':1.618,\n",
    "            'key_3':True,'key_4':[3.14,1.618],\n",
    "            'key_5':(3.14,1.618),'key_6':'Vaishnav'}\n",
    "\n",
    "sample_dict"
   ]
  },
  {
   "cell_type": "code",
   "execution_count": 2,
   "id": "2509ef00",
   "metadata": {},
   "outputs": [
    {
     "name": "stdout",
     "output_type": "stream",
     "text": [
      "3.14\n"
     ]
    }
   ],
   "source": [
    "print(sample_dict['key_1'])\n",
    "print(sa)"
   ]
  },
  {
   "cell_type": "code",
   "execution_count": null,
   "id": "a11bcee9",
   "metadata": {},
   "outputs": [],
   "source": []
  }
 ],
 "metadata": {
  "kernelspec": {
   "display_name": "Python 3 (ipykernel)",
   "language": "python",
   "name": "python3"
  },
  "language_info": {
   "codemirror_mode": {
    "name": "ipython",
    "version": 3
   },
   "file_extension": ".py",
   "mimetype": "text/x-python",
   "name": "python",
   "nbconvert_exporter": "python",
   "pygments_lexer": "ipython3",
   "version": "3.9.13"
  }
 },
 "nbformat": 4,
 "nbformat_minor": 5
}
