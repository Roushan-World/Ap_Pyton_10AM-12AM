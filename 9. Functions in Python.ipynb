{
 "cells": [
  {
   "cell_type": "markdown",
   "id": "dd8ba5e0",
   "metadata": {},
   "source": [
    "# 9. Functions in Python\n",
    "\n",
    " * In Python, a __function__ is a group of related statements that performs a specific task.\n",
    " \n",
    " * __Functions__ help break our program into smaller and modular chunks. As our program grows larger and larger, __functions__ make it more organized and manageable.\n",
    " \n",
    " * Furthermore, it avoids repetition and makes the code reusable.\n",
    " \n",
    " * There are two types of functions:\n",
    " \n",
    " * __Pre-defined functions__\n",
    " \n",
    " * __User defined functions__\n",
    " \n",
    " * In Python a __function__ is defined using the def keyword followed by the function __name__ and parentheses().\n",
    " \n",
    " * Keyword __def__ that marks the start of the function header.\n",
    " \n",
    " * A __function__ name to uniquely identify the __function.__\n",
    " \n",
    " * __Function__ naming follows the same rules of writing identifiers in Python.\n",
    " \n",
    " * Parameters (arguments) through which we pass values to a __function.__ They are optional.\n",
    " \n",
    " * A __colon (:)__ to mark the end of the __function__ header.\n",
    " \n",
    " * Optional documentation string (docstring) to describe what the function does.\n",
    " \n",
    " * One or more valid python statements that make up the __function__ body.\n",
    " \n",
    " * Statements must have the same indentation level (usually 4 spaces).\n",
    " \n",
    " * An optional return statement to return a vlaue from the function.\n",
    " "
   ]
  },
  {
   "cell_type": "markdown",
   "id": "27bc958e",
   "metadata": {},
   "source": [
    "def name(argument):\n",
    "\n",
    "        statement\n",
    "        \n",
    "        statement\n",
    "        \n",
    "        .........\n",
    "        \n",
    "        return value"
   ]
  },
  {
   "cell_type": "code",
   "execution_count": 7,
   "id": "65c27bb0",
   "metadata": {},
   "outputs": [
    {
     "data": {
      "text/plain": [
       "(120, 2, 80, 1.25)"
      ]
     },
     "execution_count": 7,
     "metadata": {},
     "output_type": "execute_result"
    }
   ],
   "source": [
    "def process(x):\n",
    "    y1=x+8+2+100\n",
    "    y2=x-8\n",
    "    y3=x*8\n",
    "    y4=x/8\n",
    "    return y1,y2,y3,y4\n",
    "\n",
    "process(10)\n",
    "    "
   ]
  },
  {
   "cell_type": "code",
   "execution_count": 8,
   "id": "e9487a86",
   "metadata": {},
   "outputs": [
    {
     "data": {
      "text/plain": [
       "(130, 12, 160, 2.5)"
      ]
     },
     "execution_count": 8,
     "metadata": {},
     "output_type": "execute_result"
    }
   ],
   "source": [
    "process(20)"
   ]
  },
  {
   "cell_type": "code",
   "execution_count": 10,
   "id": "a2a758a7",
   "metadata": {},
   "outputs": [
    {
     "data": {
      "text/plain": [
       "(210, 92, 800, 12.5)"
      ]
     },
     "execution_count": 10,
     "metadata": {},
     "output_type": "execute_result"
    }
   ],
   "source": [
    "process(100)"
   ]
  },
  {
   "cell_type": "code",
   "execution_count": 11,
   "id": "e421d477",
   "metadata": {},
   "outputs": [
    {
     "data": {
      "text/plain": [
       "(100, -18, -80, -1.25)"
      ]
     },
     "execution_count": 11,
     "metadata": {},
     "output_type": "execute_result"
    }
   ],
   "source": [
    "process(-10)"
   ]
  },
  {
   "cell_type": "code",
   "execution_count": 12,
   "id": "535b4d7a",
   "metadata": {},
   "outputs": [
    {
     "data": {
      "text/plain": [
       "(155, 37, 360, 5.625)"
      ]
     },
     "execution_count": 12,
     "metadata": {},
     "output_type": "execute_result"
    }
   ],
   "source": [
    "process(45)"
   ]
  },
  {
   "cell_type": "code",
   "execution_count": 13,
   "id": "e88fda40",
   "metadata": {},
   "outputs": [
    {
     "name": "stdout",
     "output_type": "stream",
     "text": [
      "Help on function process in module __main__:\n",
      "\n",
      "process(x)\n",
      "\n"
     ]
    }
   ],
   "source": [
    "help(process)"
   ]
  },
  {
   "cell_type": "code",
   "execution_count": 14,
   "id": "58d9bada",
   "metadata": {},
   "outputs": [
    {
     "data": {
      "text/plain": [
       "(113.14, -4.859999999999999, 25.12, 0.3925)"
      ]
     },
     "execution_count": 14,
     "metadata": {},
     "output_type": "execute_result"
    }
   ],
   "source": [
    "process(3.14)"
   ]
  },
  {
   "cell_type": "code",
   "execution_count": 15,
   "id": "fc8c4237",
   "metadata": {},
   "outputs": [
    {
     "data": {
      "text/plain": [
       "(200, 82, 720, 11.25)"
      ]
     },
     "execution_count": 15,
     "metadata": {},
     "output_type": "execute_result"
    }
   ],
   "source": [
    "process(90)"
   ]
  },
  {
   "cell_type": "code",
   "execution_count": 16,
   "id": "8d28c351",
   "metadata": {},
   "outputs": [
    {
     "name": "stdout",
     "output_type": "stream",
     "text": [
      "165\n"
     ]
    }
   ],
   "source": [
    "def mult(x,y):\n",
    "    z = 2*x+5*y+45\n",
    "    return z\n",
    "\n",
    "output=mult(10,20)\n",
    "print(output)"
   ]
  },
  {
   "cell_type": "code",
   "execution_count": 17,
   "id": "a7e0d569",
   "metadata": {},
   "outputs": [
    {
     "data": {
      "text/plain": [
       "(210, 92, 800, 12.5)"
      ]
     },
     "execution_count": 17,
     "metadata": {},
     "output_type": "execute_result"
    }
   ],
   "source": [
    "process(100)"
   ]
  },
  {
   "cell_type": "code",
   "execution_count": 18,
   "id": "bd0da800",
   "metadata": {},
   "outputs": [
    {
     "data": {
      "text/plain": [
       "140"
      ]
     },
     "execution_count": 18,
     "metadata": {},
     "output_type": "execute_result"
    }
   ],
   "source": [
    "mult(10,15)"
   ]
  },
  {
   "cell_type": "code",
   "execution_count": 19,
   "id": "d4e8c5e2",
   "metadata": {},
   "outputs": [
    {
     "data": {
      "text/plain": [
       "165"
      ]
     },
     "execution_count": 19,
     "metadata": {},
     "output_type": "execute_result"
    }
   ],
   "source": [
    "mult(10,20)"
   ]
  },
  {
   "cell_type": "code",
   "execution_count": 21,
   "id": "d5707805",
   "metadata": {},
   "outputs": [
    {
     "data": {
      "text/plain": [
       "(130, 12, 160, 2.5)"
      ]
     },
     "execution_count": 21,
     "metadata": {},
     "output_type": "execute_result"
    }
   ],
   "source": [
    "process(20)"
   ]
  },
  {
   "cell_type": "markdown",
   "id": "82060094",
   "metadata": {},
   "source": [
    "# Variables\n",
    "\n",
    "\n",
    " * The input to a function is called a __formal parameter.__\n",
    " \n",
    " * A __variable__ that is declared inside a function is called a __local variabel.__\n",
    " \n",
    " * The parameter that is only exists within the function(i.e. the point where the function start and stops.)\n",
    " \n",
    " * A __variable__ that is declared outside a function definition is a __global variable__, and its value is accessible and \n",
    " modifiable thoughout the program."
   ]
  },
  {
   "cell_type": "code",
   "execution_count": 3,
   "id": "84494b04",
   "metadata": {},
   "outputs": [
    {
     "name": "stdout",
     "output_type": "stream",
     "text": [
      "If you make the above operations with 10, the result will be 35.08052.\n",
      "35.08052\n"
     ]
    }
   ],
   "source": [
    "\n",
    "def function(x):\n",
    "    y=3.14\n",
    "    z= 3*x+1.618*y\n",
    "    print(f'If you make the above operations with {x}, the result will be {z}.')\n",
    "    return z\n",
    "\n",
    "value=function(10)\n",
    "print(value)\n",
    "    "
   ]
  },
  {
   "cell_type": "code",
   "execution_count": 4,
   "id": "05f46db6",
   "metadata": {},
   "outputs": [
    {
     "name": "stdout",
     "output_type": "stream",
     "text": [
      "If you make the above operations with 3.14, the result will be 14.500520000000002.\n"
     ]
    }
   ],
   "source": [
    "# it starts the global variable:\n",
    "\n",
    "a = 3.14\n",
    "\n",
    "# call function and return function\n",
    "\n",
    "y=function(a)"
   ]
  },
  {
   "cell_type": "markdown",
   "id": "92c09fff",
   "metadata": {},
   "source": [
    "# Without return statement, the function returns None."
   ]
  },
  {
   "cell_type": "code",
   "execution_count": 6,
   "id": "d1d82a66",
   "metadata": {},
   "outputs": [
    {
     "name": "stdout",
     "output_type": "stream",
     "text": [
      "Hello, Python\n",
      "Hello, World\n"
     ]
    }
   ],
   "source": [
    "# Define a function with and without return statement.\n",
    "\n",
    "def msg1():\n",
    "    print('Hello, Python')\n",
    "    \n",
    "def msg2():\n",
    "    print('Hello, World')\n",
    "    return None\n",
    "msg1()\n",
    "msg2()"
   ]
  },
  {
   "cell_type": "code",
   "execution_count": 7,
   "id": "708a798a",
   "metadata": {},
   "outputs": [
    {
     "name": "stdout",
     "output_type": "stream",
     "text": [
      "Hello, Python\n",
      "None\n"
     ]
    }
   ],
   "source": [
    "print(msg1())"
   ]
  },
  {
   "cell_type": "code",
   "execution_count": 8,
   "id": "89adeca7",
   "metadata": {},
   "outputs": [
    {
     "name": "stdout",
     "output_type": "stream",
     "text": [
      "Hello, World\n",
      "None\n"
     ]
    }
   ],
   "source": [
    "print(msg2())"
   ]
  },
  {
   "cell_type": "markdown",
   "id": "e94fc796",
   "metadata": {},
   "source": [
    "# Concatenation of two strings."
   ]
  },
  {
   "cell_type": "code",
   "execution_count": 9,
   "id": "84bc31d4",
   "metadata": {},
   "outputs": [
    {
     "data": {
      "text/plain": [
       "'Amit Khale'"
      ]
     },
     "execution_count": 9,
     "metadata": {},
     "output_type": "execute_result"
    }
   ],
   "source": [
    "# Define a function\n",
    "\n",
    "def strings(x,y):\n",
    "    return x+y\n",
    "\n",
    "strings('Amit ','Khale')"
   ]
  },
  {
   "cell_type": "code",
   "execution_count": 10,
   "id": "9ad5fea8",
   "metadata": {},
   "outputs": [
    {
     "data": {
      "text/plain": [
       "300"
      ]
     },
     "execution_count": 10,
     "metadata": {},
     "output_type": "execute_result"
    }
   ],
   "source": [
    "strings(100,200)"
   ]
  },
  {
   "cell_type": "code",
   "execution_count": 11,
   "id": "d3250060",
   "metadata": {},
   "outputs": [
    {
     "data": {
      "text/plain": [
       "300.76"
      ]
     },
     "execution_count": 11,
     "metadata": {},
     "output_type": "execute_result"
    }
   ],
   "source": [
    "strings(100.23,200.53)"
   ]
  },
  {
   "cell_type": "markdown",
   "id": "2d4dd915",
   "metadata": {},
   "source": [
    "# Predefined functions like print(), sum(), min(), max(), input()"
   ]
  },
  {
   "cell_type": "code",
   "execution_count": 12,
   "id": "a6ac41c0",
   "metadata": {},
   "outputs": [
    {
     "name": "stdout",
     "output_type": "stream",
     "text": [
      "[0.577, 1.618, 3.14, 1729, 6, 28, 37]\n"
     ]
    }
   ],
   "source": [
    "# print() is a build-in function.\n",
    "\n",
    "\n",
    "special_numbers=[0.577,1.618,3.14,1729,6,28,37]\n",
    "\n",
    "\n",
    "print(special_numbers)"
   ]
  },
  {
   "cell_type": "code",
   "execution_count": 14,
   "id": "7aa29471",
   "metadata": {},
   "outputs": [
    {
     "data": {
      "text/plain": [
       "1805.335"
      ]
     },
     "execution_count": 14,
     "metadata": {},
     "output_type": "execute_result"
    }
   ],
   "source": [
    "# The function sum() add all elements in a list or a tuple.\n",
    "sum(special_numbers)"
   ]
  },
  {
   "cell_type": "code",
   "execution_count": 15,
   "id": "0da2cd16",
   "metadata": {},
   "outputs": [
    {
     "data": {
      "text/plain": [
       "7"
      ]
     },
     "execution_count": 15,
     "metadata": {},
     "output_type": "execute_result"
    }
   ],
   "source": [
    "len(special_numbers)"
   ]
  },
  {
   "cell_type": "code",
   "execution_count": 16,
   "id": "7e6bfd89",
   "metadata": {},
   "outputs": [
    {
     "data": {
      "text/plain": [
       "0.577"
      ]
     },
     "execution_count": 16,
     "metadata": {},
     "output_type": "execute_result"
    }
   ],
   "source": [
    "min(special_numbers)"
   ]
  },
  {
   "cell_type": "code",
   "execution_count": 17,
   "id": "9188912e",
   "metadata": {},
   "outputs": [
    {
     "data": {
      "text/plain": [
       "1729"
      ]
     },
     "execution_count": 17,
     "metadata": {},
     "output_type": "execute_result"
    }
   ],
   "source": [
    "max(special_numbers)"
   ]
  },
  {
   "cell_type": "code",
   "execution_count": 26,
   "id": "1adf3aa1",
   "metadata": {},
   "outputs": [
    {
     "name": "stdout",
     "output_type": "stream",
     "text": [
      " You should not watch this movie with the rating value of 5.5\n",
      " Your should watch this movie with the rating value of 9.0\n"
     ]
    }
   ],
   "source": [
    "# Define a function adjusting the default value of the variable.\n",
    "\n",
    "\n",
    "def rating_value(rating=5.5):\n",
    "    if rating<=8:\n",
    "        return (f' You should not watch this movie with the rating value of {rating}')\n",
    "    \n",
    "    else:\n",
    "        return (f' Your should watch this movie with the rating value of {rating}')\n",
    "    \n",
    "    \n",
    "print(rating_value())\n",
    "print(rating_value(9.0))"
   ]
  },
  {
   "cell_type": "markdown",
   "id": "0adbe5ad",
   "metadata": {},
   "source": [
    "# Global variables\n",
    "\n",
    " __* Variables that are created outside of a function (as in all of the examples above) are known as global variables.__\n",
    " \n",
    " __* Global variables can be used by everyone, both inside and outside the functions.__"
   ]
  },
  {
   "cell_type": "code",
   "execution_count": 31,
   "id": "d6aeebe8",
   "metadata": {},
   "outputs": [
    {
     "name": "stdout",
     "output_type": "stream",
     "text": [
      "Python is a programming language\n",
      "0 is a programming language\n"
     ]
    }
   ],
   "source": [
    "# Define a function for a global variables.\n",
    "\n",
    "\n",
    "language= 'Python'\n",
    "\n",
    "def lang(language):\n",
    "    global_var=language\n",
    "    print(f'{language} is a programming language')\n",
    "    \n",
    "lang(language)\n",
    "lang(global_var)\n",
    "    "
   ]
  },
  {
   "cell_type": "code",
   "execution_count": 33,
   "id": "5cb6cc1c",
   "metadata": {},
   "outputs": [
    {
     "name": "stdout",
     "output_type": "stream",
     "text": [
      "Python is a programming language\n",
      "0 is a programming language\n"
     ]
    }
   ],
   "source": [
    "\n",
    "language= 'Python'\n",
    "\n",
    "def lang(language):\n",
    "    global_var1=language\n",
    "    print(f'{language} is a programming language')\n",
    "    \n",
    "lang(language)\n",
    "lang(global_var)"
   ]
  },
  {
   "cell_type": "code",
   "execution_count": 37,
   "id": "17708ec2",
   "metadata": {},
   "outputs": [
    {
     "name": "stdout",
     "output_type": "stream",
     "text": [
      "Python is a programming language\n",
      "Java is a programming language\n"
     ]
    }
   ],
   "source": [
    "language1= 'Python'\n",
    "\n",
    "def lang(language1):\n",
    "    global global_var1\n",
    "    global_var1='Java'\n",
    "    print(f'{language1} is a programming language')\n",
    "    \n",
    "lang(language1)\n",
    "lang(global_var1)"
   ]
  },
  {
   "cell_type": "markdown",
   "id": "6e1d6cbf",
   "metadata": {},
   "source": [
    "# Variables in functions\n",
    "\n",
    " * __The scope of a variable is the part of the program to which that varaiable is accessible.__\n",
    " * __Variables declared outside all the function definitions can be accessed from anywhere in the program.__\n",
    " * __Consequently, such variables are said to have global scope and are known as global variables.__"
   ]
  },
  {
   "cell_type": "markdown",
   "id": "c1097b45",
   "metadata": {},
   "source": [
    "# Docstring in Functions"
   ]
  },
  {
   "cell_type": "code",
   "execution_count": 6,
   "id": "a12af721",
   "metadata": {},
   "outputs": [
    {
     "name": "stdout",
     "output_type": "stream",
     "text": [
      "The following functions return the sum of two parameters.\n",
      "Vaishnav Zalke\n"
     ]
    }
   ],
   "source": [
    "# Define a function\n",
    "y=0\n",
    "def addition(x,y):\n",
    "    '''The following functions return the sum of two parameters.'''\n",
    "    z=x+y\n",
    "    return z\n",
    "print(addition.__doc__)\n",
    "print(addition('Vaishnav ','Zalke'))"
   ]
  },
  {
   "cell_type": "code",
   "execution_count": 4,
   "id": "929de419",
   "metadata": {},
   "outputs": [
    {
     "data": {
      "text/plain": [
       "300"
      ]
     },
     "execution_count": 4,
     "metadata": {},
     "output_type": "execute_result"
    }
   ],
   "source": [
    "addition(100,200)"
   ]
  },
  {
   "cell_type": "code",
   "execution_count": 23,
   "id": "364f5ce6",
   "metadata": {},
   "outputs": [
    {
     "name": "stdout",
     "output_type": "stream",
     "text": [
      "The value is: 6\n"
     ]
    }
   ],
   "source": [
    "# Calculate the factorial of a certain number:\n",
    "\n",
    "def factorial(number):\n",
    "    if number==0:\n",
    "        r=0\n",
    "        return 1\n",
    "    else:\n",
    "        return number*factorial(number-1)\n",
    "print('The value is:',factorial(3))"
   ]
  },
  {
   "cell_type": "code",
   "execution_count": 25,
   "id": "55b9c9a0",
   "metadata": {},
   "outputs": [
    {
     "name": "stdout",
     "output_type": "stream",
     "text": [
      "The sum of the first ten number is: 55\n"
     ]
    }
   ],
   "source": [
    "# Define a function that gives the total of the number first to ten numbers.\n",
    "\n",
    "def total_number(number,sum):\n",
    "    if number==11:\n",
    "        return sum\n",
    "    else:\n",
    "        return total_number(number+1,sum+number)\n",
    "print('The sum of the first ten number is:',total_number(1,0))"
   ]
  },
  {
   "cell_type": "code",
   "execution_count": 27,
   "id": "2680e2d4",
   "metadata": {},
   "outputs": [
    {
     "name": "stdout",
     "output_type": "stream",
     "text": [
      "100 ------------> 101\n"
     ]
    }
   ],
   "source": [
    "# Define a function that add a number to another number.\n",
    "\n",
    "def added_num(num1):\n",
    "    def incremented_num(num1):\n",
    "        num1=num1+1\n",
    "        return num1\n",
    "    num2=incremented_num(num1)\n",
    "    print(num1,'------------>',num2)\n",
    "added_num(100)"
   ]
  },
  {
   "cell_type": "code",
   "execution_count": 29,
   "id": "2d9f8b87",
   "metadata": {},
   "outputs": [
    {
     "name": "stdout",
     "output_type": "stream",
     "text": [
      "Enter your name:\n",
      "Vaishnav\n",
      "Welcome Vaishnav\n"
     ]
    }
   ],
   "source": [
    "# Define a function giving a message. Welcome Vaishnav\n",
    "\n",
    "def function(name):\n",
    "    msg='Welcome '+name\n",
    "    return msg\n",
    "name=input('Enter your name:\\n')\n",
    "print(function(name))"
   ]
  },
  {
   "cell_type": "code",
   "execution_count": 32,
   "id": "68ae6a29",
   "metadata": {},
   "outputs": [
    {
     "name": "stdout",
     "output_type": "stream",
     "text": [
      "1005\n"
     ]
    }
   ],
   "source": [
    "# Write a function to find the max of three numbers.\n",
    "\n",
    "def max_of_two(x,y):\n",
    "    if x>y:\n",
    "        return x\n",
    "    return y\n",
    "def max_of_three(x,y,z):\n",
    "    return max_of_two(x,max_of_two(y,z))\n",
    "print(max_of_three(1001,1005,200))"
   ]
  },
  {
   "cell_type": "code",
   "execution_count": null,
   "id": "55940197",
   "metadata": {},
   "outputs": [],
   "source": []
  }
 ],
 "metadata": {
  "kernelspec": {
   "display_name": "Python 3 (ipykernel)",
   "language": "python",
   "name": "python3"
  },
  "language_info": {
   "codemirror_mode": {
    "name": "ipython",
    "version": 3
   },
   "file_extension": ".py",
   "mimetype": "text/x-python",
   "name": "python",
   "nbconvert_exporter": "python",
   "pygments_lexer": "ipython3",
   "version": "3.9.13"
  }
 },
 "nbformat": 4,
 "nbformat_minor": 5
}
