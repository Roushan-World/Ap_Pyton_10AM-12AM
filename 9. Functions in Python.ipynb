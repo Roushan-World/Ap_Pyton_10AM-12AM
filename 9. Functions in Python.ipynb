{
 "cells": [
  {
   "cell_type": "markdown",
   "id": "dd8ba5e0",
   "metadata": {},
   "source": [
    "# 9. Functions in Python\n",
    "\n",
    " * In Python, a __function__ is a group of related statements that performs a specific task.\n",
    " \n",
    " * __Functions__ help break our program into smaller and modular chunks. As our program grows larger and larger, __functions__ make it more organized and manageable.\n",
    " \n",
    " * Furthermore, it avoids repetition and makes the code reusable.\n",
    " \n",
    " * There are two types of functions:\n",
    " \n",
    " * __Pre-defined functions__\n",
    " \n",
    " * __User defined functions__\n",
    " \n",
    " * In Python a __function__ is defined using the def keyword followed by the function __name__ and parentheses().\n",
    " \n",
    " * Keyword __def__ that marks the start of the function header.\n",
    " \n",
    " * A __function__ name to uniquely identify the __function.__\n",
    " \n",
    " * __Function__ naming follows the same rules of writing identifiers in Python.\n",
    " \n",
    " * Parameters (arguments) through which we pass values to a __function.__ They are optional.\n",
    " \n",
    " * A __colon (:)__ to mark the end of the __function__ header.\n",
    " \n",
    " * Optional documentation string (docstring) to describe what the function does.\n",
    " \n",
    " * One or more valid python statements that make up the __function__ body.\n",
    " \n",
    " * Statements must have the same indentation level (usually 4 spaces).\n",
    " \n",
    " * An optional return statement to return a vlaue from the function.\n",
    " "
   ]
  },
  {
   "cell_type": "markdown",
   "id": "27bc958e",
   "metadata": {},
   "source": [
    "def name(argument):\n",
    "\n",
    "        statement\n",
    "        \n",
    "        statement\n",
    "        \n",
    "        .........\n",
    "        \n",
    "        return value"
   ]
  },
  {
   "cell_type": "code",
   "execution_count": 7,
   "id": "65c27bb0",
   "metadata": {},
   "outputs": [
    {
     "data": {
      "text/plain": [
       "(120, 2, 80, 1.25)"
      ]
     },
     "execution_count": 7,
     "metadata": {},
     "output_type": "execute_result"
    }
   ],
   "source": [
    "def process(x):\n",
    "    y1=x+8+2+100\n",
    "    y2=x-8\n",
    "    y3=x*8\n",
    "    y4=x/8\n",
    "    return y1,y2,y3,y4\n",
    "\n",
    "process(10)\n",
    "    "
   ]
  },
  {
   "cell_type": "code",
   "execution_count": 8,
   "id": "e9487a86",
   "metadata": {},
   "outputs": [
    {
     "data": {
      "text/plain": [
       "(130, 12, 160, 2.5)"
      ]
     },
     "execution_count": 8,
     "metadata": {},
     "output_type": "execute_result"
    }
   ],
   "source": [
    "process(20)"
   ]
  },
  {
   "cell_type": "code",
   "execution_count": 10,
   "id": "a2a758a7",
   "metadata": {},
   "outputs": [
    {
     "data": {
      "text/plain": [
       "(210, 92, 800, 12.5)"
      ]
     },
     "execution_count": 10,
     "metadata": {},
     "output_type": "execute_result"
    }
   ],
   "source": [
    "process(100)"
   ]
  },
  {
   "cell_type": "code",
   "execution_count": 11,
   "id": "e421d477",
   "metadata": {},
   "outputs": [
    {
     "data": {
      "text/plain": [
       "(100, -18, -80, -1.25)"
      ]
     },
     "execution_count": 11,
     "metadata": {},
     "output_type": "execute_result"
    }
   ],
   "source": [
    "process(-10)"
   ]
  },
  {
   "cell_type": "code",
   "execution_count": 12,
   "id": "535b4d7a",
   "metadata": {},
   "outputs": [
    {
     "data": {
      "text/plain": [
       "(155, 37, 360, 5.625)"
      ]
     },
     "execution_count": 12,
     "metadata": {},
     "output_type": "execute_result"
    }
   ],
   "source": [
    "process(45)"
   ]
  },
  {
   "cell_type": "code",
   "execution_count": 13,
   "id": "e88fda40",
   "metadata": {},
   "outputs": [
    {
     "name": "stdout",
     "output_type": "stream",
     "text": [
      "Help on function process in module __main__:\n",
      "\n",
      "process(x)\n",
      "\n"
     ]
    }
   ],
   "source": [
    "help(process)"
   ]
  },
  {
   "cell_type": "code",
   "execution_count": 14,
   "id": "58d9bada",
   "metadata": {},
   "outputs": [
    {
     "data": {
      "text/plain": [
       "(113.14, -4.859999999999999, 25.12, 0.3925)"
      ]
     },
     "execution_count": 14,
     "metadata": {},
     "output_type": "execute_result"
    }
   ],
   "source": [
    "process(3.14)"
   ]
  },
  {
   "cell_type": "code",
   "execution_count": 15,
   "id": "fc8c4237",
   "metadata": {},
   "outputs": [
    {
     "data": {
      "text/plain": [
       "(200, 82, 720, 11.25)"
      ]
     },
     "execution_count": 15,
     "metadata": {},
     "output_type": "execute_result"
    }
   ],
   "source": [
    "process(90)"
   ]
  },
  {
   "cell_type": "code",
   "execution_count": 16,
   "id": "8d28c351",
   "metadata": {},
   "outputs": [
    {
     "name": "stdout",
     "output_type": "stream",
     "text": [
      "165\n"
     ]
    }
   ],
   "source": [
    "def mult(x,y):\n",
    "    z = 2*x+5*y+45\n",
    "    return z\n",
    "\n",
    "output=mult(10,20)\n",
    "print(output)"
   ]
  },
  {
   "cell_type": "code",
   "execution_count": 17,
   "id": "a7e0d569",
   "metadata": {},
   "outputs": [
    {
     "data": {
      "text/plain": [
       "(210, 92, 800, 12.5)"
      ]
     },
     "execution_count": 17,
     "metadata": {},
     "output_type": "execute_result"
    }
   ],
   "source": [
    "process(100)"
   ]
  },
  {
   "cell_type": "code",
   "execution_count": 18,
   "id": "bd0da800",
   "metadata": {},
   "outputs": [
    {
     "data": {
      "text/plain": [
       "140"
      ]
     },
     "execution_count": 18,
     "metadata": {},
     "output_type": "execute_result"
    }
   ],
   "source": [
    "mult(10,15)"
   ]
  },
  {
   "cell_type": "code",
   "execution_count": 19,
   "id": "d4e8c5e2",
   "metadata": {},
   "outputs": [
    {
     "data": {
      "text/plain": [
       "165"
      ]
     },
     "execution_count": 19,
     "metadata": {},
     "output_type": "execute_result"
    }
   ],
   "source": [
    "mult(10,20)"
   ]
  },
  {
   "cell_type": "code",
   "execution_count": 21,
   "id": "d5707805",
   "metadata": {},
   "outputs": [
    {
     "data": {
      "text/plain": [
       "(130, 12, 160, 2.5)"
      ]
     },
     "execution_count": 21,
     "metadata": {},
     "output_type": "execute_result"
    }
   ],
   "source": [
    "process(20)"
   ]
  },
  {
   "cell_type": "markdown",
   "id": "82060094",
   "metadata": {},
   "source": [
    "# Variables\n",
    "\n",
    "\n",
    " * The input to a function is called a __formal parameter.__\n",
    " \n",
    " * A __variable__ that is declared inside a function is called a __local variabel.__\n",
    " \n",
    " * The parameter that is only exists within the function(i.e. the point where the function start and stops.)\n",
    " \n",
    " * A __variable__ that is declared outside a function definition is a __global variable__, and its value is accessible and \n",
    " modifiable thoughout the program."
   ]
  },
  {
   "cell_type": "code",
   "execution_count": 27,
   "id": "84494b04",
   "metadata": {},
   "outputs": [
    {
     "name": "stdout",
     "output_type": "stream",
     "text": [
      "If you make the above operations with 10, the result will be 35.08052.\n",
      "35.08052\n"
     ]
    }
   ],
   "source": [
    "\n",
    "def function(x):\n",
    "    y=3.14\n",
    "    z= 3*x+1.618*y\n",
    "    print(f'If you make the above operations with {x}, the result will be {z}.')\n",
    "    return z\n",
    "\n",
    "value=function(10)\n",
    "print(value)\n",
    "    "
   ]
  },
  {
   "cell_type": "code",
   "execution_count": null,
   "id": "05f46db6",
   "metadata": {},
   "outputs": [],
   "source": []
  }
 ],
 "metadata": {
  "kernelspec": {
   "display_name": "Python 3 (ipykernel)",
   "language": "python",
   "name": "python3"
  },
  "language_info": {
   "codemirror_mode": {
    "name": "ipython",
    "version": 3
   },
   "file_extension": ".py",
   "mimetype": "text/x-python",
   "name": "python",
   "nbconvert_exporter": "python",
   "pygments_lexer": "ipython3",
   "version": "3.9.13"
  }
 },
 "nbformat": 4,
 "nbformat_minor": 5
}
