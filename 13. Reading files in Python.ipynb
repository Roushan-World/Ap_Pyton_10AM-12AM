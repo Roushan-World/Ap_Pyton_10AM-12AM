{
 "cells": [
  {
   "cell_type": "markdown",
   "id": "71f8eac9",
   "metadata": {},
   "source": [
    "# 13. Reading files in Python\n",
    "\n",
    "\n",
    " * __1. Frist, open a text file for reading by using the open() function.__\n",
    " * __2. Second, read text from the text file read(), readline(), or readlines() method of the file object.__\n",
    " * __3. Third, close the file close() method. This frees up resources and ensures consistency across different python version.__\n",
    " \n",
    " \n",
    " __Method__----------------------__Description__\n",
    " \n",
    " * __1. writeable():-> Returns whether the file can be written to or not.__\n",
    " * __2. readable():-> Reaturns whether the file stream can be read or not.__\n",
    " * __3. read():---> Returns the file content.__\n",
    " * __4. readline():--> Returns one line from the file.__\n",
    " * __5. write():--> writes the specified string to the file.__\n",
    " * __6. wirtelines():--> writes a list of strings to the file.__\n",
    " * __7. close():--> closes the file.__\n",
    " * __8. flush():--> Flushes the internal buffer.__\n",
    " * __9. seek():--> Changes the file position.__\n",
    " * __10. tell():--> Returns the current file.__\n",
    " * __11. truncate():--> Resize the file to a specifed.__"
   ]
  },
  {
   "cell_type": "code",
   "execution_count": 3,
   "id": "dafb4980",
   "metadata": {},
   "outputs": [
    {
     "data": {
      "text/plain": [
       "\"Mahendra Singh Dhoni (/mÉ™ËˆheÉªndrÉ™ ËˆsÉªÅ‹ dhÃ¦ËˆnÉª/ (listen); born 7 July 1981) is an Indian professional cricketer. He was captain of the Indian national team in limited-overs formats from 2007 to 2017 and in Test cricket from 2008 to 2014. Dhoni is widely considered one of the greatest cricket captains, wicket-keeper-batsman and finishers in the history of cricket.[a] He plays as a right-handed wicket-keeper-batsman and is known for his calm captaincy and his ability to finish matches in tight situations. He is also the current captain of Chennai Super Kings in the Indian Premier League.\\n\\nBorn in Ranchi, Bihar (now in Jharkhand),[8][9] His exceptional wicketkeeping skills allowed him to become the regular wicketkeeper at the Commando Cricket Club (1995â€“1998), he was picked for the 1997/98 season Vinoo Mankad Trophy Under-16 Championship, where he performed well.[10] From 2001 to 2003, He worked as a Travelling Ticket Examiner at Kharagpur railway station under South Eastern Railway in Midnapore, in West Bengal.[11][12] In Indian domestic cricket he played for Bihar and then for Jharkhand Cricket team. Dhoni's performance in the 2002â€“03 season included three half-centuries in the Ranji Trophy and a couple of half-centuries in the Deodhar Trophy, as he started gaining recognition for his lower-order contribution as well as hard-hitting batting style.\\n\\nDhoni made his ODI debut on 23 December 2004, against Bangladesh in Chittagong,[13] and played his first Test a year later against Sri Lanka.[14] He played his first T20I also a year later against South Africa.[15] In 2007, he took over the ODI captaincy from Rahul Dravid and he also selected as T20I captain of India in this year.[16] In 2008, he was selected as Test captain.[17] His captaincy record in Tests format was mixed, successfully leading India to a series win against New Zealand in 2008 and the Border-Gavaskar Trophy (home series in 2010 and 2013) against Australia.[18] In other formats, Dhoni is the first cricketer to be a winning captain of all three major ICC trophies, as under his captaincy, India won the 2007 ICC World Twenty20, the 2011 Cricket World Cup, and the 2013 ICC Champions Trophy, the most by any captain. He also led India to victory in the 2010 and 2016 Asia Cup. Additionally, under his leadership, India won the 2010 and 2011 ICC Test Mace and 2013 ICC ODI Championship. He has scored 17,266 runs in International Cricket (including 10,000 plus runs in ODI Internationals).\""
      ]
     },
     "execution_count": 3,
     "metadata": {},
     "output_type": "execute_result"
    }
   ],
   "source": [
    "# Reading the files.\n",
    "\n",
    "file_name='MSD.txt'\n",
    "\n",
    "file=open(file_name,'r')\n",
    "content=file.read()\n",
    "content"
   ]
  },
  {
   "cell_type": "code",
   "execution_count": 4,
   "id": "61300ccb",
   "metadata": {},
   "outputs": [
    {
     "name": "stdout",
     "output_type": "stream",
     "text": [
      "MSD.txt\n",
      "r\n",
      "Mahendra Singh Dhoni (/mÉ™ËˆheÉªndrÉ™ ËˆsÉªÅ‹ dhÃ¦ËˆnÉª/ (listen); born 7 July 1981) is an Indian professional cricketer. He was captain of the Indian national team in limited-overs formats from 2007 to 2017 and in Test cricket from 2008 to 2014. Dhoni is widely considered one of the greatest cricket captains, wicket-keeper-batsman and finishers in the history of cricket.[a] He plays as a right-handed wicket-keeper-batsman and is known for his calm captaincy and his ability to finish matches in tight situations. He is also the current captain of Chennai Super Kings in the Indian Premier League.\n",
      "\n",
      "Born in Ranchi, Bihar (now in Jharkhand),[8][9] His exceptional wicketkeeping skills allowed him to become the regular wicketkeeper at the Commando Cricket Club (1995â€“1998), he was picked for the 1997/98 season Vinoo Mankad Trophy Under-16 Championship, where he performed well.[10] From 2001 to 2003, He worked as a Travelling Ticket Examiner at Kharagpur railway station under South Eastern Railway in Midnapore, in West Bengal.[11][12] In Indian domestic cricket he played for Bihar and then for Jharkhand Cricket team. Dhoni's performance in the 2002â€“03 season included three half-centuries in the Ranji Trophy and a couple of half-centuries in the Deodhar Trophy, as he started gaining recognition for his lower-order contribution as well as hard-hitting batting style.\n",
      "\n",
      "Dhoni made his ODI debut on 23 December 2004, against Bangladesh in Chittagong,[13] and played his first Test a year later against Sri Lanka.[14] He played his first T20I also a year later against South Africa.[15] In 2007, he took over the ODI captaincy from Rahul Dravid and he also selected as T20I captain of India in this year.[16] In 2008, he was selected as Test captain.[17] His captaincy record in Tests format was mixed, successfully leading India to a series win against New Zealand in 2008 and the Border-Gavaskar Trophy (home series in 2010 and 2013) against Australia.[18] In other formats, Dhoni is the first cricketer to be a winning captain of all three major ICC trophies, as under his captaincy, India won the 2007 ICC World Twenty20, the 2011 Cricket World Cup, and the 2013 ICC Champions Trophy, the most by any captain. He also led India to victory in the 2010 and 2016 Asia Cup. Additionally, under his leadership, India won the 2010 and 2011 ICC Test Mace and 2013 ICC ODI Championship. He has scored 17,266 runs in International Cricket (including 10,000 plus runs in ODI Internationals).\n",
      "<class 'str'>\n"
     ]
    }
   ],
   "source": [
    "# printing the path of file.\n",
    "\n",
    "print(file.name)\n",
    "\n",
    "\n",
    "# printing the mode of file.\n",
    "print(file.mode)\n",
    "\n",
    "# printing the file with '\\n' as a new line.\n",
    "print(content)\n",
    "\n",
    "\n",
    "# printing the type of file.\n",
    "\n",
    "print(type(content))"
   ]
  },
  {
   "cell_type": "code",
   "execution_count": 5,
   "id": "c76a5f0e",
   "metadata": {},
   "outputs": [],
   "source": [
    "# close the file\n",
    "\n",
    "file.close()"
   ]
  },
  {
   "cell_type": "code",
   "execution_count": 6,
   "id": "362d1d52",
   "metadata": {},
   "outputs": [
    {
     "data": {
      "text/plain": [
       "True"
      ]
     },
     "execution_count": 6,
     "metadata": {},
     "output_type": "execute_result"
    }
   ],
   "source": [
    "# Verification of the file.\n",
    "file.closed"
   ]
  },
  {
   "cell_type": "code",
   "execution_count": 12,
   "id": "3c25e6d3",
   "metadata": {},
   "outputs": [
    {
     "name": "stdout",
     "output_type": "stream",
     "text": [
      "Mahendra Singh Dhoni\n",
      " (/mÉ™ËˆheÉªndrÉ™ Ëˆ\n",
      "sÉªÅ‹ dhÃ¦ËˆnÉª/ (li\n",
      "sten); born 7 July 1981) is an Indian professional cricketer. He was captain of the Indian national \n",
      "team in limited-overs formats from 2007 to 2017 and in Test cricket from 2008 to 2014. Dhoni is widely considered one of the greatest cricket captains\n"
     ]
    }
   ],
   "source": [
    "# Reading the 20 characters in the text file.\n",
    "\n",
    "with open(file_name,'r') as f:\n",
    "    print(f.read(20))\n",
    "    print(f.read(20))\n",
    "    print(f.read(20))\n",
    "    print(f.read(100))\n",
    "    print(f.read(150))\n",
    "    "
   ]
  },
  {
   "cell_type": "code",
   "execution_count": 14,
   "id": "2aec34b4",
   "metadata": {},
   "outputs": [
    {
     "name": "stdout",
     "output_type": "stream",
     "text": [
      "The first line is: Mahendra Singh Dhoni (/mÉ™ËˆheÉªndrÉ™ ËˆsÉªÅ‹ dhÃ¦ËˆnÉª/ (listen); born 7 July 1981) is an Indian professional cricketer. He was captain of the Indian national team in limited-overs formats from 2007 to 2017 and in Test cricket from 2008 to 2014. Dhoni is widely considered one of the greatest cricket captains, wicket-keeper-batsman and finishers in the history of cricket.[a] He plays as a right-handed wicket-keeper-batsman and is known for his calm captaincy and his ability to finish matches in tight situations. He is also the current captain of Chennai Super Kings in the Indian Premier League.\n",
      "\n"
     ]
    }
   ],
   "source": [
    "# Reading first line in the text file.\n",
    "\n",
    "with open(file_name,'r') as f:\n",
    "    print('The first line is:',f.readline())"
   ]
  },
  {
   "cell_type": "code",
   "execution_count": 17,
   "id": "482c8a44",
   "metadata": {},
   "outputs": [
    {
     "name": "stdout",
     "output_type": "stream",
     "text": [
      "Line number: 1 Mahendra Singh Dhoni (/mÉ™ËˆheÉªndrÉ™ ËˆsÉªÅ‹ dhÃ¦ËˆnÉª/ (listen); born 7 July 1981) is an Indian professional cricketer. He was captain of the Indian national team in limited-overs formats from 2007 to 2017 and in Test cricket from 2008 to 2014. Dhoni is widely considered one of the greatest cricket captains, wicket-keeper-batsman and finishers in the history of cricket.[a] He plays as a right-handed wicket-keeper-batsman and is known for his calm captaincy and his ability to finish matches in tight situations. He is also the current captain of Chennai Super Kings in the Indian Premier League.\n",
      "\n",
      "Line number: 2 \n",
      "\n",
      "Line number: 3 Born in Ranchi, Bihar (now in Jharkhand),[8][9] His exceptional wicketkeeping skills allowed him to become the regular wicketkeeper at the Commando Cricket Club (1995â€“1998), he was picked for the 1997/98 season Vinoo Mankad Trophy Under-16 Championship, where he performed well.[10] From 2001 to 2003, He worked as a Travelling Ticket Examiner at Kharagpur railway station under South Eastern Railway in Midnapore, in West Bengal.[11][12] In Indian domestic cricket he played for Bihar and then for Jharkhand Cricket team. Dhoni's performance in the 2002â€“03 season included three half-centuries in the Ranji Trophy and a couple of half-centuries in the Deodhar Trophy, as he started gaining recognition for his lower-order contribution as well as hard-hitting batting style.\n",
      "\n",
      "Line number: 4 \n",
      "\n",
      "Line number: 5 Dhoni made his ODI debut on 23 December 2004, against Bangladesh in Chittagong,[13] and played his first Test a year later against Sri Lanka.[14] He played his first T20I also a year later against South Africa.[15] In 2007, he took over the ODI captaincy from Rahul Dravid and he also selected as T20I captain of India in this year.[16] In 2008, he was selected as Test captain.[17] His captaincy record in Tests format was mixed, successfully leading India to a series win against New Zealand in 2008 and the Border-Gavaskar Trophy (home series in 2010 and 2013) against Australia.[18] In other formats, Dhoni is the first cricketer to be a winning captain of all three major ICC trophies, as under his captaincy, India won the 2007 ICC World Twenty20, the 2011 Cricket World Cup, and the 2013 ICC Champions Trophy, the most by any captain. He also led India to victory in the 2010 and 2016 Asia Cup. Additionally, under his leadership, India won the 2010 and 2011 ICC Test Mace and 2013 ICC ODI Championship. He has scored 17,266 runs in International Cricket (including 10,000 plus runs in ODI Internationals).\n"
     ]
    }
   ],
   "source": [
    "with open(file_name,'r') as f:\n",
    "    line_number=1\n",
    "    for line in f:\n",
    "        print('Line number:',str(line_number),line)\n",
    "        line_number+=1"
   ]
  },
  {
   "cell_type": "code",
   "execution_count": null,
   "id": "5597e60e",
   "metadata": {},
   "outputs": [],
   "source": []
  }
 ],
 "metadata": {
  "kernelspec": {
   "display_name": "Python 3 (ipykernel)",
   "language": "python",
   "name": "python3"
  },
  "language_info": {
   "codemirror_mode": {
    "name": "ipython",
    "version": 3
   },
   "file_extension": ".py",
   "mimetype": "text/x-python",
   "name": "python",
   "nbconvert_exporter": "python",
   "pygments_lexer": "ipython3",
   "version": "3.9.13"
  }
 },
 "nbformat": 4,
 "nbformat_minor": 5
}
