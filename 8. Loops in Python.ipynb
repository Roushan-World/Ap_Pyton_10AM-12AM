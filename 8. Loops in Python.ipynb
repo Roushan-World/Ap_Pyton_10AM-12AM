{
 "cells": [
  {
   "cell_type": "markdown",
   "id": "60e94bc0",
   "metadata": {},
   "source": [
    "# 8. Loops in Python\n",
    "\n",
    "\n",
    " * A __for__ loop is used for iterating over a sequence (that is either a list, a tuple, a dictionary, a set, or a string).\n",
    " * This is less like the __for__ keyword in other programming languages, and works more like an iterator method as found in other object-oriented programming languages.\n",
    " * With the __for__ loop we can execute a set of statements, once for each item in a list, tuple, set etc.\n",
    " * The __for__ loop we does not require an indexing variable to set beforehand.\n",
    " * Note: remember to increment i, or else the loop will continue forever.\n",
    " * The __while__ loop requires relevant variables to be ready, in this example we need to define an indexing variable, i, which we set to 1.\n",
    " \n",
    " \n",
    " \n",
    "# range() function\n",
    "  \n",
    "  * it is helpful to think of the range object as an ordered list.\n",
    "  * To loop through a set of code a specidied number of times, we can use the range() function.\n",
    "  * The range() function returns a sequence of numbers, starting from 0 by default, and increments by 1 (by default), and ends at a specified number."
   ]
  },
  {
   "cell_type": "code",
   "execution_count": 23,
   "id": "797c165c",
   "metadata": {},
   "outputs": [
    {
     "name": "stdout",
     "output_type": "stream",
     "text": [
      "range(0, 10)\n",
      "range(0, 20)\n",
      "range(5, 20)\n"
     ]
    }
   ],
   "source": [
    "print(range(0,10))\n",
    "print(range(20))\n",
    "print(range(5,20))\n"
   ]
  },
  {
   "cell_type": "markdown",
   "id": "6ac756f9",
   "metadata": {},
   "source": [
    "# for loop\n",
    "\n",
    " __The for loop enables you to execute a code block multiple times.__"
   ]
  },
  {
   "cell_type": "code",
   "execution_count": 4,
   "id": "535affec",
   "metadata": {},
   "outputs": [
    {
     "name": "stdout",
     "output_type": "stream",
     "text": [
      "2005\n",
      "2006\n",
      "2007\n",
      "2008\n",
      "2009\n",
      "2010\n"
     ]
    }
   ],
   "source": [
    "years=[2005,2006,2007,2008,2009,2010]\n",
    "\n",
    "for i in years:\n",
    "    print(i)\n"
   ]
  },
  {
   "cell_type": "code",
   "execution_count": 5,
   "id": "150730ef",
   "metadata": {},
   "outputs": [
    {
     "name": "stdout",
     "output_type": "stream",
     "text": [
      "2005\n",
      "2006\n",
      "2007\n",
      "2008\n",
      "2009\n",
      "2010\n"
     ]
    }
   ],
   "source": [
    "for sampada in years:\n",
    "    print(sampada)"
   ]
  },
  {
   "cell_type": "code",
   "execution_count": 6,
   "id": "ef35ac26",
   "metadata": {},
   "outputs": [
    {
     "name": "stdout",
     "output_type": "stream",
     "text": [
      "2005\n",
      "2006\n",
      "2007\n",
      "2008\n",
      "2009\n",
      "2010\n"
     ]
    }
   ],
   "source": [
    "for durgesh in years:\n",
    "    print(durgesh)"
   ]
  },
  {
   "cell_type": "code",
   "execution_count": 11,
   "id": "97de8729",
   "metadata": {},
   "outputs": [
    {
     "name": "stdout",
     "output_type": "stream",
     "text": [
      "0 . 2005\n",
      "1 . 2006\n",
      "2 . 2007\n",
      "3 . 2008\n",
      "4 . 2009\n",
      "5 . 2010\n"
     ]
    }
   ],
   "source": [
    "for i in range(len(years)):\n",
    "    print(i,'.',years[i])"
   ]
  },
  {
   "cell_type": "code",
   "execution_count": 14,
   "id": "8a307486",
   "metadata": {},
   "outputs": [
    {
     "name": "stdout",
     "output_type": "stream",
     "text": [
      "20\n",
      "21\n",
      "22\n",
      "23\n",
      "24\n",
      "25\n",
      "26\n",
      "27\n",
      "28\n",
      "29\n"
     ]
    }
   ],
   "source": [
    "for i in range(20,30):\n",
    "    print(i)"
   ]
  },
  {
   "cell_type": "code",
   "execution_count": 18,
   "id": "74f0c523",
   "metadata": {},
   "outputs": [
    {
     "name": "stdout",
     "output_type": "stream",
     "text": [
      "20\n",
      "22\n",
      "24\n",
      "26\n",
      "28\n",
      "30\n"
     ]
    }
   ],
   "source": [
    "for i in range(20,31,2):\n",
    "    print(i)"
   ]
  },
  {
   "cell_type": "code",
   "execution_count": 19,
   "id": "f6203e2b",
   "metadata": {},
   "outputs": [
    {
     "name": "stdout",
     "output_type": "stream",
     "text": [
      "['Python', 'javaScript', 'C', 'C++', 'PHP']\n"
     ]
    }
   ],
   "source": [
    "# Durgesh\n",
    "languages=['Python','javaScript','C','C++','PHP']\n",
    "\n",
    "print(languages)"
   ]
  },
  {
   "cell_type": "code",
   "execution_count": 21,
   "id": "5f38cce4",
   "metadata": {},
   "outputs": [
    {
     "name": "stdout",
     "output_type": "stream",
     "text": [
      "Python\n",
      "javaScript\n",
      "C\n",
      "C++\n",
      "PHP\n"
     ]
    }
   ],
   "source": [
    "for i in range(len(languages)):\n",
    "    print(languages[i])"
   ]
  },
  {
   "cell_type": "code",
   "execution_count": 22,
   "id": "007965a2",
   "metadata": {},
   "outputs": [
    {
     "name": "stdout",
     "output_type": "stream",
     "text": [
      "0 Python\n",
      "1 javaScript\n",
      "2 C\n",
      "3 C++\n",
      "4 PHP\n"
     ]
    }
   ],
   "source": [
    "for i in range(len(languages)):\n",
    "    print(i,languages[i])"
   ]
  },
  {
   "cell_type": "code",
   "execution_count": 24,
   "id": "383fa782",
   "metadata": {},
   "outputs": [
    {
     "name": "stdout",
     "output_type": "stream",
     "text": [
      "-10 10\n"
     ]
    }
   ],
   "source": [
    "# sampada\n",
    "print(-10,10)"
   ]
  },
  {
   "cell_type": "code",
   "execution_count": 25,
   "id": "58997cdf",
   "metadata": {},
   "outputs": [
    {
     "name": "stdout",
     "output_type": "stream",
     "text": [
      "-10\n",
      "-9\n",
      "-8\n",
      "-7\n",
      "-6\n",
      "-5\n",
      "-4\n",
      "-3\n",
      "-2\n",
      "-1\n",
      "0\n",
      "1\n",
      "2\n",
      "3\n",
      "4\n",
      "5\n",
      "6\n",
      "7\n",
      "8\n",
      "9\n",
      "10\n"
     ]
    }
   ],
   "source": [
    "for i in range(-10,11):\n",
    "    print(i)"
   ]
  },
  {
   "cell_type": "code",
   "execution_count": 34,
   "id": "18567cad",
   "metadata": {},
   "outputs": [
    {
     "name": "stdout",
     "output_type": "stream",
     "text": [
      "Enter any number:\n",
      "23\n",
      "23X1=23\n",
      "23X2=46\n",
      "23X3=69\n",
      "23X4=92\n",
      "23X5=115\n",
      "23X6=138\n",
      "23X7=161\n",
      "23X8=184\n",
      "23X9=207\n",
      "23X10=230\n"
     ]
    }
   ],
   "source": [
    "num1=int(input('Enter any number:\\n'))\n",
    "\n",
    "for i in range(1,11):\n",
    "    print('%dX%d=%d'%(num1,i,num1*i))"
   ]
  },
  {
   "cell_type": "markdown",
   "id": "5416c80b",
   "metadata": {},
   "source": [
    "# Addition and average calculation in for loop"
   ]
  },
  {
   "cell_type": "code",
   "execution_count": 44,
   "id": "b7ab3bb7",
   "metadata": {},
   "outputs": [
    {
     "data": {
      "text/plain": [
       "1879.52"
      ]
     },
     "execution_count": 44,
     "metadata": {},
     "output_type": "execute_result"
    }
   ],
   "source": [
    "# Vaishnav Pune\n",
    "# Take a list\n",
    "nlis=[0.577,2.178,3.147,1.618,1729,6,37,100]\n",
    "\n",
    "\n",
    "sum(nlis)"
   ]
  },
  {
   "cell_type": "code",
   "execution_count": 46,
   "id": "456e60de",
   "metadata": {},
   "outputs": [
    {
     "name": "stdout",
     "output_type": "stream",
     "text": [
      "Total value of the numbers in the list is: 1879.52\n",
      "The average value of the numbers in the list is: 234.94\n"
     ]
    }
   ],
   "source": [
    "count=0\n",
    "\n",
    "for i in nlis:\n",
    "    count+=i\n",
    "print('Total value of the numbers in the list is:',count)\n",
    "\n",
    "print('The average value of the numbers in the list is:',count/len(nlis))"
   ]
  },
  {
   "cell_type": "code",
   "execution_count": 47,
   "id": "bb20421a",
   "metadata": {},
   "outputs": [
    {
     "data": {
      "text/plain": [
       "234.94"
      ]
     },
     "execution_count": 47,
     "metadata": {},
     "output_type": "execute_result"
    }
   ],
   "source": [
    "1879.52/8"
   ]
  },
  {
   "cell_type": "code",
   "execution_count": 52,
   "id": "ec1e628c",
   "metadata": {},
   "outputs": [
    {
     "name": "stdout",
     "output_type": "stream",
     "text": [
      "1,2,3,4,5,These are number from 1 to 5.\n"
     ]
    }
   ],
   "source": [
    "# 1 to 5\n",
    "# 1,2,3,4,5\n",
    "\n",
    "for i in range(1,6):\n",
    "    print(i,end=',')\n",
    "else:\n",
    "    print('These are number from 1 to 5.')"
   ]
  },
  {
   "cell_type": "code",
   "execution_count": 53,
   "id": "13394774",
   "metadata": {},
   "outputs": [
    {
     "ename": "SyntaxError",
     "evalue": "invalid syntax (3670516319.py, line 1)",
     "output_type": "error",
     "traceback": [
      "\u001b[1;36m  File \u001b[1;32m\"C:\\Users\\Admin\\AppData\\Local\\Temp\\ipykernel_20824\\3670516319.py\"\u001b[1;36m, line \u001b[1;32m1\u001b[0m\n\u001b[1;33m    *\u001b[0m\n\u001b[1;37m     ^\u001b[0m\n\u001b[1;31mSyntaxError\u001b[0m\u001b[1;31m:\u001b[0m invalid syntax\n"
     ]
    }
   ],
   "source": [
    "print('*')\n",
    "print('**')\n",
    "***\n",
    "****\n",
    "*****\n",
    "******\n",
    "*******\n",
    "********\n",
    "*********\n"
   ]
  },
  {
   "cell_type": "markdown",
   "id": "ccdc0f44",
   "metadata": {},
   "source": [
    "# nested loop"
   ]
  },
  {
   "cell_type": "code",
   "execution_count": 61,
   "id": "57c63336",
   "metadata": {},
   "outputs": [
    {
     "name": "stdout",
     "output_type": "stream",
     "text": [
      "Enter any number:\n",
      "50\n",
      "\n",
      "+\n",
      "++\n",
      "+++\n",
      "++++\n",
      "+++++\n",
      "++++++\n",
      "+++++++\n",
      "++++++++\n",
      "+++++++++\n",
      "++++++++++\n",
      "+++++++++++\n",
      "++++++++++++\n",
      "+++++++++++++\n",
      "++++++++++++++\n",
      "+++++++++++++++\n",
      "++++++++++++++++\n",
      "+++++++++++++++++\n",
      "++++++++++++++++++\n",
      "+++++++++++++++++++\n",
      "++++++++++++++++++++\n",
      "+++++++++++++++++++++\n",
      "++++++++++++++++++++++\n",
      "+++++++++++++++++++++++\n",
      "++++++++++++++++++++++++\n",
      "+++++++++++++++++++++++++\n",
      "++++++++++++++++++++++++++\n",
      "+++++++++++++++++++++++++++\n",
      "++++++++++++++++++++++++++++\n",
      "+++++++++++++++++++++++++++++\n",
      "++++++++++++++++++++++++++++++\n",
      "+++++++++++++++++++++++++++++++\n",
      "++++++++++++++++++++++++++++++++\n",
      "+++++++++++++++++++++++++++++++++\n",
      "++++++++++++++++++++++++++++++++++\n",
      "+++++++++++++++++++++++++++++++++++\n",
      "++++++++++++++++++++++++++++++++++++\n",
      "+++++++++++++++++++++++++++++++++++++\n",
      "++++++++++++++++++++++++++++++++++++++\n",
      "+++++++++++++++++++++++++++++++++++++++\n",
      "++++++++++++++++++++++++++++++++++++++++\n",
      "+++++++++++++++++++++++++++++++++++++++++\n",
      "++++++++++++++++++++++++++++++++++++++++++\n",
      "+++++++++++++++++++++++++++++++++++++++++++\n",
      "++++++++++++++++++++++++++++++++++++++++++++\n",
      "+++++++++++++++++++++++++++++++++++++++++++++\n",
      "++++++++++++++++++++++++++++++++++++++++++++++\n",
      "+++++++++++++++++++++++++++++++++++++++++++++++\n",
      "++++++++++++++++++++++++++++++++++++++++++++++++\n",
      "+++++++++++++++++++++++++++++++++++++++++++++++++\n",
      "++++++++++++++++++++++++++++++++++++++++++++++++++"
     ]
    }
   ],
   "source": [
    "num=int(input('Enter any number:\\n'))\n",
    "\n",
    "i,j=0,0\n",
    "\n",
    "for i in range(0,num):\n",
    "    print()\n",
    "    for j in range(0,i+1):\n",
    "        print('+',end='')"
   ]
  },
  {
   "cell_type": "code",
   "execution_count": null,
   "id": "8e6842ff",
   "metadata": {},
   "outputs": [],
   "source": []
  }
 ],
 "metadata": {
  "kernelspec": {
   "display_name": "Python 3 (ipykernel)",
   "language": "python",
   "name": "python3"
  },
  "language_info": {
   "codemirror_mode": {
    "name": "ipython",
    "version": 3
   },
   "file_extension": ".py",
   "mimetype": "text/x-python",
   "name": "python",
   "nbconvert_exporter": "python",
   "pygments_lexer": "ipython3",
   "version": "3.9.13"
  }
 },
 "nbformat": 4,
 "nbformat_minor": 5
}
