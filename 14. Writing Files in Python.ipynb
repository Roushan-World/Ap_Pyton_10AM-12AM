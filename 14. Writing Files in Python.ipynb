{
 "cells": [
  {
   "cell_type": "markdown",
   "id": "5436db12",
   "metadata": {},
   "source": [
    "# 14. Writing Files in Python\n",
    "\n",
    "\n",
    " __To Write to a text file in Pyhton, you follow these steps:__\n",
    " \n",
    " * __First, open the text file for wiriting (or appending) using the open() functions.__\n",
    " * __Second, write to the text file using the write(), or writelines() method.__\n",
    " * __Third, close the file using close() method.__\n",
    " \n",
    " \n",
    "     * __Character :---------------> Functions.__\n",
    "\n",
    "     * __r -------------------------> Open file for reading only. Stats reading from beginning of file. This is default mode.__\n",
    "     * __rb-------------------------> Open a file for reading only. Starts reading from beginning of file.__\n",
    "     * __r+ ------------------------> Open file for reading and writing. File pointer placed at beginning of the file.__\n",
    "     * __W --------------------------> Open file for writing only. File pointer placed at beginning of the file. Overwrites existing file and creates a new one if it does not exists.__\n",
    "     * __wb -------------------------> Same as w but opens in binary mode.__\n",
    "     * __W+ -------------------------> same as w but allows to read from file.__\n",
    "     * __wb+ ------------------------> same as wb but also allows to read from file.__\n",
    "     * __a --------------------------> Open a file for appending. Starts writing at the end of the file. Creates a new file if file does not exist.__\n",
    "     * __ab -------------------------> Same as a but in binary format. Creates a new file it file does not exist.__\n",
    "     * __a+ -------------------------> Same as a but alos open for reading.__\n",
    "     * __ab+ ------------------------> same as ab but also open for reading.__"
   ]
  },
  {
   "cell_type": "code",
   "execution_count": null,
   "id": "a7b19a43",
   "metadata": {},
   "outputs": [],
   "source": []
  }
 ],
 "metadata": {
  "kernelspec": {
   "display_name": "Python 3 (ipykernel)",
   "language": "python",
   "name": "python3"
  },
  "language_info": {
   "codemirror_mode": {
    "name": "ipython",
    "version": 3
   },
   "file_extension": ".py",
   "mimetype": "text/x-python",
   "name": "python",
   "nbconvert_exporter": "python",
   "pygments_lexer": "ipython3",
   "version": "3.9.13"
  }
 },
 "nbformat": 4,
 "nbformat_minor": 5
}
