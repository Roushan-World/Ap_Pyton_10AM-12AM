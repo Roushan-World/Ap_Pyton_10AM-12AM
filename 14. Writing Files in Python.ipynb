{
 "cells": [
  {
   "cell_type": "markdown",
   "id": "5436db12",
   "metadata": {},
   "source": [
    "# 14. Writing Files in Python\n",
    "\n",
    "\n",
    " __To Write to a text file in Pyhton, you follow these steps:__\n",
    " \n",
    " * __First, open the text file for wiriting (or appending) using the open() functions.__\n",
    " * __Second, write to the text file using the write(), or writelines() method.__\n",
    " * __Third, close the file using close() method.__\n",
    " \n",
    " \n",
    "     * __Character :---------------> Functions.__\n",
    "\n",
    "     * __r -------------------------> Open file for reading only. Stats reading from beginning of file. This is default mode.__\n",
    "     * __rb-------------------------> Open a file for reading only. Starts reading from beginning of file.__\n",
    "     * __r+ ------------------------> Open file for reading and writing. File pointer placed at beginning of the file.__\n",
    "     * __W --------------------------> Open file for writing only. File pointer placed at beginning of the file. Overwrites existing file and creates a new one if it does not exists.__\n",
    "     * __wb -------------------------> Same as w but opens in binary mode.__\n",
    "     * __W+ -------------------------> same as w but allows to read from file.__\n",
    "     * __wb+ ------------------------> same as wb but also allows to read from file.__\n",
    "     * __a --------------------------> Open a file for appending. Starts writing at the end of the file. Creates a new file if file does not exist.__\n",
    "     * __ab -------------------------> Same as a but in binary format. Creates a new file it file does not exist.__\n",
    "     * __a+ -------------------------> Same as a but alos open for reading.__\n",
    "     * __ab+ ------------------------> same as ab but also open for reading.__"
   ]
  },
  {
   "cell_type": "code",
   "execution_count": 2,
   "id": "a7b19a43",
   "metadata": {},
   "outputs": [],
   "source": [
    "fname='Vaishnav.txt'\n",
    "with open(fname,'w') as f:\n",
    "    f.write('Myself Vaishnav Zalke.\\n')\n",
    "    f.write(\"I've done my BCA from Modern College.\\n\")\n",
    "    f.write(\"My age is 21yrs.\\n\")\n",
    "    f.write('My favourite color is White.')\n",
    "    "
   ]
  },
  {
   "cell_type": "code",
   "execution_count": 3,
   "id": "5b1a7671",
   "metadata": {},
   "outputs": [
    {
     "name": "stdout",
     "output_type": "stream",
     "text": [
      "Myself Vaishnav Zalke.\n",
      "I've done my BCA from Modern College.\n",
      "My age is 21yrs.\n",
      "My favourite color is White.\n"
     ]
    }
   ],
   "source": [
    "with open(fname,'r') as f:\n",
    "    content=f.read()\n",
    "    print(content)"
   ]
  },
  {
   "cell_type": "code",
   "execution_count": 4,
   "id": "7e7353a3",
   "metadata": {},
   "outputs": [],
   "source": [
    "fname='Vaishnav.ppt'\n",
    "with open(fname,'w') as f:\n",
    "    f.write('Myself Vaishnav Zalke.\\n')\n",
    "    f.write(\"I've done my BCA from Modern College.\\n\")\n",
    "    f.write(\"My age is 21yrs.\\n\")\n",
    "    f.write('My favourite color is White.')"
   ]
  },
  {
   "cell_type": "code",
   "execution_count": 5,
   "id": "c4e358c4",
   "metadata": {},
   "outputs": [],
   "source": [
    "fname='Vaishnav.xlsx'\n",
    "with open(fname,'w') as f:\n",
    "    f.write('Myself Vaishnav Zalke.\\n')\n",
    "    f.write(\"I've done my BCA from Modern College.\\n\")\n",
    "    f.write(\"My age is 21yrs.\\n\")\n",
    "    f.write('My favourite color is White.')"
   ]
  },
  {
   "cell_type": "code",
   "execution_count": 6,
   "id": "ab67e125",
   "metadata": {},
   "outputs": [],
   "source": [
    "fname='Vaishnav.docx'\n",
    "with open(fname,'w') as f:\n",
    "    f.write('Myself Vaishnav Zalke.\\n')\n",
    "    f.write(\"I've done my BCA from Modern College.\\n\")\n",
    "    f.write(\"My age is 21yrs.\\n\")\n",
    "    f.write('My favourite color is White.')"
   ]
  },
  {
   "cell_type": "code",
   "execution_count": 7,
   "id": "8cbaa6e1",
   "metadata": {},
   "outputs": [],
   "source": [
    "# Write a program to write essay on any pet animals(20 lines.) in txt file. display the output"
   ]
  },
  {
   "cell_type": "code",
   "execution_count": 8,
   "id": "0b5879f2",
   "metadata": {},
   "outputs": [
    {
     "name": "stdout",
     "output_type": "stream",
     "text": [
      "Enter your detailsMyself Vaishnav.\n",
      "Enter your detailsMy Qualification is BCA from Modern College.\n",
      "Enter your detailsI belong to Pune.\n",
      "Enter your detailsI am learning Python Language.\n",
      "Enter your detailsMy favorite color is White.\n",
      "Myself Vaishnav.\n",
      "\n",
      "My Qualification is BCA from Modern College.\n",
      "\n",
      "I belong to Pune.\n",
      "\n",
      "I am learning Python Language.\n",
      "\n",
      "My favorite color is White.\n",
      "\n"
     ]
    }
   ],
   "source": [
    "# Write the your self into a file using user input.\n",
    "\n",
    "fname=open(f'myself.txt','w')\n",
    "\n",
    "for i in range(5):\n",
    "    name=input('Enter your details')\n",
    "    fname.write(name)\n",
    "    fname.write('\\n')\n",
    "# OPEN THE FILE\n",
    "fname=open(r'myself.txt','r')\n",
    "for line in fname:\n",
    "    print(line)\n",
    "fname.close()"
   ]
  },
  {
   "cell_type": "code",
   "execution_count": null,
   "id": "2bf2425e",
   "metadata": {},
   "outputs": [],
   "source": []
  }
 ],
 "metadata": {
  "kernelspec": {
   "display_name": "Python 3 (ipykernel)",
   "language": "python",
   "name": "python3"
  },
  "language_info": {
   "codemirror_mode": {
    "name": "ipython",
    "version": 3
   },
   "file_extension": ".py",
   "mimetype": "text/x-python",
   "name": "python",
   "nbconvert_exporter": "python",
   "pygments_lexer": "ipython3",
   "version": "3.9.13"
  }
 },
 "nbformat": 4,
 "nbformat_minor": 5
}
