{
 "cells": [
  {
   "cell_type": "markdown",
   "id": "d6ed5aa6",
   "metadata": {},
   "source": [
    "# 3. Lists\n",
    "\n",
    " * Lists are ordered.\n",
    " * Lists can contain any arbitrary objects.\n",
    " * Lists elements can be accessed by index.\n",
    " * Lists can be nested to arbitrary depth.\n",
    " * Lists are mutable.\n",
    " * Lists are dynamic."
   ]
  },
  {
   "cell_type": "code",
   "execution_count": 11,
   "id": "64eb0cb2",
   "metadata": {},
   "outputs": [
    {
     "name": "stdout",
     "output_type": "stream",
     "text": [
      "['Python', 25, 2023]\n",
      "<class 'list'>\n",
      "<class 'int'>\n"
     ]
    }
   ],
   "source": [
    "# Creating a list\n",
    "\n",
    "x = ['Python',25,2023]\n",
    "print(x)\n",
    "print(type(x))\n",
    "print(type(x[1]))"
   ]
  },
  {
   "cell_type": "code",
   "execution_count": 4,
   "id": "cc34bdf0",
   "metadata": {},
   "outputs": [
    {
     "name": "stdout",
     "output_type": "stream",
     "text": [
      "['Python', 'Java', 'C', 'C++', 'R', 'Kotlin', 'Android']\n",
      "<class 'list'>\n"
     ]
    }
   ],
   "source": [
    "y = ['Python','Java','C','C++','R','Kotlin','Android']\n",
    "print(y)\n",
    "print(type(y))"
   ]
  },
  {
   "cell_type": "code",
   "execution_count": 9,
   "id": "55bb8fe2",
   "metadata": {},
   "outputs": [
    {
     "name": "stdout",
     "output_type": "stream",
     "text": [
      "<class 'str'>\n"
     ]
    }
   ],
   "source": [
    "print(type(y[0]))"
   ]
  },
  {
   "cell_type": "code",
   "execution_count": 18,
   "id": "05ddb0f1",
   "metadata": {},
   "outputs": [
    {
     "name": "stdout",
     "output_type": "stream",
     "text": [
      "Positive and Negative indexing of the first element: \n",
      " - Positive index: Vaishnav \n",
      " -  Negative index: Vaishnav\n",
      "Positive and Negative indexing of the first element: \n",
      " - Positive index: 1.618 \n",
      " -  Negative index: 1.618\n",
      "Positive and Negative indexing of the first element: \n",
      " - Positive index: 78 \n",
      " -  Negative index: 78\n",
      "Positive and Negative indexing of the first element: \n",
      " - Positive index: True \n",
      " -  Negative index: True\n",
      "Positive and Negative indexing of the first element: \n",
      " - Positive index: False \n",
      " -  Negative index: False\n"
     ]
    }
   ],
   "source": [
    "x = ['Vaishnav',1.618,78,True,False]\n",
    "\n",
    "print('Positive and Negative indexing of the first element: \\n - Positive index:',x[0],'\\n -  Negative index:', x[-5])\n",
    "print('Positive and Negative indexing of the first element: \\n - Positive index:',x[1],'\\n -  Negative index:', x[-4])\n",
    "print('Positive and Negative indexing of the first element: \\n - Positive index:',x[2],'\\n -  Negative index:', x[-3])\n",
    "print('Positive and Negative indexing of the first element: \\n - Positive index:',x[3],'\\n -  Negative index:', x[-2])\n",
    "print('Positive and Negative indexing of the first element: \\n - Positive index:',x[4],'\\n -  Negative index:', x[-1])"
   ]
  },
  {
   "cell_type": "code",
   "execution_count": 19,
   "id": "488e8083",
   "metadata": {},
   "outputs": [],
   "source": [
    "y = ['Python','Java','C','C++','R','Kotlin','Android']"
   ]
  },
  {
   "cell_type": "code",
   "execution_count": 20,
   "id": "ea9f27b3",
   "metadata": {},
   "outputs": [],
   "source": [
    "nlis=['Ram',2023,45.0,True,False,'1247']"
   ]
  },
  {
   "cell_type": "markdown",
   "id": "b852647b",
   "metadata": {},
   "source": [
    "# What can content a list?\n",
    "\n",
    " * String\n",
    " * Float\n",
    " * Integer\n",
    " * Boolean\n",
    " * Nested List\n",
    " * Nested Tuple\n",
    " * Other Data Structures"
   ]
  },
  {
   "cell_type": "code",
   "execution_count": 22,
   "id": "61e30e7b",
   "metadata": {},
   "outputs": [
    {
     "name": "stdout",
     "output_type": "stream",
     "text": [
      "['Python', 3.14, 2023, True, False, [1, 1, 2, 2, 3, 3, 4, 5, 5], ('Hello', 'python', 3.14, 2023)]\n"
     ]
    }
   ],
   "source": [
    "nlis = ['Python',3.14,2023,True,False,[1,1,2,2,3,3,4,5,5],('Hello','python',3.14,2023)]\n",
    "print(nlis)"
   ]
  },
  {
   "cell_type": "code",
   "execution_count": null,
   "id": "6e7e1e71",
   "metadata": {},
   "outputs": [],
   "source": []
  }
 ],
 "metadata": {
  "kernelspec": {
   "display_name": "Python 3 (ipykernel)",
   "language": "python",
   "name": "python3"
  },
  "language_info": {
   "codemirror_mode": {
    "name": "ipython",
    "version": 3
   },
   "file_extension": ".py",
   "mimetype": "text/x-python",
   "name": "python",
   "nbconvert_exporter": "python",
   "pygments_lexer": "ipython3",
   "version": "3.9.13"
  }
 },
 "nbformat": 4,
 "nbformat_minor": 5
}
