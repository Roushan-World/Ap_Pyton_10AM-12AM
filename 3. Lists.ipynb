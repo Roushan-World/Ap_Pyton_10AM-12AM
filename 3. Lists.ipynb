{
 "cells": [
  {
   "cell_type": "markdown",
   "id": "d6ed5aa6",
   "metadata": {},
   "source": [
    "# 3. Lists\n",
    "\n",
    " * Lists are ordered.\n",
    " * Lists can contain any arbitrary objects.\n",
    " * Lists elements can be accessed by index.\n",
    " * Lists can be nested to arbitrary depth.\n",
    " * Lists are mutable.\n",
    " * Lists are dynamic."
   ]
  },
  {
   "cell_type": "code",
   "execution_count": 11,
   "id": "64eb0cb2",
   "metadata": {},
   "outputs": [
    {
     "name": "stdout",
     "output_type": "stream",
     "text": [
      "['Python', 25, 2023]\n",
      "<class 'list'>\n",
      "<class 'int'>\n"
     ]
    }
   ],
   "source": [
    "# Creating a list\n",
    "\n",
    "x = ['Python',25,2023]\n",
    "print(x)\n",
    "print(type(x))\n",
    "print(type(x[1]))"
   ]
  },
  {
   "cell_type": "code",
   "execution_count": 1,
   "id": "cc34bdf0",
   "metadata": {},
   "outputs": [
    {
     "name": "stdout",
     "output_type": "stream",
     "text": [
      "['Python', 'Java', 'C', 'C++', 'R', 'Kotlin', 'Android']\n",
      "<class 'list'>\n",
      "<class 'str'>\n"
     ]
    }
   ],
   "source": [
    "y = ['Python','Java','C','C++','R','Kotlin','Android']\n",
    "print(y)\n",
    "print(type(y))\n",
    "print(type(y[1]))"
   ]
  },
  {
   "cell_type": "code",
   "execution_count": 9,
   "id": "55bb8fe2",
   "metadata": {},
   "outputs": [
    {
     "name": "stdout",
     "output_type": "stream",
     "text": [
      "<class 'str'>\n"
     ]
    }
   ],
   "source": [
    "print(type(y[0]))"
   ]
  },
  {
   "cell_type": "code",
   "execution_count": 18,
   "id": "05ddb0f1",
   "metadata": {},
   "outputs": [
    {
     "name": "stdout",
     "output_type": "stream",
     "text": [
      "Positive and Negative indexing of the first element: \n",
      " - Positive index: Vaishnav \n",
      " -  Negative index: Vaishnav\n",
      "Positive and Negative indexing of the first element: \n",
      " - Positive index: 1.618 \n",
      " -  Negative index: 1.618\n",
      "Positive and Negative indexing of the first element: \n",
      " - Positive index: 78 \n",
      " -  Negative index: 78\n",
      "Positive and Negative indexing of the first element: \n",
      " - Positive index: True \n",
      " -  Negative index: True\n",
      "Positive and Negative indexing of the first element: \n",
      " - Positive index: False \n",
      " -  Negative index: False\n"
     ]
    }
   ],
   "source": [
    "x = ['Vaishnav',1.618,78,True,False]\n",
    "\n",
    "print('Positive and Negative indexing of the first element: \\n - Positive index:',x[0],'\\n -  Negative index:', x[-5])\n",
    "print('Positive and Negative indexing of the first element: \\n - Positive index:',x[1],'\\n -  Negative index:', x[-4])\n",
    "print('Positive and Negative indexing of the first element: \\n - Positive index:',x[2],'\\n -  Negative index:', x[-3])\n",
    "print('Positive and Negative indexing of the first element: \\n - Positive index:',x[3],'\\n -  Negative index:', x[-2])\n",
    "print('Positive and Negative indexing of the first element: \\n - Positive index:',x[4],'\\n -  Negative index:', x[-1])"
   ]
  },
  {
   "cell_type": "code",
   "execution_count": 19,
   "id": "488e8083",
   "metadata": {},
   "outputs": [],
   "source": [
    "y = ['Python','Java','C','C++','R','Kotlin','Android']"
   ]
  },
  {
   "cell_type": "code",
   "execution_count": 20,
   "id": "ea9f27b3",
   "metadata": {},
   "outputs": [],
   "source": [
    "nlis=['Ram',2023,45.0,True,False,'1247']"
   ]
  },
  {
   "cell_type": "markdown",
   "id": "b852647b",
   "metadata": {},
   "source": [
    "# What can content a list?\n",
    "\n",
    " * String\n",
    " * Float\n",
    " * Integer\n",
    " * Boolean\n",
    " * Nested List\n",
    " * Nested Tuple\n",
    " * Other Data Structures"
   ]
  },
  {
   "cell_type": "code",
   "execution_count": 22,
   "id": "61e30e7b",
   "metadata": {},
   "outputs": [
    {
     "name": "stdout",
     "output_type": "stream",
     "text": [
      "['Python', 3.14, 2023, True, False, [1, 1, 2, 2, 3, 3, 4, 5, 5], ('Hello', 'python', 3.14, 2023)]\n"
     ]
    }
   ],
   "source": [
    "nlis = ['Python',3.14,2023,True,False,[1,1,2,2,3,3,4,5,5],('Hello','python',3.14,2023)]\n",
    "print(nlis)"
   ]
  },
  {
   "cell_type": "code",
   "execution_count": 2,
   "id": "6e7e1e71",
   "metadata": {},
   "outputs": [],
   "source": [
    "z= ['Hello World',78.6,55,True, False, 0, 0.0,['Python',55,2023],('Hello',45,True,False)]"
   ]
  },
  {
   "cell_type": "code",
   "execution_count": 3,
   "id": "b649ea95",
   "metadata": {},
   "outputs": [],
   "source": [
    "list1=['Hello','Python',145,26,478.0,0.45,('Hi','How',12.00,78),True,False,['Who','We',True,False]]"
   ]
  },
  {
   "cell_type": "code",
   "execution_count": 4,
   "id": "74e7ee67",
   "metadata": {},
   "outputs": [],
   "source": [
    "list2=[['Wow','Awasome',85,56,90.52,2000],('Ram',{1,2,3},'Python'),True,False,789.23,2023,{45,46,47}]"
   ]
  },
  {
   "cell_type": "code",
   "execution_count": 1,
   "id": "a53faa7b",
   "metadata": {},
   "outputs": [],
   "source": [
    "lis1=[\"Rice\", \"Chickpeas\", \"Pulses\", \"bread\", \"meat\",\"Milk\", \"Bacon\", \"Eggs\", \"Rice Cooker\", \"Sauce\",\"Chicken Pie\", \"Apple Pie\", \"Pudding\"]\n"
   ]
  },
  {
   "cell_type": "code",
   "execution_count": 3,
   "id": "adeb8106",
   "metadata": {},
   "outputs": [
    {
     "name": "stdout",
     "output_type": "stream",
     "text": [
      "Enter Your Name:Vaishnav\n",
      "Welcome Vaishnav\n"
     ]
    }
   ],
   "source": [
    "# Write a program to display welcome message with user name.\n",
    "\n",
    "x = input('Enter Your Name:')\n",
    "y = 'Welcome! '+ x\n",
    "print(y)"
   ]
  },
  {
   "cell_type": "code",
   "execution_count": 1,
   "id": "9b9f2cee",
   "metadata": {},
   "outputs": [],
   "source": [
    "# write a program to caluclate the operations to take three input from user and add two of them ane \n",
    "# last one is to subtract from all print the total.\n",
    "\n",
    "# Write a program to calculate the percentage of any input taken form the user.\n",
    "# Write the program to find the average calculation of user input number.\n",
    "# f\n"
   ]
  },
  {
   "cell_type": "markdown",
   "id": "2aac51df",
   "metadata": {},
   "source": [
    "# List operations"
   ]
  },
  {
   "cell_type": "code",
   "execution_count": 2,
   "id": "80c59986",
   "metadata": {},
   "outputs": [
    {
     "data": {
      "text/plain": [
       "['Python',\n",
       " 3.14,\n",
       " 2023,\n",
       " [1, 1, 2, 3, 5, 6, 78, 99, 45],\n",
       " ('Hello', 'Python', 3.14, 2023),\n",
       " True,\n",
       " False]"
      ]
     },
     "execution_count": 2,
     "metadata": {},
     "output_type": "execute_result"
    }
   ],
   "source": [
    "# Take a list\n",
    "\n",
    "nlis=['Python',3.14,2023,[1,1,2,3,5,6,78,99,45],('Hello','Python',3.14,2023),True,False]\n",
    "nlis"
   ]
  },
  {
   "cell_type": "markdown",
   "id": "0d01dcef",
   "metadata": {},
   "source": [
    "# Slicing"
   ]
  },
  {
   "cell_type": "code",
   "execution_count": 11,
   "id": "f492861f",
   "metadata": {},
   "outputs": [
    {
     "name": "stdout",
     "output_type": "stream",
     "text": [
      "['Python']\n",
      "<class 'str'>\n",
      "[3.14]\n"
     ]
    }
   ],
   "source": [
    "# Slicing of a list\n",
    "\n",
    "print(nlis[0:1])\n",
    "print(type(nlis[0]))\n",
    "print(nlis[1:2])"
   ]
  },
  {
   "cell_type": "code",
   "execution_count": 10,
   "id": "bf017fef",
   "metadata": {},
   "outputs": [
    {
     "name": "stdout",
     "output_type": "stream",
     "text": [
      "<class 'str'>\n",
      "<class 'float'>\n"
     ]
    }
   ],
   "source": [
    "print(type(nlis[0]))\n",
    "print(type(nlis[1]))"
   ]
  },
  {
   "cell_type": "markdown",
   "id": "62a0f1ba",
   "metadata": {},
   "source": [
    "# Extending the list\n",
    "\n",
    " * We use the extend() function to add a new element to the list.\n",
    " * With this function, we add more than one element to the list."
   ]
  },
  {
   "cell_type": "code",
   "execution_count": 12,
   "id": "6bed9667",
   "metadata": {},
   "outputs": [
    {
     "data": {
      "text/plain": [
       "['Python',\n",
       " 3.14,\n",
       " 2023,\n",
       " [1, 1, 2, 3, 5, 6, 78, 99, 45],\n",
       " ('Hello', 'Python', 3.14, 2023),\n",
       " 'Vaishnav',\n",
       " 7,\n",
       " 8]"
      ]
     },
     "execution_count": 12,
     "metadata": {},
     "output_type": "execute_result"
    }
   ],
   "source": [
    "nlis1=['Python',3.14,2023,[1,1,2,3,5,6,78,99,45],('Hello','Python',3.14,2023)]\n",
    "\n",
    "nlis1.extend(['Vaishnav',7,8])\n",
    "nlis1"
   ]
  },
  {
   "cell_type": "code",
   "execution_count": 20,
   "id": "57776811",
   "metadata": {},
   "outputs": [
    {
     "name": "stdout",
     "output_type": "stream",
     "text": [
      "Hello\n"
     ]
    }
   ],
   "source": [
    "print(nlis1[4][0])"
   ]
  },
  {
   "cell_type": "markdown",
   "id": "62c57c50",
   "metadata": {},
   "source": [
    "# append() method\n",
    "\n",
    " * As different from the extend() method, with the append() mehtod, we add only one element to the list.\n",
    " * You can see the difference by comparing the above and below codes."
   ]
  },
  {
   "cell_type": "code",
   "execution_count": 21,
   "id": "6af51a8e",
   "metadata": {},
   "outputs": [
    {
     "data": {
      "text/plain": [
       "['Python',\n",
       " 3.14,\n",
       " 2023,\n",
       " [1, 1, 2, 3, 5, 6, 78, 99, 45],\n",
       " ('Hello', 'Python', 3.14, 2023),\n",
       " ['Hello World', 1.618]]"
      ]
     },
     "execution_count": 21,
     "metadata": {},
     "output_type": "execute_result"
    }
   ],
   "source": [
    "nlis2=['Python',3.14,2023,[1,1,2,3,5,6,78,99,45],('Hello','Python',3.14,2023)]\n",
    "\n",
    "nlis2.append(['Hello World',1.618])\n",
    "nlis2"
   ]
  },
  {
   "cell_type": "markdown",
   "id": "2625b1f3",
   "metadata": {},
   "source": [
    "# len(), append(), index(), insert(), max(), min(), sum() functions"
   ]
  },
  {
   "cell_type": "code",
   "execution_count": 54,
   "id": "03b184eb",
   "metadata": {},
   "outputs": [
    {
     "name": "stdout",
     "output_type": "stream",
     "text": [
      "9\n",
      "[1, 2, 3, 4, 5, 6, 7, 8, 9, 500]\n",
      "1\n",
      "1\n",
      "[100, 1, 2, 3, 4, 5, 6, 7, 8, 9, 500]\n",
      "500\n",
      "1\n",
      "645\n"
     ]
    }
   ],
   "source": [
    "list1=[1,2,3,4,5,6,7,8,9]\n",
    "\n",
    "print(len(list1))\n",
    "\n",
    "list1.append(500)\n",
    "print(list1)\n",
    "\n",
    "print(list1.count(5))  # How many 5 are on the list1\n",
    "print(list1.index(2))  # What is the index number of the 2 in the list1\n",
    "list1.insert(0,100) # Add string '100' to the index 0. \n",
    "print(list1)\n",
    "\n",
    "print(max(list1)) # What is the maximum number in the list?\n",
    "print(min(list1)) # What is the minimum number in the list?\n",
    "print(sum(list1))"
   ]
  },
  {
   "cell_type": "code",
   "execution_count": 25,
   "id": "d47fc2a6",
   "metadata": {},
   "outputs": [
    {
     "name": "stdout",
     "output_type": "stream",
     "text": [
      "1193\n"
     ]
    }
   ],
   "source": [
    "x=\"Dhoni made his international debut in 2004. His talent with the bat came to the fore in an innings of 148 runs against Pakistan in his fifth international match. Within a year he joined the India Test team, where he quickly established himself with a century (100 or more runs in a single innings) against Pakistan. Despite his inexperience, Dhoni took over the captaincy of the one-day side in 2007 and led India to the Twenty20 (T20) world title. Series wins over Australia and Sri Lanka, among others, moved India to the top of the International Cricket Council (ICC) Test rankings for the first time in December 2009. Dhoni was honoured for his play with the ICC One Day International Player of the Year Award in 2008 and 2009. In the 2011 one-day World Cup, Dhoni's dashing innings of 91 not out—in front of a home crowd in Mumbai—paved the way for India’s victory over Sri Lanka in the final. He also led India to an appearance in the semifinals of the 2015 Cricket World Cup. Dhoni stopped serving as India’s captain in 2017, having led his country in 331 international matches, the most for a captain in the sport’s history. Three years later he retired from international competition.\"\n",
    "print(len(x))"
   ]
  },
  {
   "cell_type": "code",
   "execution_count": null,
   "id": "772ddf0b",
   "metadata": {},
   "outputs": [],
   "source": []
  }
 ],
 "metadata": {
  "kernelspec": {
   "display_name": "Python 3 (ipykernel)",
   "language": "python",
   "name": "python3"
  },
  "language_info": {
   "codemirror_mode": {
    "name": "ipython",
    "version": 3
   },
   "file_extension": ".py",
   "mimetype": "text/x-python",
   "name": "python",
   "nbconvert_exporter": "python",
   "pygments_lexer": "ipython3",
   "version": "3.9.13"
  }
 },
 "nbformat": 4,
 "nbformat_minor": 5
}
