{
 "cells": [
  {
   "cell_type": "markdown",
   "id": "d6ed5aa6",
   "metadata": {},
   "source": [
    "# 3. Lists\n",
    "\n",
    " * Lists are ordered.\n",
    " * Lists can contain any arbitrary objects.\n",
    " * Lists elements can be accessed by index.\n",
    " * Lists can be nested to arbitrary depth.\n",
    " * Lists are mutable.\n",
    " * Lists are dynamic."
   ]
  },
  {
   "cell_type": "code",
   "execution_count": 11,
   "id": "64eb0cb2",
   "metadata": {},
   "outputs": [
    {
     "name": "stdout",
     "output_type": "stream",
     "text": [
      "['Python', 25, 2023]\n",
      "<class 'list'>\n",
      "<class 'int'>\n"
     ]
    }
   ],
   "source": [
    "# Creating a list\n",
    "\n",
    "x = ['Python',25,2023]\n",
    "print(x)\n",
    "print(type(x))\n",
    "print(type(x[1]))"
   ]
  },
  {
   "cell_type": "code",
   "execution_count": 1,
   "id": "cc34bdf0",
   "metadata": {},
   "outputs": [
    {
     "name": "stdout",
     "output_type": "stream",
     "text": [
      "['Python', 'Java', 'C', 'C++', 'R', 'Kotlin', 'Android']\n",
      "<class 'list'>\n",
      "<class 'str'>\n"
     ]
    }
   ],
   "source": [
    "y = ['Python','Java','C','C++','R','Kotlin','Android']\n",
    "print(y)\n",
    "print(type(y))\n",
    "print(type(y[1]))"
   ]
  },
  {
   "cell_type": "code",
   "execution_count": 9,
   "id": "55bb8fe2",
   "metadata": {},
   "outputs": [
    {
     "name": "stdout",
     "output_type": "stream",
     "text": [
      "<class 'str'>\n"
     ]
    }
   ],
   "source": [
    "print(type(y[0]))"
   ]
  },
  {
   "cell_type": "code",
   "execution_count": 18,
   "id": "05ddb0f1",
   "metadata": {},
   "outputs": [
    {
     "name": "stdout",
     "output_type": "stream",
     "text": [
      "Positive and Negative indexing of the first element: \n",
      " - Positive index: Vaishnav \n",
      " -  Negative index: Vaishnav\n",
      "Positive and Negative indexing of the first element: \n",
      " - Positive index: 1.618 \n",
      " -  Negative index: 1.618\n",
      "Positive and Negative indexing of the first element: \n",
      " - Positive index: 78 \n",
      " -  Negative index: 78\n",
      "Positive and Negative indexing of the first element: \n",
      " - Positive index: True \n",
      " -  Negative index: True\n",
      "Positive and Negative indexing of the first element: \n",
      " - Positive index: False \n",
      " -  Negative index: False\n"
     ]
    }
   ],
   "source": [
    "x = ['Vaishnav',1.618,78,True,False]\n",
    "\n",
    "print('Positive and Negative indexing of the first element: \\n - Positive index:',x[0],'\\n -  Negative index:', x[-5])\n",
    "print('Positive and Negative indexing of the first element: \\n - Positive index:',x[1],'\\n -  Negative index:', x[-4])\n",
    "print('Positive and Negative indexing of the first element: \\n - Positive index:',x[2],'\\n -  Negative index:', x[-3])\n",
    "print('Positive and Negative indexing of the first element: \\n - Positive index:',x[3],'\\n -  Negative index:', x[-2])\n",
    "print('Positive and Negative indexing of the first element: \\n - Positive index:',x[4],'\\n -  Negative index:', x[-1])"
   ]
  },
  {
   "cell_type": "code",
   "execution_count": 19,
   "id": "488e8083",
   "metadata": {},
   "outputs": [],
   "source": [
    "y = ['Python','Java','C','C++','R','Kotlin','Android']"
   ]
  },
  {
   "cell_type": "code",
   "execution_count": 20,
   "id": "ea9f27b3",
   "metadata": {},
   "outputs": [],
   "source": [
    "nlis=['Ram',2023,45.0,True,False,'1247']"
   ]
  },
  {
   "cell_type": "markdown",
   "id": "b852647b",
   "metadata": {},
   "source": [
    "# What can content a list?\n",
    "\n",
    " * String\n",
    " * Float\n",
    " * Integer\n",
    " * Boolean\n",
    " * Nested List\n",
    " * Nested Tuple\n",
    " * Other Data Structures"
   ]
  },
  {
   "cell_type": "code",
   "execution_count": 22,
   "id": "61e30e7b",
   "metadata": {},
   "outputs": [
    {
     "name": "stdout",
     "output_type": "stream",
     "text": [
      "['Python', 3.14, 2023, True, False, [1, 1, 2, 2, 3, 3, 4, 5, 5], ('Hello', 'python', 3.14, 2023)]\n"
     ]
    }
   ],
   "source": [
    "nlis = ['Python',3.14,2023,True,False,[1,1,2,2,3,3,4,5,5],('Hello','python',3.14,2023)]\n",
    "print(nlis)"
   ]
  },
  {
   "cell_type": "code",
   "execution_count": 2,
   "id": "6e7e1e71",
   "metadata": {},
   "outputs": [],
   "source": [
    "z= ['Hello World',78.6,55,True, False, 0, 0.0,['Python',55,2023],('Hello',45,True,False)]"
   ]
  },
  {
   "cell_type": "code",
   "execution_count": 3,
   "id": "b649ea95",
   "metadata": {},
   "outputs": [],
   "source": [
    "list1=['Hello','Python',145,26,478.0,0.45,('Hi','How',12.00,78),True,False,['Who','We',True,False]]"
   ]
  },
  {
   "cell_type": "code",
   "execution_count": 4,
   "id": "74e7ee67",
   "metadata": {},
   "outputs": [],
   "source": [
    "list2=[['Wow','Awasome',85,56,90.52,2000],('Ram',{1,2,3},'Python'),True,False,789.23,2023,{45,46,47}]"
   ]
  },
  {
   "cell_type": "code",
   "execution_count": 1,
   "id": "a53faa7b",
   "metadata": {},
   "outputs": [],
   "source": [
    "lis1=[\"Rice\", \"Chickpeas\", \"Pulses\", \"bread\", \"meat\",\"Milk\", \"Bacon\", \"Eggs\", \"Rice Cooker\", \"Sauce\",\"Chicken Pie\", \"Apple Pie\", \"Pudding\"]\n"
   ]
  },
  {
   "cell_type": "code",
   "execution_count": 3,
   "id": "adeb8106",
   "metadata": {},
   "outputs": [
    {
     "name": "stdout",
     "output_type": "stream",
     "text": [
      "Enter Your Name:Vaishnav\n",
      "Welcome Vaishnav\n"
     ]
    }
   ],
   "source": [
    "# Write a program to display welcome message with user name.\n",
    "\n",
    "x = input('Enter Your Name:')\n",
    "y = 'Welcome! '+ x\n",
    "print(y)"
   ]
  },
  {
   "cell_type": "code",
   "execution_count": 1,
   "id": "9b9f2cee",
   "metadata": {},
   "outputs": [],
   "source": [
    "# write a program to caluclate the operations to take three input from user and add two of them ane \n",
    "# last one is to subtract from all print the total.\n",
    "\n",
    "# Write a program to calculate the percentage of any input taken form the user.\n",
    "# Write the program to find the average calculation of user input number.\n",
    "# f\n"
   ]
  },
  {
   "cell_type": "markdown",
   "id": "2aac51df",
   "metadata": {},
   "source": [
    "# List operations"
   ]
  },
  {
   "cell_type": "code",
   "execution_count": 2,
   "id": "80c59986",
   "metadata": {},
   "outputs": [
    {
     "data": {
      "text/plain": [
       "['Python',\n",
       " 3.14,\n",
       " 2023,\n",
       " [1, 1, 2, 3, 5, 6, 78, 99, 45],\n",
       " ('Hello', 'Python', 3.14, 2023),\n",
       " True,\n",
       " False]"
      ]
     },
     "execution_count": 2,
     "metadata": {},
     "output_type": "execute_result"
    }
   ],
   "source": [
    "# Take a list\n",
    "\n",
    "nlis=['Python',3.14,2023,[1,1,2,3,5,6,78,99,45],('Hello','Python',3.14,2023),True,False]\n",
    "nlis"
   ]
  },
  {
   "cell_type": "markdown",
   "id": "0d01dcef",
   "metadata": {},
   "source": [
    "# Slicing"
   ]
  },
  {
   "cell_type": "code",
   "execution_count": 11,
   "id": "f492861f",
   "metadata": {},
   "outputs": [
    {
     "name": "stdout",
     "output_type": "stream",
     "text": [
      "['Python']\n",
      "<class 'str'>\n",
      "[3.14]\n"
     ]
    }
   ],
   "source": [
    "# Slicing of a list\n",
    "\n",
    "print(nlis[0:1])\n",
    "print(type(nlis[0]))\n",
    "print(nlis[1:2])"
   ]
  },
  {
   "cell_type": "code",
   "execution_count": 10,
   "id": "bf017fef",
   "metadata": {},
   "outputs": [
    {
     "name": "stdout",
     "output_type": "stream",
     "text": [
      "<class 'str'>\n",
      "<class 'float'>\n"
     ]
    }
   ],
   "source": [
    "print(type(nlis[0]))\n",
    "print(type(nlis[1]))"
   ]
  },
  {
   "cell_type": "markdown",
   "id": "62a0f1ba",
   "metadata": {},
   "source": [
    "# Extending the list\n",
    "\n",
    " * We use the extend() function to add a new element to the list.\n",
    " * With this function, we add more than one element to the list."
   ]
  },
  {
   "cell_type": "code",
   "execution_count": 12,
   "id": "6bed9667",
   "metadata": {},
   "outputs": [
    {
     "data": {
      "text/plain": [
       "['Python',\n",
       " 3.14,\n",
       " 2023,\n",
       " [1, 1, 2, 3, 5, 6, 78, 99, 45],\n",
       " ('Hello', 'Python', 3.14, 2023),\n",
       " 'Vaishnav',\n",
       " 7,\n",
       " 8]"
      ]
     },
     "execution_count": 12,
     "metadata": {},
     "output_type": "execute_result"
    }
   ],
   "source": [
    "nlis1=['Python',3.14,2023,[1,1,2,3,5,6,78,99,45],('Hello','Python',3.14,2023)]\n",
    "\n",
    "nlis1.extend(['Vaishnav',7,8])\n",
    "nlis1"
   ]
  },
  {
   "cell_type": "code",
   "execution_count": 20,
   "id": "57776811",
   "metadata": {},
   "outputs": [
    {
     "name": "stdout",
     "output_type": "stream",
     "text": [
      "Hello\n"
     ]
    }
   ],
   "source": [
    "print(nlis1[4][0])"
   ]
  },
  {
   "cell_type": "markdown",
   "id": "62c57c50",
   "metadata": {},
   "source": [
    "# append() method\n",
    "\n",
    " * As different from the extend() method, with the append() mehtod, we add only one element to the list.\n",
    " * You can see the difference by comparing the above and below codes."
   ]
  },
  {
   "cell_type": "code",
   "execution_count": 21,
   "id": "6af51a8e",
   "metadata": {},
   "outputs": [
    {
     "data": {
      "text/plain": [
       "['Python',\n",
       " 3.14,\n",
       " 2023,\n",
       " [1, 1, 2, 3, 5, 6, 78, 99, 45],\n",
       " ('Hello', 'Python', 3.14, 2023),\n",
       " ['Hello World', 1.618]]"
      ]
     },
     "execution_count": 21,
     "metadata": {},
     "output_type": "execute_result"
    }
   ],
   "source": [
    "nlis2=['Python',3.14,2023,[1,1,2,3,5,6,78,99,45],('Hello','Python',3.14,2023)]\n",
    "\n",
    "nlis2.append(['Hello World',1.618])\n",
    "nlis2"
   ]
  },
  {
   "cell_type": "markdown",
   "id": "2625b1f3",
   "metadata": {},
   "source": [
    "# len(), append(), index(), insert(), max(), min(), sum() functions"
   ]
  },
  {
   "cell_type": "code",
   "execution_count": 54,
   "id": "03b184eb",
   "metadata": {},
   "outputs": [
    {
     "name": "stdout",
     "output_type": "stream",
     "text": [
      "9\n",
      "[1, 2, 3, 4, 5, 6, 7, 8, 9, 500]\n",
      "1\n",
      "1\n",
      "[100, 1, 2, 3, 4, 5, 6, 7, 8, 9, 500]\n",
      "500\n",
      "1\n",
      "645\n"
     ]
    }
   ],
   "source": [
    "list1=[1,2,3,4,5,6,7,8,9]\n",
    "\n",
    "print(len(list1))\n",
    "\n",
    "list1.append(500)\n",
    "print(list1)\n",
    "\n",
    "print(list1.count(5))  # How many 5 are on the list1\n",
    "print(list1.index(2))  # What is the index number of the 2 in the list1\n",
    "list1.insert(0,100) # Add string '100' to the index 0. \n",
    "print(list1)\n",
    "\n",
    "print(max(list1)) # What is the maximum number in the list?\n",
    "print(min(list1)) # What is the minimum number in the list?\n",
    "print(sum(list1))"
   ]
  },
  {
   "cell_type": "code",
   "execution_count": 25,
   "id": "d47fc2a6",
   "metadata": {},
   "outputs": [
    {
     "name": "stdout",
     "output_type": "stream",
     "text": [
      "1193\n"
     ]
    }
   ],
   "source": [
    "x=\"Dhoni made his international debut in 2004. His talent with the bat came to the fore in an innings of 148 runs against Pakistan in his fifth international match. Within a year he joined the India Test team, where he quickly established himself with a century (100 or more runs in a single innings) against Pakistan. Despite his inexperience, Dhoni took over the captaincy of the one-day side in 2007 and led India to the Twenty20 (T20) world title. Series wins over Australia and Sri Lanka, among others, moved India to the top of the International Cricket Council (ICC) Test rankings for the first time in December 2009. Dhoni was honoured for his play with the ICC One Day International Player of the Year Award in 2008 and 2009. In the 2011 one-day World Cup, Dhoni's dashing innings of 91 not out—in front of a home crowd in Mumbai—paved the way for India’s victory over Sri Lanka in the final. He also led India to an appearance in the semifinals of the 2015 Cricket World Cup. Dhoni stopped serving as India’s captain in 2017, having led his country in 331 international matches, the most for a captain in the sport’s history. Three years later he retired from international competition.\"\n",
    "print(len(x))"
   ]
  },
  {
   "cell_type": "markdown",
   "id": "973dcc66",
   "metadata": {},
   "source": [
    "# Changing the element of a list since it is mutable."
   ]
  },
  {
   "cell_type": "code",
   "execution_count": 6,
   "id": "691c429e",
   "metadata": {},
   "outputs": [
    {
     "name": "stdout",
     "output_type": "stream",
     "text": [
      "Before Changing: ['Python', 3.14, 2023, [1, 1, 2, 3, 5, 6, 78, 99, 45], ('Hello', 'Python', 3.14, 2023)]\n",
      "After Changing: ['Hello Python', 3.14, 2023, [1, 1, 2, 3, 5, 6, 78, 99, 45], ('Hello', 'Python', 3.14, 2023)]\n",
      "After Changing: ['Hello Python', 'Sampada', 2023, [1, 1, 2, 3, 5, 6, 78, 99, 45], ('Hello', 'Python', 3.14, 2023)]\n"
     ]
    }
   ],
   "source": [
    "nlis3=['Python',3.14,2023,[1,1,2,3,5,6,78,99,45],('Hello','Python',3.14,2023)]\n",
    "\n",
    "print('Before Changing:',nlis3)\n",
    "\n",
    "nlis3[0]='Hello Python'\n",
    "print('After Changing:',nlis3)\n",
    "\n",
    "nlis3[1]='Sampada'\n",
    "print('After Changing:',nlis3)\n"
   ]
  },
  {
   "cell_type": "code",
   "execution_count": 12,
   "id": "f34d8bd3",
   "metadata": {},
   "outputs": [
    {
     "name": "stdout",
     "output_type": "stream",
     "text": [
      "Before Changing: ['Python', 3.14, 2023, [1, 1, 2, 3, 5, 6, 78, 99, 45], ('Hello', 'Python', 3.14, 2023)]\n",
      "After Changing: ['Python', 3.14, 2023, [1, 1, 'Vaishnav', 3, 5, 6, 78, 99, 45], ('Hello', 'Python', 3.14, 2023)]\n"
     ]
    },
    {
     "ename": "TypeError",
     "evalue": "'tuple' object does not support item assignment",
     "output_type": "error",
     "traceback": [
      "\u001b[1;31m---------------------------------------------------------------------------\u001b[0m",
      "\u001b[1;31mTypeError\u001b[0m                                 Traceback (most recent call last)",
      "\u001b[1;32m~\\AppData\\Local\\Temp\\ipykernel_38332\\3225000418.py\u001b[0m in \u001b[0;36m<module>\u001b[1;34m\u001b[0m\n\u001b[0;32m      6\u001b[0m \u001b[0mprint\u001b[0m\u001b[1;33m(\u001b[0m\u001b[1;34m'After Changing:'\u001b[0m\u001b[1;33m,\u001b[0m\u001b[0mnlis3\u001b[0m\u001b[1;33m)\u001b[0m\u001b[1;33m\u001b[0m\u001b[1;33m\u001b[0m\u001b[0m\n\u001b[0;32m      7\u001b[0m \u001b[1;33m\u001b[0m\u001b[0m\n\u001b[1;32m----> 8\u001b[1;33m \u001b[0mnlis3\u001b[0m\u001b[1;33m[\u001b[0m\u001b[1;36m4\u001b[0m\u001b[1;33m]\u001b[0m\u001b[1;33m[\u001b[0m\u001b[1;36m0\u001b[0m\u001b[1;33m]\u001b[0m\u001b[1;33m=\u001b[0m\u001b[1;34m'Hello World'\u001b[0m\u001b[1;33m\u001b[0m\u001b[1;33m\u001b[0m\u001b[0m\n\u001b[0m\u001b[0;32m      9\u001b[0m \u001b[0mprint\u001b[0m\u001b[1;33m(\u001b[0m\u001b[1;34m'After Changing:'\u001b[0m\u001b[1;33m,\u001b[0m\u001b[0mnlis3\u001b[0m\u001b[1;33m)\u001b[0m\u001b[1;33m\u001b[0m\u001b[1;33m\u001b[0m\u001b[0m\n",
      "\u001b[1;31mTypeError\u001b[0m: 'tuple' object does not support item assignment"
     ]
    }
   ],
   "source": [
    "nlis3=['Python',3.14,2023,[1,1,2,3,5,6,78,99,45],('Hello','Python',3.14,2023)]\n",
    "\n",
    "print('Before Changing:',nlis3)\n",
    "\n",
    "nlis3[3][2]='Vaishnav'\n",
    "print('After Changing:',nlis3)\n",
    "\n",
    "nlis3[4][0]='Hello World'\n",
    "print('After Changing:',nlis3)"
   ]
  },
  {
   "cell_type": "markdown",
   "id": "ec08a1bb",
   "metadata": {},
   "source": [
    "# Deleting the element from the list using del() function."
   ]
  },
  {
   "cell_type": "code",
   "execution_count": 17,
   "id": "e5b373e0",
   "metadata": {},
   "outputs": [
    {
     "name": "stdout",
     "output_type": "stream",
     "text": [
      "Before Deleting: [[1, 1, 'Vaishnav', 3, 5, 6, 78, 99, 45], ('Hello', 'Python', 3.14, 2023)]\n",
      "After Deleting: [('Hello', 'Python', 3.14, 2023)]\n"
     ]
    }
   ],
   "source": [
    "print('Before Deleting:',nlis3)\n",
    "del(nlis3[0])\n",
    "print('After Deleting:',nlis3)\n"
   ]
  },
  {
   "cell_type": "code",
   "execution_count": 20,
   "id": "fa7da38e",
   "metadata": {},
   "outputs": [
    {
     "name": "stdout",
     "output_type": "stream",
     "text": [
      "Before Deleting: ['Python', 3.14, 2023, [1, 1, 2, 3, 5, 6, 78, 99, 45], ('Hello', 'Python', 3.14, 2023)]\n",
      "After Deleting ['Python', 3.14, 2023, [1, 2, 3, 5, 6, 78, 99, 45], ('Hello', 'Python', 3.14, 2023)]\n"
     ]
    }
   ],
   "source": [
    "nlis3=['Python',3.14,2023,[1,1,2,3,5,6,78,99,45],('Hello','Python',3.14,2023)]\n",
    "print('Before Deleting:',nlis3)\n",
    "del(nlis3[3][1])\n",
    "print('After Deleting',nlis3)"
   ]
  },
  {
   "cell_type": "code",
   "execution_count": 21,
   "id": "48b2f455",
   "metadata": {},
   "outputs": [
    {
     "ename": "TypeError",
     "evalue": "'tuple' object doesn't support item deletion",
     "output_type": "error",
     "traceback": [
      "\u001b[1;31m---------------------------------------------------------------------------\u001b[0m",
      "\u001b[1;31mTypeError\u001b[0m                                 Traceback (most recent call last)",
      "\u001b[1;32m~\\AppData\\Local\\Temp\\ipykernel_38332\\2327012861.py\u001b[0m in \u001b[0;36m<module>\u001b[1;34m\u001b[0m\n\u001b[1;32m----> 1\u001b[1;33m \u001b[1;32mdel\u001b[0m\u001b[1;33m(\u001b[0m\u001b[0mnlis3\u001b[0m\u001b[1;33m[\u001b[0m\u001b[1;36m4\u001b[0m\u001b[1;33m]\u001b[0m\u001b[1;33m[\u001b[0m\u001b[1;36m0\u001b[0m\u001b[1;33m]\u001b[0m\u001b[1;33m)\u001b[0m\u001b[1;33m\u001b[0m\u001b[1;33m\u001b[0m\u001b[0m\n\u001b[0m\u001b[0;32m      2\u001b[0m \u001b[0mprint\u001b[0m\u001b[1;33m(\u001b[0m\u001b[1;34m'After Deleting:'\u001b[0m\u001b[1;33m,\u001b[0m\u001b[0mnlis3\u001b[0m\u001b[1;33m)\u001b[0m\u001b[1;33m\u001b[0m\u001b[1;33m\u001b[0m\u001b[0m\n",
      "\u001b[1;31mTypeError\u001b[0m: 'tuple' object doesn't support item deletion"
     ]
    }
   ],
   "source": [
    "del(nlis3[4][0])\n",
    "print('After Deleting:',nlis3)"
   ]
  },
  {
   "cell_type": "code",
   "execution_count": 22,
   "id": "1efecc3a",
   "metadata": {},
   "outputs": [
    {
     "name": "stdout",
     "output_type": "stream",
     "text": [
      "After Deleting: ['Python', 3.14, 2023, [1, 2, 3, 5, 6, 78, 99, 45]]\n"
     ]
    }
   ],
   "source": [
    "del(nlis3[4])\n",
    "print('After Deleting:',nlis3)"
   ]
  },
  {
   "cell_type": "markdown",
   "id": "d5582b13",
   "metadata": {},
   "source": [
    "# Conversion of a string into a list using split() function."
   ]
  },
  {
   "cell_type": "code",
   "execution_count": 23,
   "id": "2003374d",
   "metadata": {},
   "outputs": [
    {
     "data": {
      "text/plain": [
       "['Python', 'is', 'a', 'programming', 'language']"
      ]
     },
     "execution_count": 23,
     "metadata": {},
     "output_type": "execute_result"
    }
   ],
   "source": [
    "message='Python is a programming language'\n",
    "message.split()"
   ]
  },
  {
   "cell_type": "markdown",
   "id": "58b2f53d",
   "metadata": {},
   "source": [
    "# Use of split() function with a delimiter."
   ]
  },
  {
   "cell_type": "code",
   "execution_count": 27,
   "id": "fbc8e4be",
   "metadata": {},
   "outputs": [
    {
     "data": {
      "text/plain": [
       "['p', 'y', 't', 'h', 'o', 'n']"
      ]
     },
     "execution_count": 27,
     "metadata": {},
     "output_type": "execute_result"
    }
   ],
   "source": [
    "text='p,y,t,h,o,n'\n",
    "text.split(',')"
   ]
  },
  {
   "cell_type": "markdown",
   "id": "76174959",
   "metadata": {},
   "source": [
    "# Basic operations"
   ]
  },
  {
   "cell_type": "code",
   "execution_count": 38,
   "id": "07c6759b",
   "metadata": {},
   "outputs": [
    {
     "name": "stdout",
     "output_type": "stream",
     "text": [
      "4\n",
      "6\n",
      "['a', 'b', 'Hello', 'Python', 1, 2, 3, 4, 5, 6]\n",
      "['a', 'b', 'Hello', 'Python', 'a', 'b', 'Hello', 'Python', 'a', 'b', 'Hello', 'Python']\n",
      "[1, 2, 3, 4, 5, 6, 1, 2, 3, 4, 5, 6, 1, 2, 3, 4, 5, 6]\n",
      "a\n",
      "b\n",
      "Hello\n",
      "Python\n",
      "False\n",
      "True\n"
     ]
    }
   ],
   "source": [
    "nlis_1=['a','b','Hello','Python']\n",
    "nlis_2=[1,2,3,4,5,6]\n",
    "print(len(nlis_1))\n",
    "print(len(nlis_2))\n",
    "print(nlis_1+nlis_2)\n",
    "print(nlis_1*3)\n",
    "print(nlis_2*3)\n",
    "for i in nlis_1:\n",
    "    print(i)\n",
    "    \n",
    "    \n",
    "print(4 in nlis_1)\n",
    "print(4 in nlis_2)\n"
   ]
  },
  {
   "cell_type": "code",
   "execution_count": 39,
   "id": "deb9941b",
   "metadata": {},
   "outputs": [
    {
     "name": "stdout",
     "output_type": "stream",
     "text": [
      "['a', 'b', 'Hello', 'Python', 1, 2, 3, 4, 5, 6, 'a', 'b', 'Hello', 'Python', 1, 2, 3, 4, 5, 6, 'a', 'b', 'Hello', 'Python', 1, 2, 3, 4, 5, 6]\n"
     ]
    }
   ],
   "source": [
    "print((nlis_1+nlis_2)*3)"
   ]
  },
  {
   "cell_type": "markdown",
   "id": "8831ce02",
   "metadata": {},
   "source": [
    "# Copy the list"
   ]
  },
  {
   "cell_type": "code",
   "execution_count": 41,
   "id": "cbf02a28",
   "metadata": {},
   "outputs": [
    {
     "name": "stdout",
     "output_type": "stream",
     "text": [
      "Original List ['a', 'b', 'Hello', 'Python']\n",
      "Copied List ['a', 'b', 'Hello', 'Python']\n"
     ]
    }
   ],
   "source": [
    "x=['a','b','Hello','Python']\n",
    "print('Original List',x)\n",
    "copy_list=x\n",
    "print('Copied List',copy_list)\n"
   ]
  },
  {
   "cell_type": "code",
   "execution_count": 45,
   "id": "05d79a15",
   "metadata": {},
   "outputs": [
    {
     "name": "stdout",
     "output_type": "stream",
     "text": [
      "['a', 'b', 'Hello', 'Python']\n",
      "['a', 'b', 'Hello', 'Python']\n",
      "copy_1[0]: a\n",
      "copy_1[0]: Hello Python\n"
     ]
    }
   ],
   "source": [
    "# The element in the copied list also changes when the element in the original list was changed.\n",
    "y=['a','b','Hello','Python']\n",
    "print(y)\n",
    "copy_1=y\n",
    "print(copy_1)\n",
    "\n",
    "print('copy_1[0]:',copy_1[0])\n",
    "y[0]='Hello Python'\n",
    "print('copy_1[0]:',copy_1[0])"
   ]
  },
  {
   "cell_type": "markdown",
   "id": "deb39ae4",
   "metadata": {},
   "source": [
    "# clone the list.\n"
   ]
  },
  {
   "cell_type": "code",
   "execution_count": 47,
   "id": "b1410068",
   "metadata": {},
   "outputs": [
    {
     "name": "stdout",
     "output_type": "stream",
     "text": [
      "['a', 'b', 'Hello', 'Python']\n",
      "['a', 'b', 'Hello', 'Python']\n"
     ]
    }
   ],
   "source": [
    "# The cloned list is a new copy or clone the original list.\n",
    "\n",
    "x=['a','b','Hello','Python']\n",
    "print(x)\n",
    "clone_lis=x[:]\n",
    "print(clone_lis)"
   ]
  },
  {
   "cell_type": "code",
   "execution_count": 53,
   "id": "494351e5",
   "metadata": {},
   "outputs": [
    {
     "name": "stdout",
     "output_type": "stream",
     "text": [
      "['a', 'b', 'Hello', 'Python']\n",
      "['a', 'b', 'Hello', 'Python']\n",
      "clone_list[0]: a\n",
      "['Hello World', 'b', 'Hello', 'Python']\n",
      "clone_list[0]: a\n"
     ]
    }
   ],
   "source": [
    "# When an element in the original list is changed, the element in the cloned list does not change.\n",
    "\n",
    "x=['a','b','Hello','Python']\n",
    "print(x)\n",
    "clone_lis=x[:]\n",
    "print(clone_lis)\n",
    "print('clone_list[0]:',clone_lis[0])\n",
    "x[0]='Hello World'\n",
    "print(x)\n",
    "print('clone_list[0]:',clone_lis[0])"
   ]
  },
  {
   "cell_type": "markdown",
   "id": "91e8c8be",
   "metadata": {},
   "source": [
    "# Concatenate the list\n",
    "\n"
   ]
  },
  {
   "cell_type": "code",
   "execution_count": 54,
   "id": "2cd7369b",
   "metadata": {},
   "outputs": [
    {
     "name": "stdout",
     "output_type": "stream",
     "text": [
      "['a', 'b', ['c', 'd'], 'e', 1, 2, 3, 4, 5, (6, 7), True, False]\n"
     ]
    }
   ],
   "source": [
    "a_list=['a','b',['c','d'],'e']\n",
    "b_list=[1,2,3,4,5,(6,7),True,False]\n",
    "\n",
    "new_list=a_list+b_list\n",
    "print(new_list)"
   ]
  },
  {
   "cell_type": "markdown",
   "id": "64679d74",
   "metadata": {},
   "source": [
    "# As different from the list, I also find the significant the following information.\n",
    "\n",
    "# input() function\n",
    " * input() function in Python provides a user of a program supply inputs to the program at runtime."
   ]
  },
  {
   "cell_type": "code",
   "execution_count": 2,
   "id": "59c9d3c2",
   "metadata": {},
   "outputs": [
    {
     "name": "stdout",
     "output_type": "stream",
     "text": [
      "Enter your name123\n",
      "Your Name is: 123\n",
      "<class 'str'>\n"
     ]
    }
   ],
   "source": [
    "text=input('Enter your name')\n",
    "print('Your Name is:',text)\n",
    "print(type(text))"
   ]
  },
  {
   "cell_type": "code",
   "execution_count": 4,
   "id": "1162b428",
   "metadata": {},
   "outputs": [
    {
     "name": "stdout",
     "output_type": "stream",
     "text": [
      "Enter any integer:cat\n",
      "The number is: cat\n",
      "<class 'str'>\n"
     ]
    }
   ],
   "source": [
    "# Althought the function wants to an inter, the type of the entered number is string.\n",
    "number=input('Enter any integer:')\n",
    "print('The number is:',number)\n",
    "print(type(number))"
   ]
  },
  {
   "cell_type": "code",
   "execution_count": 7,
   "id": "e96a95fa",
   "metadata": {},
   "outputs": [
    {
     "name": "stdout",
     "output_type": "stream",
     "text": [
      "Enter any number: 45\n",
      "Your Number is: 45\n",
      "<class 'int'>\n"
     ]
    }
   ],
   "source": [
    "num1=int(input('Enter any number: '))\n",
    "print('Your Number is:',num1)\n",
    "print(type(num1))"
   ]
  },
  {
   "cell_type": "code",
   "execution_count": 9,
   "id": "0f0da92a",
   "metadata": {},
   "outputs": [
    {
     "name": "stdout",
     "output_type": "stream",
     "text": [
      "8+8\n"
     ]
    }
   ],
   "source": [
    "x='8+8'\n",
    "print(x)"
   ]
  },
  {
   "cell_type": "markdown",
   "id": "995b453e",
   "metadata": {},
   "source": [
    "# eval() function\n",
    " * This Function serves the aim of converting a string to an integer or a float."
   ]
  },
  {
   "cell_type": "code",
   "execution_count": 16,
   "id": "be7702ba",
   "metadata": {},
   "outputs": [
    {
     "name": "stdout",
     "output_type": "stream",
     "text": [
      "Sum of the expression is 1863.236\n",
      "<class 'str'>\n",
      "<class 'float'>\n"
     ]
    }
   ],
   "source": [
    "expression='10+8+1011+789+45.236'\n",
    "total=eval(expression)\n",
    "print('Sum of the expression is',total)\n",
    "print(type(expression))\n",
    "print(type(total))"
   ]
  },
  {
   "cell_type": "markdown",
   "id": "305886f9",
   "metadata": {},
   "source": [
    "# format() function\n",
    " * This function helps to format the output printed on the screen with good look and attractive.\n",
    " "
   ]
  },
  {
   "cell_type": "code",
   "execution_count": 22,
   "id": "8f69ff40",
   "metadata": {},
   "outputs": [
    {
     "name": "stdout",
     "output_type": "stream",
     "text": [
      "Enter the pi number: 3.14\n",
      "Enter the golden ratio: 1.618\n",
      "sum of 3.14 and 1.618 is 4.758.\n"
     ]
    }
   ],
   "source": [
    "a = float(input('Enter the pi number: '))\n",
    "b =float(input('Enter the golden ratio: '))\n",
    "total=a+b\n",
    "print('sum of {} and {} is {}.'.format(a,b,total))\n"
   ]
  },
  {
   "cell_type": "code",
   "execution_count": null,
   "id": "cd21f1f8",
   "metadata": {},
   "outputs": [],
   "source": [
    "list1=['Hello','Hy',456.50,123,0.9,['World','Welcome'],True,False]\n",
    "list2=['Say','Cat',('Hello World','Congrates',12345,456.02),False]\n",
    "list3=[123,456,789,456,425]\n",
    "list4=['Vaishnav','Aarohi',('Padmavat','Ashoka',785,108,45.36),True,'World'[45,85]]\n",
    "list5=[455,789,753,45.258,{12,13,'Hello','World'},False,True,'Gaming']\n",
    "list6=[45,78,95,85,100,1200,45,63]\n",
    "list7=[78,95,85,63,45,12,100,1230,7895]"
   ]
  }
 ],
 "metadata": {
  "kernelspec": {
   "display_name": "Python 3 (ipykernel)",
   "language": "python",
   "name": "python3"
  },
  "language_info": {
   "codemirror_mode": {
    "name": "ipython",
    "version": 3
   },
   "file_extension": ".py",
   "mimetype": "text/x-python",
   "name": "python",
   "nbconvert_exporter": "python",
   "pygments_lexer": "ipython3",
   "version": "3.9.13"
  }
 },
 "nbformat": 4,
 "nbformat_minor": 5
}
